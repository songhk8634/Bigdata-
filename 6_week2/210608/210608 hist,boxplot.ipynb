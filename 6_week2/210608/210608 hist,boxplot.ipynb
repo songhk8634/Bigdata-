{
 "cells": [
  {
   "cell_type": "code",
   "execution_count": 1,
   "metadata": {},
   "outputs": [],
   "source": [
    "import numpy as np\n",
    "import pandas as pd\n",
    "import matplotlib.pyplot as plt\n",
    "import string\n",
    "from sklearn import datasets\n",
    "import seaborn as sns"
   ]
  },
  {
   "cell_type": "code",
   "execution_count": 2,
   "metadata": {},
   "outputs": [
    {
     "data": {
      "text/plain": [
       "array([[38, 54, 33, 69, 53, 45, 78, 40, 60, 64, 32, 64, 44, 64, 79, 78,\n",
       "        54, 45, 66, 73],\n",
       "       [80, 78, 36, 29, 22, 47, 24, 51, 21, 33, 24, 79, 87, 27, 69, 67,\n",
       "        85, 81, 34, 75]])"
      ]
     },
     "execution_count": 2,
     "metadata": {},
     "output_type": "execute_result"
    }
   ],
   "source": [
    "np.random.seed(100)\n",
    "scores_arr = np.vstack([np.random.choice(range(30,81), 20, replace = True),\n",
    "                       np.random.choice(range(20,91), 20, replace = True)])\n",
    "scores_arr"
   ]
  },
  {
   "cell_type": "code",
   "execution_count": 4,
   "metadata": {},
   "outputs": [],
   "source": [
    "scores_df = pd.DataFrame(scores_arr.T,columns = ['eng', 'math'])"
   ]
  },
  {
   "cell_type": "code",
   "execution_count": 5,
   "metadata": {},
   "outputs": [],
   "source": [
    "name = [name for name in string .ascii_uppercase[:20]]"
   ]
  },
  {
   "cell_type": "code",
   "execution_count": 6,
   "metadata": {},
   "outputs": [],
   "source": [
    "scores_df['name'] = name"
   ]
  },
  {
   "cell_type": "code",
   "execution_count": 7,
   "metadata": {},
   "outputs": [],
   "source": [
    "scores_df = scores_df[['name','eng','math']]"
   ]
  },
  {
   "cell_type": "code",
   "execution_count": 8,
   "metadata": {
    "collapsed": true,
    "jupyter": {
     "outputs_hidden": true
    }
   },
   "outputs": [
    {
     "data": {
      "text/html": [
       "<div>\n",
       "<style scoped>\n",
       "    .dataframe tbody tr th:only-of-type {\n",
       "        vertical-align: middle;\n",
       "    }\n",
       "\n",
       "    .dataframe tbody tr th {\n",
       "        vertical-align: top;\n",
       "    }\n",
       "\n",
       "    .dataframe thead th {\n",
       "        text-align: right;\n",
       "    }\n",
       "</style>\n",
       "<table border=\"1\" class=\"dataframe\">\n",
       "  <thead>\n",
       "    <tr style=\"text-align: right;\">\n",
       "      <th></th>\n",
       "      <th>name</th>\n",
       "      <th>eng</th>\n",
       "      <th>math</th>\n",
       "    </tr>\n",
       "  </thead>\n",
       "  <tbody>\n",
       "    <tr>\n",
       "      <td>0</td>\n",
       "      <td>A</td>\n",
       "      <td>38</td>\n",
       "      <td>80</td>\n",
       "    </tr>\n",
       "    <tr>\n",
       "      <td>1</td>\n",
       "      <td>B</td>\n",
       "      <td>54</td>\n",
       "      <td>78</td>\n",
       "    </tr>\n",
       "    <tr>\n",
       "      <td>2</td>\n",
       "      <td>C</td>\n",
       "      <td>33</td>\n",
       "      <td>36</td>\n",
       "    </tr>\n",
       "    <tr>\n",
       "      <td>3</td>\n",
       "      <td>D</td>\n",
       "      <td>69</td>\n",
       "      <td>29</td>\n",
       "    </tr>\n",
       "    <tr>\n",
       "      <td>4</td>\n",
       "      <td>E</td>\n",
       "      <td>53</td>\n",
       "      <td>22</td>\n",
       "    </tr>\n",
       "    <tr>\n",
       "      <td>5</td>\n",
       "      <td>F</td>\n",
       "      <td>45</td>\n",
       "      <td>47</td>\n",
       "    </tr>\n",
       "    <tr>\n",
       "      <td>6</td>\n",
       "      <td>G</td>\n",
       "      <td>78</td>\n",
       "      <td>24</td>\n",
       "    </tr>\n",
       "    <tr>\n",
       "      <td>7</td>\n",
       "      <td>H</td>\n",
       "      <td>40</td>\n",
       "      <td>51</td>\n",
       "    </tr>\n",
       "    <tr>\n",
       "      <td>8</td>\n",
       "      <td>I</td>\n",
       "      <td>60</td>\n",
       "      <td>21</td>\n",
       "    </tr>\n",
       "    <tr>\n",
       "      <td>9</td>\n",
       "      <td>J</td>\n",
       "      <td>64</td>\n",
       "      <td>33</td>\n",
       "    </tr>\n",
       "    <tr>\n",
       "      <td>10</td>\n",
       "      <td>K</td>\n",
       "      <td>32</td>\n",
       "      <td>24</td>\n",
       "    </tr>\n",
       "    <tr>\n",
       "      <td>11</td>\n",
       "      <td>L</td>\n",
       "      <td>64</td>\n",
       "      <td>79</td>\n",
       "    </tr>\n",
       "    <tr>\n",
       "      <td>12</td>\n",
       "      <td>M</td>\n",
       "      <td>44</td>\n",
       "      <td>87</td>\n",
       "    </tr>\n",
       "    <tr>\n",
       "      <td>13</td>\n",
       "      <td>N</td>\n",
       "      <td>64</td>\n",
       "      <td>27</td>\n",
       "    </tr>\n",
       "    <tr>\n",
       "      <td>14</td>\n",
       "      <td>O</td>\n",
       "      <td>79</td>\n",
       "      <td>69</td>\n",
       "    </tr>\n",
       "    <tr>\n",
       "      <td>15</td>\n",
       "      <td>P</td>\n",
       "      <td>78</td>\n",
       "      <td>67</td>\n",
       "    </tr>\n",
       "    <tr>\n",
       "      <td>16</td>\n",
       "      <td>Q</td>\n",
       "      <td>54</td>\n",
       "      <td>85</td>\n",
       "    </tr>\n",
       "    <tr>\n",
       "      <td>17</td>\n",
       "      <td>R</td>\n",
       "      <td>45</td>\n",
       "      <td>81</td>\n",
       "    </tr>\n",
       "    <tr>\n",
       "      <td>18</td>\n",
       "      <td>S</td>\n",
       "      <td>66</td>\n",
       "      <td>34</td>\n",
       "    </tr>\n",
       "    <tr>\n",
       "      <td>19</td>\n",
       "      <td>T</td>\n",
       "      <td>73</td>\n",
       "      <td>75</td>\n",
       "    </tr>\n",
       "  </tbody>\n",
       "</table>\n",
       "</div>"
      ],
      "text/plain": [
       "   name  eng  math\n",
       "0     A   38    80\n",
       "1     B   54    78\n",
       "2     C   33    36\n",
       "3     D   69    29\n",
       "4     E   53    22\n",
       "5     F   45    47\n",
       "6     G   78    24\n",
       "7     H   40    51\n",
       "8     I   60    21\n",
       "9     J   64    33\n",
       "10    K   32    24\n",
       "11    L   64    79\n",
       "12    M   44    87\n",
       "13    N   64    27\n",
       "14    O   79    69\n",
       "15    P   78    67\n",
       "16    Q   54    85\n",
       "17    R   45    81\n",
       "18    S   66    34\n",
       "19    T   73    75"
      ]
     },
     "execution_count": 8,
     "metadata": {},
     "output_type": "execute_result"
    }
   ],
   "source": [
    "scores_df"
   ]
  },
  {
   "cell_type": "code",
   "execution_count": 11,
   "metadata": {},
   "outputs": [
    {
     "data": {
      "text/html": [
       "<div>\n",
       "<style scoped>\n",
       "    .dataframe tbody tr th:only-of-type {\n",
       "        vertical-align: middle;\n",
       "    }\n",
       "\n",
       "    .dataframe tbody tr th {\n",
       "        vertical-align: top;\n",
       "    }\n",
       "\n",
       "    .dataframe thead th {\n",
       "        text-align: right;\n",
       "    }\n",
       "</style>\n",
       "<table border=\"1\" class=\"dataframe\">\n",
       "  <thead>\n",
       "    <tr style=\"text-align: right;\">\n",
       "      <th></th>\n",
       "      <th>eng</th>\n",
       "      <th>math</th>\n",
       "    </tr>\n",
       "  </thead>\n",
       "  <tbody>\n",
       "    <tr>\n",
       "      <td>count</td>\n",
       "      <td>20.000000</td>\n",
       "      <td>20.000000</td>\n",
       "    </tr>\n",
       "    <tr>\n",
       "      <td>mean</td>\n",
       "      <td>56.650000</td>\n",
       "      <td>52.450000</td>\n",
       "    </tr>\n",
       "    <tr>\n",
       "      <td>std</td>\n",
       "      <td>15.118044</td>\n",
       "      <td>25.060926</td>\n",
       "    </tr>\n",
       "    <tr>\n",
       "      <td>min</td>\n",
       "      <td>32.000000</td>\n",
       "      <td>21.000000</td>\n",
       "    </tr>\n",
       "    <tr>\n",
       "      <td>25%</td>\n",
       "      <td>44.750000</td>\n",
       "      <td>28.500000</td>\n",
       "    </tr>\n",
       "    <tr>\n",
       "      <td>50%</td>\n",
       "      <td>57.000000</td>\n",
       "      <td>49.000000</td>\n",
       "    </tr>\n",
       "    <tr>\n",
       "      <td>75%</td>\n",
       "      <td>66.750000</td>\n",
       "      <td>78.250000</td>\n",
       "    </tr>\n",
       "    <tr>\n",
       "      <td>max</td>\n",
       "      <td>79.000000</td>\n",
       "      <td>87.000000</td>\n",
       "    </tr>\n",
       "  </tbody>\n",
       "</table>\n",
       "</div>"
      ],
      "text/plain": [
       "             eng       math\n",
       "count  20.000000  20.000000\n",
       "mean   56.650000  52.450000\n",
       "std    15.118044  25.060926\n",
       "min    32.000000  21.000000\n",
       "25%    44.750000  28.500000\n",
       "50%    57.000000  49.000000\n",
       "75%    66.750000  78.250000\n",
       "max    79.000000  87.000000"
      ]
     },
     "execution_count": 11,
     "metadata": {},
     "output_type": "execute_result"
    }
   ],
   "source": [
    "scores_df.describe()"
   ]
  },
  {
   "cell_type": "markdown",
   "metadata": {},
   "source": [
    "우리반의 영어와 수학 시험 결과 분석(기술통계 : descriptive stats analysis)  \n",
    "  \n",
    "응시자는 20명으로 동일하며, 평균 점수는 영어가 수학보다 4점 가량 높은 것으로 나타났다. 영어의 최소 최대값은 32-79점으로 수학의 최소 최대값인 21-87점보다 더 좁은 범위를 보이고 있다. 영어의 평균 점수와 중앙값은 거의 일치하는 것으로 보아 32-79점 사이에 비교적 고르게 분포하고 있을 것으로 판단된다. 반면 수학의 평균은 52.45로 중앙값 49보다 3.5점 가량 높게 나타났고 전체적인 분포에서 고득점자(들)가 존재할 것으로 보여진다. 표준편차를 살펴보아도 수학의 편차가 10점가량 커서 전체적인 산포가 영어보다 넓다."
   ]
  },
  {
   "cell_type": "markdown",
   "metadata": {},
   "source": [
    "[mean]"
   ]
  },
  {
   "cell_type": "code",
   "execution_count": 15,
   "metadata": {},
   "outputs": [
    {
     "data": {
      "text/plain": [
       "eng     56.65\n",
       "math    52.45\n",
       "Name: mean, dtype: float64"
      ]
     },
     "execution_count": 15,
     "metadata": {},
     "output_type": "execute_result"
    }
   ],
   "source": [
    "scores_df.describe().iloc[1]"
   ]
  },
  {
   "cell_type": "code",
   "execution_count": 16,
   "metadata": {},
   "outputs": [
    {
     "data": {
      "text/plain": [
       "56.65"
      ]
     },
     "execution_count": 16,
     "metadata": {},
     "output_type": "execute_result"
    }
   ],
   "source": [
    "scores_df['eng'].mean()"
   ]
  },
  {
   "cell_type": "code",
   "execution_count": 21,
   "metadata": {},
   "outputs": [
    {
     "data": {
      "text/plain": [
       "66.75"
      ]
     },
     "execution_count": 21,
     "metadata": {},
     "output_type": "execute_result"
    }
   ],
   "source": [
    "np.percentile(scores_df['eng'],75)"
   ]
  },
  {
   "cell_type": "code",
   "execution_count": 20,
   "metadata": {},
   "outputs": [
    {
     "data": {
      "text/plain": [
       "eng     66.75\n",
       "math    78.25\n",
       "Name: 0.75, dtype: float64"
      ]
     },
     "execution_count": 20,
     "metadata": {},
     "output_type": "execute_result"
    }
   ],
   "source": [
    "scores_df.quantile(0.75)"
   ]
  },
  {
   "cell_type": "markdown",
   "metadata": {},
   "source": [
    "분산과 표준편차의 사용에는 주의가 필요하다.  \n",
    "넘파이와 판다스에서 default로 반환하는 분산의 값이 서로 다르기 때문.  \n",
    "  \n",
    "넘파이는 데이터 자체의 분산을 계산하는 반면,  \n",
    "판다스는 표본분산 (불편분산이라 칭함)을 계산한다. (표본표준편차) (n-1)로 나눈 값"
   ]
  },
  {
   "cell_type": "code",
   "execution_count": 22,
   "metadata": {},
   "outputs": [
    {
     "data": {
      "text/plain": [
       "15.11804429011553"
      ]
     },
     "execution_count": 22,
     "metadata": {},
     "output_type": "execute_result"
    }
   ],
   "source": [
    "# eng 표준편차\n",
    "scores_df.describe().loc['std'][0]"
   ]
  },
  {
   "cell_type": "code",
   "execution_count": 23,
   "metadata": {},
   "outputs": [
    {
     "data": {
      "text/plain": [
       "14.735246859146947"
      ]
     },
     "execution_count": 23,
     "metadata": {},
     "output_type": "execute_result"
    }
   ],
   "source": [
    "np.std(scores_df['eng'])"
   ]
  },
  {
   "cell_type": "code",
   "execution_count": 24,
   "metadata": {},
   "outputs": [
    {
     "data": {
      "text/plain": [
       "15.11804429011553"
      ]
     },
     "execution_count": 24,
     "metadata": {},
     "output_type": "execute_result"
    }
   ],
   "source": [
    "scores_df['eng'].std()"
   ]
  },
  {
   "cell_type": "code",
   "execution_count": 25,
   "metadata": {},
   "outputs": [
    {
     "data": {
      "text/plain": [
       "14.735246859146947"
      ]
     },
     "execution_count": 25,
     "metadata": {},
     "output_type": "execute_result"
    }
   ],
   "source": [
    "scores_df['eng'].std(ddof = 0)"
   ]
  },
  {
   "cell_type": "code",
   "execution_count": 26,
   "metadata": {},
   "outputs": [
    {
     "data": {
      "text/plain": [
       "15.11804429011553"
      ]
     },
     "execution_count": 26,
     "metadata": {},
     "output_type": "execute_result"
    }
   ],
   "source": [
    "np.std(scores_df['eng'],ddof=1)"
   ]
  },
  {
   "cell_type": "markdown",
   "metadata": {},
   "source": [
    "현재 데이터 자체의 표준편차를 구할 때는 넘파이 std() 디폴트를 사용하거나,  \n",
    "판다스 std()의 ddof = 0 parameter를 적용한다.  \n",
    "  "
   ]
  },
  {
   "cell_type": "markdown",
   "metadata": {},
   "source": [
    "[표준편차와 표본표준편차 직접 구해보기]"
   ]
  },
  {
   "cell_type": "code",
   "execution_count": 28,
   "metadata": {},
   "outputs": [],
   "source": [
    "n = 20\n",
    "variance_eng = np.array(scores_df['eng']) - np.mean(scores_df['eng'])"
   ]
  },
  {
   "cell_type": "code",
   "execution_count": 29,
   "metadata": {},
   "outputs": [
    {
     "data": {
      "text/plain": [
       "14.735246859146947"
      ]
     },
     "execution_count": 29,
     "metadata": {},
     "output_type": "execute_result"
    }
   ],
   "source": [
    "# 표준편차\n",
    "np.sqrt(sum(variance_eng ** 2)/n)"
   ]
  },
  {
   "cell_type": "code",
   "execution_count": 30,
   "metadata": {},
   "outputs": [
    {
     "data": {
      "text/plain": [
       "15.11804429011553"
      ]
     },
     "execution_count": 30,
     "metadata": {},
     "output_type": "execute_result"
    }
   ],
   "source": [
    "# 표본표준편차\n",
    "np.sqrt(sum(variance_eng ** 2)/(n-1))"
   ]
  },
  {
   "cell_type": "markdown",
   "metadata": {},
   "source": [
    "## **[시각화] : 도수분포표**"
   ]
  },
  {
   "cell_type": "code",
   "execution_count": 31,
   "metadata": {},
   "outputs": [
    {
     "data": {
      "text/plain": [
       "array([  0.,  10.,  20.,  30.,  40.,  50.,  60.,  70.,  80.,  90., 100.])"
      ]
     },
     "execution_count": 31,
     "metadata": {},
     "output_type": "execute_result"
    }
   ],
   "source": [
    "np.linspace(0,100,10+1)"
   ]
  },
  {
   "cell_type": "code",
   "execution_count": 32,
   "metadata": {},
   "outputs": [
    {
     "data": {
      "image/png": "[encoded data removed]",
      "text/plain": [
       "<Figure size 432x288 with 1 Axes>"
      ]
     },
     "metadata": {
      "needs_background": "light"
     },
     "output_type": "display_data"
    }
   ],
   "source": [
    "plt.hist(scores_df['eng'], bins = 10, range = (0,100), rwidth = 0.7)\n",
    "plt.xticks(np.linspace(0,100,10+1))\n",
    "plt.show()"
   ]
  },
  {
   "cell_type": "markdown",
   "metadata": {},
   "source": [
    "## **누적상대도수 함께 표현하기**"
   ]
  },
  {
   "cell_type": "code",
   "execution_count": 33,
   "metadata": {},
   "outputs": [
    {
     "data": {
      "text/plain": [
       "(array([0, 0, 0, 3, 4, 3, 6, 4, 0, 0], dtype=int64),\n",
       " array([  0.,  10.,  20.,  30.,  40.,  50.,  60.,  70.,  80.,  90., 100.]))"
      ]
     },
     "execution_count": 33,
     "metadata": {},
     "output_type": "execute_result"
    }
   ],
   "source": [
    "np.histogram(scores_df['eng'], bins = 10, range = (0,100))"
   ]
  },
  {
   "cell_type": "code",
   "execution_count": 91,
   "metadata": {},
   "outputs": [],
   "source": [
    "rel_freq, _ = np.histogram(scores_df['eng'], bins = 10, range = (0,100))\n",
    "np.cumsum(rel_freq) / sum(rel_freq)\n",
    "cum_rel_freq = np.cumsum(rel_freq) / sum(rel_freq)"
   ]
  },
  {
   "cell_type": "code",
   "execution_count": 45,
   "metadata": {},
   "outputs": [
    {
     "data": {
      "image/png": "[encoded data removed]",
      "text/plain": [
       "<Figure size 432x288 with 2 Axes>"
      ]
     },
     "metadata": {
      "needs_background": "light"
     },
     "output_type": "display_data"
    }
   ],
   "source": [
    "plt.hist(scores_df['eng'], bins = 10, range = (0,100), rwidth = 0.7)\n",
    "plt.twinx()\n",
    "plt.plot(np.linspace(0,100,10), cum_rel_freq)\n",
    "plt.xticks(np.linspace(0,100,10+1))\n",
    "plt.show()"
   ]
  },
  {
   "cell_type": "code",
   "execution_count": 58,
   "metadata": {},
   "outputs": [
    {
     "data": {
      "image/png": "[encoded data removed]",
      "text/plain": [
       "<Figure size 720x432 with 2 Axes>"
      ]
     },
     "metadata": {
      "needs_background": "light"
     },
     "output_type": "display_data"
    }
   ],
   "source": [
    "fig = plt.figure(figsize = (10,6))\n",
    "ax1 = fig.add_subplot()\n",
    "ax2 = ax1.twinx()\n",
    "\n",
    "ax1.hist(scores_df['eng'], bins = 10, range = (0,100), rwidth = 0.7, color = 'skyblue')\n",
    "ax2.plot(np.linspace(0,100,10), cum_rel_freq, color = 'red', ls = '-.')\n",
    "\n",
    "ax1.set_xticks(np.linspace(0,100,10+1))\n",
    "ax1.set_xlabel('score')\n",
    "ax1.set_ylabel('freq')\n",
    "ax2.set_ylabel('cum_freq')\n",
    "ax1.grid(ls = ':', alpha = 0.5)\n",
    "ax1.set_title('영어 성적 분포 및 누적상대도수')\n",
    "import matplotlib.font_manager as fm\n",
    "font_path = 'C:/windows/Fonts/gulim.ttc'\n",
    "font_name = fm.FontProperties(fname = font_path).get_name()\n",
    "plt.rcParams['font.family'] = font_name\n",
    "plt.show()"
   ]
  },
  {
   "cell_type": "code",
   "execution_count": 66,
   "metadata": {},
   "outputs": [
    {
     "data": {
      "image/png": "[encoded data removed]",
      "text/plain": [
       "<Figure size 576x360 with 2 Axes>"
      ]
     },
     "metadata": {
      "needs_background": "light"
     },
     "output_type": "display_data"
    }
   ],
   "source": [
    "fig, ax = plt.subplots(1, 2, figsize = (8,5), sharey = True)\n",
    "scores_df['eng'].plot.box(ax = ax[0])\n",
    "scores_df['math'].plot.box(ax = ax[1])\n",
    "plt.show()"
   ]
  },
  {
   "cell_type": "code",
   "execution_count": 112,
   "metadata": {},
   "outputs": [
    {
     "name": "stderr",
     "output_type": "stream",
     "text": [
      "No handles with labels found to put in legend.\n"
     ]
    },
    {
     "data": {
      "text/plain": [
       "<matplotlib.legend.Legend at 0x15a1bf30648>"
      ]
     },
     "execution_count": 112,
     "metadata": {},
     "output_type": "execute_result"
    },
    {
     "data": {
      "image/png": "[encoded data removed]",
      "text/plain": [
       "<Figure size 432x288 with 4 Axes>"
      ]
     },
     "metadata": {
      "needs_background": "light"
     },
     "output_type": "display_data"
    }
   ],
   "source": [
    "ax1 = plt.subplot(211)\n",
    "ax_1 = ax1.twinx()\n",
    "ax1.hist(scores_df['eng'], bins = 10, range = (0,100), rwidth = 0.7, color = 'skyblue', label = 'English')\n",
    "ax_1.plot(np.linspace(0,100,10), cum_rel_freq, color = 'red', ls = '-.', label = '누적상대도수')\n",
    "ax1.set_xticks(np.linspace(0,100,10+1))\n",
    "ax1.set_xlabel('score')\n",
    "ax1.set_ylabel('freq')\n",
    "ax_1.set_ylabel('cum_freq')\n",
    "ax1.grid(ls = ':', alpha = 0.5)\n",
    "ax1.set_title('성적 분포 및 누적상대도수')\n",
    "import matplotlib.font_manager as fm\n",
    "font_path = 'C:/windows/Fonts/gulim.ttc'\n",
    "font_name = fm.FontProperties(fname = font_path).get_name()\n",
    "plt.rcParams['font.family'] = font_name\n",
    "plt.legend(loc = 'lower right')\n",
    "\n",
    "rel_freq2, _ = np.histogram(scores_df['math'], bins = 10, range = (0,100))\n",
    "np.cumsum(rel_freq2) / sum(rel_freq2)\n",
    "cum_rel_freq2 = np.cumsum(rel_freq2) / sum(rel_freq2)\n",
    "\n",
    "ax2 = plt.subplot(212)\n",
    "ax_2 = ax2.twinx()\n",
    "hist_2= ax2.hist(scores_df['math'], bins = 10, range = (0,100), rwidth = 0.7, color = 'green', label = 'Math')\n",
    "line_2= ax_2.plot(np.linspace(0,100,10), cum_rel_freq2, color = 'red', ls = '-.')\n",
    "ax2.set_xticks(np.linspace(0,100,10+1))\n",
    "ax2.set_xlabel('score')\n",
    "ax2.set_ylabel('freq')\n",
    "ax_2.set_ylabel('cum_freq')\n",
    "ax2.grid(ls = ':', alpha = 0.5)\n",
    "import matplotlib.font_manager as fm\n",
    "font_path = 'C:/windows/Fonts/gulim.ttc'\n",
    "font_name = fm.FontProperties(fname = font_path).get_name()\n",
    "plt.rcParams['font.family'] = font_name\n",
    "plt.legend()"
   ]
  },
  {
   "cell_type": "code",
   "execution_count": 140,
   "metadata": {},
   "outputs": [
    {
     "name": "stderr",
     "output_type": "stream",
     "text": [
      "No handles with labels found to put in legend.\n"
     ]
    },
    {
     "data": {
      "image/png": "[encoded data removed]",
      "text/plain": [
       "<Figure size 720x576 with 4 Axes>"
      ]
     },
     "metadata": {
      "needs_background": "light"
     },
     "output_type": "display_data"
    }
   ],
   "source": [
    "f, (ax1, ax2) = plt.subplots(2, figsize = (10,8),sharex=True, sharey=True)\n",
    "\n",
    "\n",
    "ax_1 = ax1.twinx()\n",
    "ax1.hist(scores_df['eng'], bins = 10, range = (0,100), rwidth = 0.7, color = 'skyblue', label = 'English')\n",
    "ax_1.plot(np.linspace(0,100,10), cum_rel_freq, color = 'red', ls = '-.', label = '누적상대도수')\n",
    "ax1.set_xticks(np.linspace(0,100,10+1))\n",
    "ax1.set_xlabel('score')\n",
    "ax1.set_ylabel('freq')\n",
    "ax_1.set_ylabel('cum_freq')\n",
    "ax1.grid(ls = ':', alpha = 0.5)\n",
    "ax1.set_title('성적 분포 및 누적상대도수')\n",
    "import matplotlib.font_manager as fm\n",
    "font_path = 'C:/windows/Fonts/gulim.ttc'\n",
    "font_name = fm.FontProperties(fname = font_path).get_name()\n",
    "plt.rcParams['font.family'] = font_name\n",
    "plt.legend(loc = 'lower right')\n",
    "\n",
    "ax_2 = ax2.twinx()\n",
    "line_2= ax_2.plot(np.linspace(0,100,10), cum_rel_freq2, color = 'red', ls = '-.')\n",
    "hist_2= ax2.hist(scores_df['math'], bins = 10, range = (0,100), rwidth = 0.7, color = 'green', label = 'Math')\n",
    "\n",
    "ax2.set_xticks(np.linspace(0,100,10+1))\n",
    "ax2.set_xlabel('score')\n",
    "ax2.set_ylabel('freq')\n",
    "ax_2.set_ylabel('cum_freq')\n",
    "ax2.grid(ls = ':', alpha = 0.5)\n",
    "import matplotlib.font_manager as fm\n",
    "font_path = 'C:/windows/Fonts/gulim.ttc'\n",
    "font_name = fm.FontProperties(fname = font_path).get_name()\n",
    "plt.rcParams['font.family'] = font_name\n",
    "\n",
    "plt.legend()\n",
    "plt.show()"
   ]
  },
  {
   "cell_type": "markdown",
   "metadata": {},
   "source": [
    "# **[연습]**\n",
    "iris 데이터의 4개 변수(feature)에 이상치가 존재하는지 조사해보세요"
   ]
  },
  {
   "cell_type": "code",
   "execution_count": 118,
   "metadata": {},
   "outputs": [],
   "source": [
    "iris = datasets.load_iris()"
   ]
  },
  {
   "cell_type": "code",
   "execution_count": 120,
   "metadata": {},
   "outputs": [
    {
     "data": {
      "image/png": "[encoded data removed]",
      "text/plain": [
       "<Figure size 864x432 with 4 Axes>"
      ]
     },
     "metadata": {
      "needs_background": "light"
     },
     "output_type": "display_data"
    }
   ],
   "source": [
    "fig, axes = plt.subplots(1, 4, figsize = (12,6))\n",
    "\n",
    "for i in range(4):\n",
    "    axes[i].boxplot(iris['data'][:,i])\n",
    "    axes[i].set_xlabel(iris['feature_names'][i])"
   ]
  },
  {
   "cell_type": "code",
   "execution_count": 128,
   "metadata": {},
   "outputs": [
    {
     "data": {
      "text/plain": [
       "array([2.])"
      ]
     },
     "execution_count": 128,
     "metadata": {},
     "output_type": "execute_result"
    }
   ],
   "source": [
    "iris['data'][iris['data'][:,1] <= 2.1,1]"
   ]
  },
  {
   "cell_type": "code",
   "execution_count": 131,
   "metadata": {},
   "outputs": [
    {
     "data": {
      "text/plain": [
       "array([4.4, 4.1, 4.2])"
      ]
     },
     "execution_count": 131,
     "metadata": {},
     "output_type": "execute_result"
    }
   ],
   "source": [
    "iris['data'][iris['data'][:,1] > 4.0,1]"
   ]
  },
  {
   "cell_type": "code",
   "execution_count": 132,
   "metadata": {},
   "outputs": [],
   "source": [
    "iris_sepalW = iris['data'][:,1]"
   ]
  },
  {
   "cell_type": "code",
   "execution_count": 133,
   "metadata": {},
   "outputs": [],
   "source": [
    "sepalW = pd.Series(iris['data'][:,1])"
   ]
  },
  {
   "cell_type": "code",
   "execution_count": 134,
   "metadata": {},
   "outputs": [
    {
     "data": {
      "text/plain": [
       "count    150.000000\n",
       "mean       3.057333\n",
       "std        0.435866\n",
       "min        2.000000\n",
       "25%        2.800000\n",
       "50%        3.000000\n",
       "75%        3.300000\n",
       "max        4.400000\n",
       "dtype: float64"
      ]
     },
     "execution_count": 134,
     "metadata": {},
     "output_type": "execute_result"
    }
   ],
   "source": [
    "sepalW.describe()"
   ]
  },
  {
   "cell_type": "markdown",
   "metadata": {},
   "source": [
    "### IQR 계산 (75% - 25%)"
   ]
  },
  {
   "cell_type": "code",
   "execution_count": 135,
   "metadata": {},
   "outputs": [],
   "source": [
    "IQR = sepalW.describe().loc['75%'] - sepalW.describe().loc['25%']"
   ]
  },
  {
   "cell_type": "code",
   "execution_count": 136,
   "metadata": {},
   "outputs": [
    {
     "data": {
      "text/plain": [
       "0.5"
      ]
     },
     "execution_count": 136,
     "metadata": {},
     "output_type": "execute_result"
    }
   ],
   "source": [
    "IQR"
   ]
  },
  {
   "cell_type": "markdown",
   "metadata": {},
   "source": [
    "### 극단치 경계 계산"
   ]
  },
  {
   "cell_type": "code",
   "execution_count": 137,
   "metadata": {},
   "outputs": [
    {
     "data": {
      "text/plain": [
       "4.05"
      ]
     },
     "execution_count": 137,
     "metadata": {},
     "output_type": "execute_result"
    }
   ],
   "source": [
    "# normal_range\n",
    "sepalW.describe().loc['75%'] + 1.5 * IQR"
   ]
  },
  {
   "cell_type": "code",
   "execution_count": 138,
   "metadata": {},
   "outputs": [
    {
     "data": {
      "text/plain": [
       "2.05"
      ]
     },
     "execution_count": 138,
     "metadata": {},
     "output_type": "execute_result"
    }
   ],
   "source": [
    "sepalW.describe().loc['25%'] - 1.5 * IQR"
   ]
  },
  {
   "cell_type": "code",
   "execution_count": null,
   "metadata": {},
   "outputs": [],
   "source": []
  }
 ],
 "metadata": {
  "kernelspec": {
   "display_name": "Python 3",
   "language": "python",
   "name": "python3"
  },
  "language_info": {
   "codemirror_mode": {
    "name": "ipython",
    "version": 3
   },
   "file_extension": ".py",
   "mimetype": "text/x-python",
   "name": "python",
   "nbconvert_exporter": "python",
   "pygments_lexer": "ipython3",
   "version": "3.7.4"
  }
 },
 "nbformat": 4,
 "nbformat_minor": 4
}
