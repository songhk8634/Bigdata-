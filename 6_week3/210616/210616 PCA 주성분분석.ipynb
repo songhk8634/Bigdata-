{
 "cells": [
  {
   "cell_type": "markdown",
   "metadata": {},
   "source": [
    "## **Principal Component Analysis(PCA, 주성분분석)**  \n",
    "1. 주성분 분석은 차원축소를 위해 사용됨  \n",
    "  --> 고차원의 데이터를 저차원의 데이터로 feature extraction 가능  \n",
    "    \n",
    "    - 목적  \n",
    "      - 차원(dimension)을 감소시켜 시각화에 도움  \n",
    "      - 변수의 수를 줄임\n",
    "    - 기대효과  \n",
    "      - 통계 : 적은 수의 특성으로 특정 현상을 설명  \n",
    "      - 머신러닝 : 모델 성능 강화  \n",
    "2. 개념  \n",
    "  - 여러개의 양적 변수들 사이의 공분산(상관계수)를 이용하여\n",
    "  - 변수들의 선형결합으로 표시되는 주성분을 찾음(축의 개념)  \n",
    "  - 2~3개의 주성분으로 전체 분산(variance)의 대부분을 설명하고자 하는 다변량 분석법\n",
    "  - 원 데이터의 소실없이 데이터를 잘 설명할 수 있는 변수들의 선형 조합을 찾는 것"
   ]
  },
  {
   "cell_type": "code",
   "execution_count": 1,
   "metadata": {},
   "outputs": [],
   "source": [
    "import pandas as pd\n",
    "import numpy as np\n",
    "import matplotlib.pyplot as plt\n",
    "from sklearn import datasets"
   ]
  },
  {
   "cell_type": "markdown",
   "metadata": {},
   "source": [
    "**[eigenvector / eigenvalue]**  \n",
    " - 특징  \n",
    "   - n by n 정방행렬은 n개의 eigenvector 를 가짐 (n개의 eigenvalue)  \n",
    " - 제약 : pca에서 eigenvector의 loading 계수 제곱합은 1"
   ]
  },
  {
   "cell_type": "markdown",
   "metadata": {},
   "source": [
    "#### **[Linear Transform]**"
   ]
  },
  {
   "cell_type": "code",
   "execution_count": 2,
   "metadata": {},
   "outputs": [],
   "source": [
    "matrix_a = np.array([[2,3],\n",
    "                    [2,1]])"
   ]
  },
  {
   "cell_type": "code",
   "execution_count": 4,
   "metadata": {},
   "outputs": [],
   "source": [
    "vec = np.array([[1],[3]])"
   ]
  },
  {
   "cell_type": "code",
   "execution_count": 5,
   "metadata": {},
   "outputs": [
    {
     "data": {
      "text/plain": [
       "array([[11],\n",
       "       [ 5]])"
      ]
     },
     "execution_count": 5,
     "metadata": {},
     "output_type": "execute_result"
    }
   ],
   "source": [
    "np.dot(matrix_a, vec)"
   ]
  },
  {
   "cell_type": "markdown",
   "metadata": {},
   "source": [
    "**[eigenvector & eigenvalue]**"
   ]
  },
  {
   "cell_type": "code",
   "execution_count": 6,
   "metadata": {},
   "outputs": [],
   "source": [
    "eigen_a = np.array([[3],[2]])"
   ]
  },
  {
   "cell_type": "code",
   "execution_count": 8,
   "metadata": {},
   "outputs": [
    {
     "data": {
      "text/plain": [
       "array([[12],\n",
       "       [ 8]])"
      ]
     },
     "execution_count": 8,
     "metadata": {},
     "output_type": "execute_result"
    }
   ],
   "source": [
    "np.dot(matrix_a, eigen_a)"
   ]
  },
  {
   "cell_type": "markdown",
   "metadata": {},
   "source": [
    "### **how to calculate eigenvector?**"
   ]
  },
  {
   "cell_type": "code",
   "execution_count": 9,
   "metadata": {},
   "outputs": [],
   "source": [
    "a = np.array([[3,0,1], [-4,1,2],[-6,0,-2]])"
   ]
  },
  {
   "cell_type": "code",
   "execution_count": 10,
   "metadata": {},
   "outputs": [
    {
     "data": {
      "text/plain": [
       "array([[ 3,  0,  1],\n",
       "       [-4,  1,  2],\n",
       "       [-6,  0, -2]])"
      ]
     },
     "execution_count": 10,
     "metadata": {},
     "output_type": "execute_result"
    }
   ],
   "source": [
    "a"
   ]
  },
  {
   "cell_type": "code",
   "execution_count": 11,
   "metadata": {},
   "outputs": [
    {
     "data": {
      "text/plain": [
       "(array([ 1.00000000e+00,  1.00000000e+00, -2.22044605e-16]),\n",
       " array([[ 0.00000000e+00,  5.55111512e-17, -9.53462589e-02],\n",
       "        [ 1.00000000e+00, -1.00000000e+00, -9.53462589e-01],\n",
       "        [ 0.00000000e+00, -1.11022302e-16,  2.86038777e-01]]))"
      ]
     },
     "execution_count": 11,
     "metadata": {},
     "output_type": "execute_result"
    }
   ],
   "source": [
    "np.linalg.eig(a)"
   ]
  },
  {
   "cell_type": "code",
   "execution_count": 12,
   "metadata": {},
   "outputs": [],
   "source": [
    "eig_val, eig_vec = np.linalg.eig(a)"
   ]
  },
  {
   "cell_type": "code",
   "execution_count": 16,
   "metadata": {},
   "outputs": [
    {
     "data": {
      "text/plain": [
       "array([[0.],\n",
       "       [1.],\n",
       "       [0.]])"
      ]
     },
     "execution_count": 16,
     "metadata": {},
     "output_type": "execute_result"
    }
   ],
   "source": [
    "eig_vec[:, np.newaxis,0]"
   ]
  },
  {
   "cell_type": "code",
   "execution_count": 19,
   "metadata": {},
   "outputs": [
    {
     "data": {
      "text/plain": [
       "array([[ 5.55111512e-17],\n",
       "       [-1.00000000e+00],\n",
       "       [-1.11022302e-16]])"
      ]
     },
     "execution_count": 19,
     "metadata": {},
     "output_type": "execute_result"
    }
   ],
   "source": [
    "eig_vec[:, np.newaxis,1]"
   ]
  },
  {
   "cell_type": "code",
   "execution_count": 20,
   "metadata": {},
   "outputs": [
    {
     "data": {
      "text/plain": [
       "array([[-0.09534626],\n",
       "       [-0.95346259],\n",
       "       [ 0.28603878]])"
      ]
     },
     "execution_count": 20,
     "metadata": {},
     "output_type": "execute_result"
    }
   ],
   "source": [
    "eig_vec[:, np.newaxis,2]"
   ]
  },
  {
   "cell_type": "code",
   "execution_count": 21,
   "metadata": {},
   "outputs": [
    {
     "data": {
      "text/plain": [
       "1.0"
      ]
     },
     "execution_count": 21,
     "metadata": {},
     "output_type": "execute_result"
    }
   ],
   "source": [
    "# 세번째 고유벡터의 제곱합\n",
    "np.sum(eig_vec[:, np.newaxis, 2]**2)"
   ]
  },
  {
   "cell_type": "markdown",
   "metadata": {},
   "source": [
    "**[covariance의 이해 (feat. correlation)]**"
   ]
  },
  {
   "cell_type": "markdown",
   "metadata": {},
   "source": [
    "- 상관계수행렬은 데이터의 분포를 표현(분포에 관한 정보라고 간주)  \n",
    "- n by n 상관계수행렬은 n개의 eigenvector를 가짐  \n",
    "- 이 eigenvector들과 상관계수 행렬의 선형변환으로 데이터가 변하지 않음(데이터 소실 없음)  \n",
    "- eigenvector를 n개의 축이라고 생각할 때 데이터를 이 n개의 축에 대하여 변환을 실시하면?  \n",
    "- n번의 변환에서 각각 상관계수 행렬이 가졌던 오리지널 데이터의 분포에 관한 정보를 전부 나눠가지게 될 것  \n",
    "- 만약 특정 축 몇개가 분포에 관한 정보(분산의) 대부분을 가져간다면?  \n",
    "- 이 몇개의 축으로 (주성분으로, 특성의 수로) 데이터의 대부분을 설명할 수 있을 것  \n",
    "  \n",
    "==> 차원축소(dimension reduction, feature extraction)가 가능해짐"
   ]
  },
  {
   "cell_type": "markdown",
   "metadata": {},
   "source": [
    "#### **PCA는 데이터를 표준화(standardizing)하여 진행한다**"
   ]
  },
  {
   "cell_type": "code",
   "execution_count": 23,
   "metadata": {},
   "outputs": [],
   "source": [
    "import pandas as pd\n",
    "import numpy as np\n",
    "from sklearn import datasets\n",
    "import matplotlib.pyplot as plt"
   ]
  },
  {
   "cell_type": "code",
   "execution_count": 24,
   "metadata": {},
   "outputs": [
    {
     "data": {
      "text/plain": [
       "{'name': ['쇠고기라면',\n",
       "  '해물라면',\n",
       "  '얼큰라면',\n",
       "  '떡라면',\n",
       "  '짬뽕라면',\n",
       "  '만두라면',\n",
       "  '치즈라면',\n",
       "  '된장라면',\n",
       "  '볶음라면',\n",
       "  '김치라면'],\n",
       " 'noodle': [2, 1, 5, 2, 3, 4, 4, 1, 3, 5],\n",
       " 'bowl': [4, 5, 3, 2, 5, 3, 4, 2, 3, 5],\n",
       " 'soup': [5, 1, 4, 3, 5, 2, 3, 1, 2, 3]}"
      ]
     },
     "execution_count": 24,
     "metadata": {},
     "output_type": "execute_result"
    }
   ],
   "source": [
    "lamen = dict({'name':['쇠고기라면','해물라면','얼큰라면',\n",
    "                      '떡라면','짬뽕라면','만두라면','치즈라면',\n",
    "                      '된장라면','볶음라면','김치라면'],\n",
    "              'noodle':[2,1,5,2,3,4,4,1,3,5],\n",
    "              'bowl':[4,5,3,2,5,3,4,2,3,5],\n",
    "              'soup':[5,1,4,3,5,2,3,1,2,3]})\n",
    "lamen"
   ]
  },
  {
   "cell_type": "code",
   "execution_count": 26,
   "metadata": {},
   "outputs": [
    {
     "data": {
      "text/html": [
       "<div>\n",
       "<style scoped>\n",
       "    .dataframe tbody tr th:only-of-type {\n",
       "        vertical-align: middle;\n",
       "    }\n",
       "\n",
       "    .dataframe tbody tr th {\n",
       "        vertical-align: top;\n",
       "    }\n",
       "\n",
       "    .dataframe thead th {\n",
       "        text-align: right;\n",
       "    }\n",
       "</style>\n",
       "<table border=\"1\" class=\"dataframe\">\n",
       "  <thead>\n",
       "    <tr style=\"text-align: right;\">\n",
       "      <th></th>\n",
       "      <th>name</th>\n",
       "      <th>noodle</th>\n",
       "      <th>bowl</th>\n",
       "      <th>soup</th>\n",
       "    </tr>\n",
       "  </thead>\n",
       "  <tbody>\n",
       "    <tr>\n",
       "      <td>0</td>\n",
       "      <td>쇠고기라면</td>\n",
       "      <td>2</td>\n",
       "      <td>4</td>\n",
       "      <td>5</td>\n",
       "    </tr>\n",
       "    <tr>\n",
       "      <td>1</td>\n",
       "      <td>해물라면</td>\n",
       "      <td>1</td>\n",
       "      <td>5</td>\n",
       "      <td>1</td>\n",
       "    </tr>\n",
       "    <tr>\n",
       "      <td>2</td>\n",
       "      <td>얼큰라면</td>\n",
       "      <td>5</td>\n",
       "      <td>3</td>\n",
       "      <td>4</td>\n",
       "    </tr>\n",
       "    <tr>\n",
       "      <td>3</td>\n",
       "      <td>떡라면</td>\n",
       "      <td>2</td>\n",
       "      <td>2</td>\n",
       "      <td>3</td>\n",
       "    </tr>\n",
       "    <tr>\n",
       "      <td>4</td>\n",
       "      <td>짬뽕라면</td>\n",
       "      <td>3</td>\n",
       "      <td>5</td>\n",
       "      <td>5</td>\n",
       "    </tr>\n",
       "    <tr>\n",
       "      <td>5</td>\n",
       "      <td>만두라면</td>\n",
       "      <td>4</td>\n",
       "      <td>3</td>\n",
       "      <td>2</td>\n",
       "    </tr>\n",
       "    <tr>\n",
       "      <td>6</td>\n",
       "      <td>치즈라면</td>\n",
       "      <td>4</td>\n",
       "      <td>4</td>\n",
       "      <td>3</td>\n",
       "    </tr>\n",
       "    <tr>\n",
       "      <td>7</td>\n",
       "      <td>된장라면</td>\n",
       "      <td>1</td>\n",
       "      <td>2</td>\n",
       "      <td>1</td>\n",
       "    </tr>\n",
       "    <tr>\n",
       "      <td>8</td>\n",
       "      <td>볶음라면</td>\n",
       "      <td>3</td>\n",
       "      <td>3</td>\n",
       "      <td>2</td>\n",
       "    </tr>\n",
       "    <tr>\n",
       "      <td>9</td>\n",
       "      <td>김치라면</td>\n",
       "      <td>5</td>\n",
       "      <td>5</td>\n",
       "      <td>3</td>\n",
       "    </tr>\n",
       "  </tbody>\n",
       "</table>\n",
       "</div>"
      ],
      "text/plain": [
       "    name  noodle  bowl  soup\n",
       "0  쇠고기라면       2     4     5\n",
       "1   해물라면       1     5     1\n",
       "2   얼큰라면       5     3     4\n",
       "3    떡라면       2     2     3\n",
       "4   짬뽕라면       3     5     5\n",
       "5   만두라면       4     3     2\n",
       "6   치즈라면       4     4     3\n",
       "7   된장라면       1     2     1\n",
       "8   볶음라면       3     3     2\n",
       "9   김치라면       5     5     3"
      ]
     },
     "execution_count": 26,
     "metadata": {},
     "output_type": "execute_result"
    }
   ],
   "source": [
    "lamen1 = pd.DataFrame(lamen)\n",
    "lamen1"
   ]
  },
  {
   "cell_type": "markdown",
   "metadata": {},
   "source": [
    "### **How StandardScaler works?**"
   ]
  },
  {
   "cell_type": "code",
   "execution_count": 27,
   "metadata": {},
   "outputs": [],
   "source": [
    "noodle_sd = np.std(lamen1['noodle'])"
   ]
  },
  {
   "cell_type": "code",
   "execution_count": 28,
   "metadata": {},
   "outputs": [],
   "source": [
    "noodle_mean = np.mean(lamen1['noodle'])"
   ]
  },
  {
   "cell_type": "code",
   "execution_count": 29,
   "metadata": {},
   "outputs": [
    {
     "data": {
      "text/plain": [
       "[-0.7071067811865475,\n",
       " -1.414213562373095,\n",
       " 1.414213562373095,\n",
       " -0.7071067811865475,\n",
       " 0.0,\n",
       " 0.7071067811865475,\n",
       " 0.7071067811865475,\n",
       " -1.414213562373095,\n",
       " 0.0,\n",
       " 1.414213562373095]"
      ]
     },
     "execution_count": 29,
     "metadata": {},
     "output_type": "execute_result"
    }
   ],
   "source": [
    "a = []\n",
    "for i in range(len(lamen1['noodle'])):\n",
    "    a.append((lamen1['noodle'][i] - noodle_mean)/noodle_sd)\n",
    "a"
   ]
  },
  {
   "cell_type": "markdown",
   "metadata": {},
   "source": [
    "### **StandardScaler 적용**"
   ]
  },
  {
   "cell_type": "code",
   "execution_count": 30,
   "metadata": {},
   "outputs": [],
   "source": [
    "from sklearn.preprocessing import StandardScaler\n",
    "from sklearn.decomposition import PCA"
   ]
  },
  {
   "cell_type": "code",
   "execution_count": 32,
   "metadata": {},
   "outputs": [],
   "source": [
    "# 1. 데이터 분리\n",
    "lamenEval = lamen1[['noodle', 'bowl', 'soup']]\n",
    "lamenName = lamen1[['name']]"
   ]
  },
  {
   "cell_type": "code",
   "execution_count": 33,
   "metadata": {},
   "outputs": [
    {
     "data": {
      "text/plain": [
       "(10, 3)"
      ]
     },
     "execution_count": 33,
     "metadata": {},
     "output_type": "execute_result"
    }
   ],
   "source": [
    "# 2. 스케일러로 값 변환\n",
    "scaler = StandardScaler()\n",
    "scaler.fit(lamenEval.values)\n",
    "lamen_scaled = scaler.transform(lamenEval.values)\n",
    "\n",
    "lamen_scaled.shape"
   ]
  },
  {
   "cell_type": "markdown",
   "metadata": {},
   "source": [
    "#### **PCA modeling**  \n",
    "  - PCA.fit() : 주성분을 찾음  \n",
    "  - PCA.transform() : 새로운 주성분으로 데이터 변환"
   ]
  },
  {
   "cell_type": "code",
   "execution_count": 35,
   "metadata": {},
   "outputs": [
    {
     "name": "stdout",
     "output_type": "stream",
     "text": [
      "original data : (10, 3)\n",
      "deducted data : (10, 3)\n"
     ]
    }
   ],
   "source": [
    "# 3. PCA modeling\n",
    "pca_lamen = PCA()\n",
    "pca_lamen.fit(lamen_scaled) # 주성분 (eigenvectors 생성)\n",
    "\n",
    "# data transformation\n",
    "X_pca_lamen = pca_lamen.transform(lamen_scaled) # 주성분에 대한 데이터 변환\n",
    "\n",
    "# look into data shape\n",
    "print('original data : {}'.format(str(lamen_scaled.shape)))\n",
    "print('deducted data : {}'.format(str(X_pca_lamen.shape)))"
   ]
  },
  {
   "cell_type": "code",
   "execution_count": 37,
   "metadata": {},
   "outputs": [
    {
     "data": {
      "text/plain": [
       "array([[-0.75045146,  0.54986707,  1.44804503],\n",
       "       [ 1.02673873,  1.99341604, -0.68029269],\n",
       "       [-1.03344902, -1.36473856,  0.00244833],\n",
       "       [ 1.10826926, -0.71479113,  0.91138358],\n",
       "       [-1.62344488,  0.83152952,  0.76613567],\n",
       "       [ 0.29164279, -0.78379531, -0.72076585],\n",
       "       [-0.63771758, -0.15146621, -0.45243513],\n",
       "       [ 2.43336106, -0.13384787,  0.1881694 ],\n",
       "       [ 0.69576209, -0.3563698 , -0.32834386],\n",
       "       [-1.51071099,  0.13019625, -1.13434448]])"
      ]
     },
     "execution_count": 37,
     "metadata": {},
     "output_type": "execute_result"
    }
   ],
   "source": [
    "# 4. 변환된 데이터 확인\n",
    "X_pca_lamen\n",
    "# z1, z2, z3"
   ]
  },
  {
   "cell_type": "code",
   "execution_count": 38,
   "metadata": {},
   "outputs": [
    {
     "data": {
      "text/plain": [
       "array([[-0.571511  , -0.52211611, -0.63306393],\n",
       "       [-0.60447096,  0.78960694, -0.105526  ],\n",
       "       [-0.5549685 , -0.32235949,  0.76687308]])"
      ]
     },
     "execution_count": 38,
     "metadata": {},
     "output_type": "execute_result"
    }
   ],
   "source": [
    "pca_lamen.components_  # eigenvector"
   ]
  },
  {
   "cell_type": "markdown",
   "metadata": {},
   "source": [
    "**eigenvalue의 이해 (feat. cov of transformed data)**"
   ]
  },
  {
   "cell_type": "code",
   "execution_count": 39,
   "metadata": {},
   "outputs": [
    {
     "data": {
      "text/html": [
       "<div>\n",
       "<style scoped>\n",
       "    .dataframe tbody tr th:only-of-type {\n",
       "        vertical-align: middle;\n",
       "    }\n",
       "\n",
       "    .dataframe tbody tr th {\n",
       "        vertical-align: top;\n",
       "    }\n",
       "\n",
       "    .dataframe thead th {\n",
       "        text-align: right;\n",
       "    }\n",
       "</style>\n",
       "<table border=\"1\" class=\"dataframe\">\n",
       "  <thead>\n",
       "    <tr style=\"text-align: right;\">\n",
       "      <th></th>\n",
       "      <th>noodle</th>\n",
       "      <th>bowl</th>\n",
       "      <th>soup</th>\n",
       "    </tr>\n",
       "  </thead>\n",
       "  <tbody>\n",
       "    <tr>\n",
       "      <td>noodle</td>\n",
       "      <td>1.000000</td>\n",
       "      <td>0.19050</td>\n",
       "      <td>0.360041</td>\n",
       "    </tr>\n",
       "    <tr>\n",
       "      <td>bowl</td>\n",
       "      <td>0.190500</td>\n",
       "      <td>1.00000</td>\n",
       "      <td>0.300480</td>\n",
       "    </tr>\n",
       "    <tr>\n",
       "      <td>soup</td>\n",
       "      <td>0.360041</td>\n",
       "      <td>0.30048</td>\n",
       "      <td>1.000000</td>\n",
       "    </tr>\n",
       "  </tbody>\n",
       "</table>\n",
       "</div>"
      ],
      "text/plain": [
       "          noodle     bowl      soup\n",
       "noodle  1.000000  0.19050  0.360041\n",
       "bowl    0.190500  1.00000  0.300480\n",
       "soup    0.360041  0.30048  1.000000"
      ]
     },
     "execution_count": 39,
     "metadata": {},
     "output_type": "execute_result"
    }
   ],
   "source": [
    "lamen1.corr()"
   ]
  },
  {
   "cell_type": "code",
   "execution_count": 40,
   "metadata": {},
   "outputs": [],
   "source": [
    "eig_val, eig_vec = np.linalg.eig(lamen1.corr())"
   ]
  },
  {
   "cell_type": "code",
   "execution_count": 41,
   "metadata": {},
   "outputs": [
    {
     "data": {
      "text/plain": [
       "array([[-0.571511  , -0.60447096, -0.5549685 ],\n",
       "       [-0.52211611,  0.78960694, -0.32235949],\n",
       "       [-0.63306393, -0.105526  ,  0.76687308]])"
      ]
     },
     "execution_count": 41,
     "metadata": {},
     "output_type": "execute_result"
    }
   ],
   "source": [
    "eig_vec"
   ]
  },
  {
   "cell_type": "code",
   "execution_count": 42,
   "metadata": {},
   "outputs": [
    {
     "data": {
      "text/plain": [
       "array([[-0.75045146,  0.54986707,  1.44804503],\n",
       "       [ 1.02673873,  1.99341604, -0.68029269],\n",
       "       [-1.03344902, -1.36473856,  0.00244833],\n",
       "       [ 1.10826926, -0.71479113,  0.91138358],\n",
       "       [-1.62344488,  0.83152952,  0.76613567],\n",
       "       [ 0.29164279, -0.78379531, -0.72076585],\n",
       "       [-0.63771758, -0.15146621, -0.45243513],\n",
       "       [ 2.43336106, -0.13384787,  0.1881694 ],\n",
       "       [ 0.69576209, -0.3563698 , -0.32834386],\n",
       "       [-1.51071099,  0.13019625, -1.13434448]])"
      ]
     },
     "execution_count": 42,
     "metadata": {},
     "output_type": "execute_result"
    }
   ],
   "source": [
    "X_pca_lamen"
   ]
  },
  {
   "cell_type": "code",
   "execution_count": 61,
   "metadata": {},
   "outputs": [
    {
     "ename": "TypeError",
     "evalue": "cov() got an unexpected keyword argument 'ddof'",
     "output_type": "error",
     "traceback": [
      "\u001b[1;31m---------------------------------------------------------------------------\u001b[0m",
      "\u001b[1;31mTypeError\u001b[0m                                 Traceback (most recent call last)",
      "\u001b[1;32m<ipython-input-61-371dc27b9cff>\u001b[0m in \u001b[0;36m<module>\u001b[1;34m\u001b[0m\n\u001b[0;32m      1\u001b[0m \u001b[0mkk\u001b[0m \u001b[1;33m=\u001b[0m \u001b[0mpd\u001b[0m\u001b[1;33m.\u001b[0m\u001b[0mDataFrame\u001b[0m\u001b[1;33m(\u001b[0m\u001b[0mX_pca_lamen\u001b[0m\u001b[1;33m)\u001b[0m\u001b[1;33m\u001b[0m\u001b[1;33m\u001b[0m\u001b[0m\n\u001b[1;32m----> 2\u001b[1;33m \u001b[0mkk\u001b[0m\u001b[1;33m.\u001b[0m\u001b[0mcov\u001b[0m\u001b[1;33m(\u001b[0m\u001b[0mddof\u001b[0m \u001b[1;33m=\u001b[0m \u001b[1;36m0\u001b[0m\u001b[1;33m)\u001b[0m\u001b[1;33m\u001b[0m\u001b[1;33m\u001b[0m\u001b[0m\n\u001b[0m",
      "\u001b[1;31mTypeError\u001b[0m: cov() got an unexpected keyword argument 'ddof'"
     ]
    }
   ],
   "source": [
    "kk = pd.DataFrame(X_pca_lamen)\n",
    "kk.cov(ddof = 0)"
   ]
  },
  {
   "cell_type": "code",
   "execution_count": 56,
   "metadata": {},
   "outputs": [
    {
     "data": {
      "text/plain": [
       "array([[ 1.57285386e+00, -3.63655046e-17,  7.93454755e-18],\n",
       "       [-3.63655046e-17,  8.14008318e-01, -4.22580952e-17],\n",
       "       [ 7.93454755e-18, -4.22580952e-17,  6.13137822e-01]])"
      ]
     },
     "execution_count": 56,
     "metadata": {},
     "output_type": "execute_result"
    }
   ],
   "source": [
    "np.cov(X_pca_lamen.T, ddof = 0)"
   ]
  },
  {
   "cell_type": "code",
   "execution_count": 58,
   "metadata": {},
   "outputs": [
    {
     "data": {
      "text/plain": [
       "array([1.57285386, 0.81400832, 0.61313782])"
      ]
     },
     "execution_count": 58,
     "metadata": {},
     "output_type": "execute_result"
    }
   ],
   "source": [
    "eig_val"
   ]
  },
  {
   "cell_type": "code",
   "execution_count": 62,
   "metadata": {},
   "outputs": [
    {
     "data": {
      "text/plain": [
       "array([[ 1.        , -0.54543647,  0.65000347, -0.20235648,  0.90400156,\n",
       "        -0.891286  ,  0.47266235, -0.8608972 , -0.90400156,  0.32018838],\n",
       "       [-0.54543647,  1.        , -0.99147361, -0.71043981, -0.13474095,\n",
       "         0.10608686,  0.48080895,  0.04313057,  0.13474095,  0.6193843 ],\n",
       "       [ 0.65000347, -0.99147361,  1.        ,  0.61267731,  0.2627114 ,\n",
       "        -0.23475458, -0.36245238, -0.17294916, -0.2627114 , -0.51180026],\n",
       "       [-0.20235648, -0.71043981,  0.61267731,  1.        , -0.60161497,\n",
       "         0.62441824, -0.95865867,  0.67246141,  0.60161497, -0.99254716],\n",
       "       [ 0.90400156, -0.13474095,  0.2627114 , -0.60161497,  1.        ,\n",
       "        -0.99958343,  0.80404483, -0.99577024, -1.        ,  0.6944722 ],\n",
       "       [-0.891286  ,  0.10608686, -0.23475458,  0.62441824, -0.99958343,\n",
       "         1.        , -0.82086983,  0.99800715,  0.99958343, -0.71494906],\n",
       "       [ 0.47266235,  0.48080895, -0.36245238, -0.95865867,  0.80404483,\n",
       "        -0.82086983,  1.        , -0.85527188, -0.80404483,  0.98619056],\n",
       "       [-0.8608972 ,  0.04313057, -0.17294916,  0.67246141, -0.99577024,\n",
       "         0.99800715, -0.85527188,  1.        ,  0.99577024, -0.75764299],\n",
       "       [-0.90400156,  0.13474095, -0.2627114 ,  0.60161497, -1.        ,\n",
       "         0.99958343, -0.80404483,  0.99577024,  1.        , -0.6944722 ],\n",
       "       [ 0.32018838,  0.6193843 , -0.51180026, -0.99254716,  0.6944722 ,\n",
       "        -0.71494906,  0.98619056, -0.75764299, -0.6944722 ,  1.        ]])"
      ]
     },
     "execution_count": 62,
     "metadata": {},
     "output_type": "execute_result"
    }
   ],
   "source": [
    "np.corrcoef(X_pca_lamen)"
   ]
  },
  {
   "cell_type": "code",
   "execution_count": 63,
   "metadata": {},
   "outputs": [
    {
     "data": {
      "text/plain": [
       "array([[ 6.35084295e-04, -1.58291537e-02,  8.15945520e-03],\n",
       "       [-1.58291537e-02,  4.99498238e-01,  2.58643061e-04],\n",
       "       [ 8.15945520e-03,  2.58643061e-04,  4.99866677e-01]])"
      ]
     },
     "execution_count": 63,
     "metadata": {},
     "output_type": "execute_result"
    }
   ],
   "source": [
    "np.cov(eig_vec)"
   ]
  },
  {
   "cell_type": "code",
   "execution_count": 64,
   "metadata": {},
   "outputs": [
    {
     "data": {
      "image/png": "[encoded data removed]",
      "text/plain": [
       "<Figure size 432x288 with 1 Axes>"
      ]
     },
     "metadata": {
      "needs_background": "light"
     },
     "output_type": "display_data"
    }
   ],
   "source": [
    "# 공분산의 크기\n",
    "plt.xticks(range(len(pca_lamen.explained_variance_)))\n",
    "plt.plot(pca_lamen.explained_variance_, marker = '^', c = 'red')\n",
    "plt.grid()"
   ]
  },
  {
   "cell_type": "code",
   "execution_count": 68,
   "metadata": {},
   "outputs": [
    {
     "data": {
      "image/png": "[encoded data removed]",
      "text/plain": [
       "<Figure size 432x288 with 1 Axes>"
      ]
     },
     "metadata": {
      "needs_background": "light"
     },
     "output_type": "display_data"
    }
   ],
   "source": [
    "# 100분율\n",
    "cumVar = np.cumsum(np.round(pca_lamen.explained_variance_ratio_, decimals = 4)*100)\n",
    "plt.xticks(range(len(pca_lamen.explained_variance_)))\n",
    "plt.plot(cumVar, marker = 'o')\n",
    "plt.grid()"
   ]
  },
  {
   "cell_type": "code",
   "execution_count": 70,
   "metadata": {},
   "outputs": [
    {
     "data": {
      "text/plain": [
       "array([0.52428462, 0.27133611, 0.20437927])"
      ]
     },
     "execution_count": 70,
     "metadata": {},
     "output_type": "execute_result"
    }
   ],
   "source": [
    "pca_lamen.explained_variance_ratio_"
   ]
  },
  {
   "cell_type": "code",
   "execution_count": null,
   "metadata": {},
   "outputs": [],
   "source": []
  }
 ],
 "metadata": {
  "kernelspec": {
   "display_name": "Python 3",
   "language": "python",
   "name": "python3"
  },
  "language_info": {
   "codemirror_mode": {
    "name": "ipython",
    "version": 3
   },
   "file_extension": ".py",
   "mimetype": "text/x-python",
   "name": "python",
   "nbconvert_exporter": "python",
   "pygments_lexer": "ipython3",
   "version": "3.7.4"
  }
 },
 "nbformat": 4,
 "nbformat_minor": 4
}
