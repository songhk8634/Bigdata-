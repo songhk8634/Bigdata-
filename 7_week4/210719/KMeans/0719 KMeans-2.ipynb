{
 "cells": [
  {
   "cell_type": "markdown",
   "metadata": {},
   "source": [
    "# **모듈 및 데이터 로딩**"
   ]
  },
  {
   "cell_type": "code",
   "execution_count": 1,
   "metadata": {},
   "outputs": [],
   "source": [
    "import pandas as pd\n",
    "import numpy as np\n",
    "import matplotlib.pyplot as plt\n",
    "import seaborn as sns"
   ]
  },
  {
   "cell_type": "code",
   "execution_count": 2,
   "metadata": {},
   "outputs": [],
   "source": [
    "data = pd.read_csv('Mall_Customers.csv')"
   ]
  },
  {
   "cell_type": "markdown",
   "metadata": {},
   "source": [
    "## **데이터 특성 확인**"
   ]
  },
  {
   "cell_type": "code",
   "execution_count": 3,
   "metadata": {},
   "outputs": [
    {
     "data": {
      "text/plain": [
       "(200, 5)"
      ]
     },
     "execution_count": 3,
     "metadata": {},
     "output_type": "execute_result"
    }
   ],
   "source": [
    "data.shape"
   ]
  },
  {
   "cell_type": "code",
   "execution_count": 4,
   "metadata": {},
   "outputs": [
    {
     "data": {
      "text/html": [
       "<div>\n",
       "<style scoped>\n",
       "    .dataframe tbody tr th:only-of-type {\n",
       "        vertical-align: middle;\n",
       "    }\n",
       "\n",
       "    .dataframe tbody tr th {\n",
       "        vertical-align: top;\n",
       "    }\n",
       "\n",
       "    .dataframe thead th {\n",
       "        text-align: right;\n",
       "    }\n",
       "</style>\n",
       "<table border=\"1\" class=\"dataframe\">\n",
       "  <thead>\n",
       "    <tr style=\"text-align: right;\">\n",
       "      <th></th>\n",
       "      <th>CustomerID</th>\n",
       "      <th>Gender</th>\n",
       "      <th>Age</th>\n",
       "      <th>Annual Income (k$)</th>\n",
       "      <th>Spending Score (1-100)</th>\n",
       "    </tr>\n",
       "  </thead>\n",
       "  <tbody>\n",
       "    <tr>\n",
       "      <td>0</td>\n",
       "      <td>1</td>\n",
       "      <td>Male</td>\n",
       "      <td>19</td>\n",
       "      <td>15</td>\n",
       "      <td>39</td>\n",
       "    </tr>\n",
       "    <tr>\n",
       "      <td>1</td>\n",
       "      <td>2</td>\n",
       "      <td>Male</td>\n",
       "      <td>21</td>\n",
       "      <td>15</td>\n",
       "      <td>81</td>\n",
       "    </tr>\n",
       "  </tbody>\n",
       "</table>\n",
       "</div>"
      ],
      "text/plain": [
       "   CustomerID Gender  Age  Annual Income (k$)  Spending Score (1-100)\n",
       "0           1   Male   19                  15                      39\n",
       "1           2   Male   21                  15                      81"
      ]
     },
     "execution_count": 4,
     "metadata": {},
     "output_type": "execute_result"
    }
   ],
   "source": [
    "data.head(2)"
   ]
  },
  {
   "cell_type": "code",
   "execution_count": 5,
   "metadata": {},
   "outputs": [
    {
     "name": "stdout",
     "output_type": "stream",
     "text": [
      "<class 'pandas.core.frame.DataFrame'>\n",
      "RangeIndex: 200 entries, 0 to 199\n",
      "Data columns (total 5 columns):\n",
      "CustomerID                200 non-null int64\n",
      "Gender                    200 non-null object\n",
      "Age                       200 non-null int64\n",
      "Annual Income (k$)        200 non-null int64\n",
      "Spending Score (1-100)    200 non-null int64\n",
      "dtypes: int64(4), object(1)\n",
      "memory usage: 7.9+ KB\n"
     ]
    }
   ],
   "source": [
    "data.info()"
   ]
  },
  {
   "cell_type": "code",
   "execution_count": 7,
   "metadata": {},
   "outputs": [
    {
     "data": {
      "text/html": [
       "<div>\n",
       "<style scoped>\n",
       "    .dataframe tbody tr th:only-of-type {\n",
       "        vertical-align: middle;\n",
       "    }\n",
       "\n",
       "    .dataframe tbody tr th {\n",
       "        vertical-align: top;\n",
       "    }\n",
       "\n",
       "    .dataframe thead th {\n",
       "        text-align: right;\n",
       "    }\n",
       "</style>\n",
       "<table border=\"1\" class=\"dataframe\">\n",
       "  <thead>\n",
       "    <tr style=\"text-align: right;\">\n",
       "      <th></th>\n",
       "      <th>CustomerID</th>\n",
       "      <th>Age</th>\n",
       "      <th>Annual Income (k$)</th>\n",
       "      <th>Spending Score (1-100)</th>\n",
       "    </tr>\n",
       "  </thead>\n",
       "  <tbody>\n",
       "    <tr>\n",
       "      <td>count</td>\n",
       "      <td>200.000000</td>\n",
       "      <td>200.000000</td>\n",
       "      <td>200.000000</td>\n",
       "      <td>200.000000</td>\n",
       "    </tr>\n",
       "    <tr>\n",
       "      <td>mean</td>\n",
       "      <td>100.500000</td>\n",
       "      <td>38.850000</td>\n",
       "      <td>60.560000</td>\n",
       "      <td>50.200000</td>\n",
       "    </tr>\n",
       "    <tr>\n",
       "      <td>std</td>\n",
       "      <td>57.879185</td>\n",
       "      <td>13.969007</td>\n",
       "      <td>26.264721</td>\n",
       "      <td>25.823522</td>\n",
       "    </tr>\n",
       "    <tr>\n",
       "      <td>min</td>\n",
       "      <td>1.000000</td>\n",
       "      <td>18.000000</td>\n",
       "      <td>15.000000</td>\n",
       "      <td>1.000000</td>\n",
       "    </tr>\n",
       "    <tr>\n",
       "      <td>25%</td>\n",
       "      <td>50.750000</td>\n",
       "      <td>28.750000</td>\n",
       "      <td>41.500000</td>\n",
       "      <td>34.750000</td>\n",
       "    </tr>\n",
       "    <tr>\n",
       "      <td>50%</td>\n",
       "      <td>100.500000</td>\n",
       "      <td>36.000000</td>\n",
       "      <td>61.500000</td>\n",
       "      <td>50.000000</td>\n",
       "    </tr>\n",
       "    <tr>\n",
       "      <td>75%</td>\n",
       "      <td>150.250000</td>\n",
       "      <td>49.000000</td>\n",
       "      <td>78.000000</td>\n",
       "      <td>73.000000</td>\n",
       "    </tr>\n",
       "    <tr>\n",
       "      <td>max</td>\n",
       "      <td>200.000000</td>\n",
       "      <td>70.000000</td>\n",
       "      <td>137.000000</td>\n",
       "      <td>99.000000</td>\n",
       "    </tr>\n",
       "  </tbody>\n",
       "</table>\n",
       "</div>"
      ],
      "text/plain": [
       "       CustomerID         Age  Annual Income (k$)  Spending Score (1-100)\n",
       "count  200.000000  200.000000          200.000000              200.000000\n",
       "mean   100.500000   38.850000           60.560000               50.200000\n",
       "std     57.879185   13.969007           26.264721               25.823522\n",
       "min      1.000000   18.000000           15.000000                1.000000\n",
       "25%     50.750000   28.750000           41.500000               34.750000\n",
       "50%    100.500000   36.000000           61.500000               50.000000\n",
       "75%    150.250000   49.000000           78.000000               73.000000\n",
       "max    200.000000   70.000000          137.000000               99.000000"
      ]
     },
     "execution_count": 7,
     "metadata": {},
     "output_type": "execute_result"
    }
   ],
   "source": [
    "data.describe()"
   ]
  },
  {
   "cell_type": "code",
   "execution_count": 10,
   "metadata": {},
   "outputs": [],
   "source": [
    "data = pd.get_dummies(data, columns = ['Gender'], drop_first = True)"
   ]
  },
  {
   "cell_type": "code",
   "execution_count": 42,
   "metadata": {},
   "outputs": [],
   "source": [
    "data.drop('CustomerID', axis = 1, inplace = True)"
   ]
  },
  {
   "cell_type": "markdown",
   "metadata": {},
   "source": [
    "## **KMeans Clustering Modeling**"
   ]
  },
  {
   "cell_type": "code",
   "execution_count": 43,
   "metadata": {},
   "outputs": [
    {
     "data": {
      "text/plain": [
       "KMeans(algorithm='auto', copy_x=True, init='k-means++', max_iter=300,\n",
       "       n_clusters=3, n_init=10, n_jobs=None, precompute_distances='auto',\n",
       "       random_state=None, tol=0.0001, verbose=0)"
      ]
     },
     "execution_count": 43,
     "metadata": {},
     "output_type": "execute_result"
    }
   ],
   "source": [
    "from sklearn.cluster import KMeans\n",
    "model = KMeans(n_clusters = 3)\n",
    "model.fit(data)"
   ]
  },
  {
   "cell_type": "code",
   "execution_count": 44,
   "metadata": {},
   "outputs": [
    {
     "data": {
      "text/plain": [
       "array([1, 1, 1, 1, 1, 1, 1, 1, 1, 1, 1, 1, 1, 1, 1, 1, 1, 1, 1, 1, 1, 1,\n",
       "       1, 1, 1, 1, 1, 1, 1, 1, 1, 1, 1, 1, 1, 1, 1, 1, 1, 1, 1, 1, 1, 1,\n",
       "       1, 1, 1, 1, 1, 1, 1, 1, 1, 1, 1, 1, 1, 1, 1, 1, 1, 1, 1, 1, 1, 1,\n",
       "       1, 1, 1, 1, 1, 1, 1, 1, 1, 1, 1, 1, 1, 1, 1, 1, 1, 1, 1, 1, 1, 1,\n",
       "       1, 1, 1, 1, 1, 1, 1, 1, 1, 1, 1, 1, 1, 1, 1, 1, 1, 1, 1, 1, 1, 1,\n",
       "       1, 1, 1, 1, 1, 1, 1, 1, 1, 1, 1, 1, 1, 0, 2, 0, 2, 0, 2, 0, 2, 0,\n",
       "       2, 0, 2, 0, 2, 0, 2, 0, 2, 0, 2, 0, 2, 0, 2, 0, 2, 0, 2, 0, 2, 0,\n",
       "       2, 0, 2, 0, 2, 0, 2, 0, 2, 0, 2, 0, 2, 0, 2, 0, 2, 0, 2, 0, 2, 0,\n",
       "       2, 0, 2, 0, 2, 0, 2, 0, 2, 0, 2, 0, 2, 0, 2, 0, 2, 0, 2, 0, 2, 0,\n",
       "       2, 0])"
      ]
     },
     "execution_count": 44,
     "metadata": {},
     "output_type": "execute_result"
    }
   ],
   "source": [
    "model.labels_"
   ]
  },
  {
   "cell_type": "code",
   "execution_count": 45,
   "metadata": {},
   "outputs": [],
   "source": [
    "result_df = data.copy()"
   ]
  },
  {
   "cell_type": "code",
   "execution_count": 46,
   "metadata": {},
   "outputs": [],
   "source": [
    "result_df['label'] = model.labels_"
   ]
  },
  {
   "cell_type": "code",
   "execution_count": 47,
   "metadata": {},
   "outputs": [
    {
     "data": {
      "text/html": [
       "<div>\n",
       "<style scoped>\n",
       "    .dataframe tbody tr th:only-of-type {\n",
       "        vertical-align: middle;\n",
       "    }\n",
       "\n",
       "    .dataframe tbody tr th {\n",
       "        vertical-align: top;\n",
       "    }\n",
       "\n",
       "    .dataframe thead th {\n",
       "        text-align: right;\n",
       "    }\n",
       "</style>\n",
       "<table border=\"1\" class=\"dataframe\">\n",
       "  <thead>\n",
       "    <tr style=\"text-align: right;\">\n",
       "      <th></th>\n",
       "      <th>Age</th>\n",
       "      <th>Annual Income (k$)</th>\n",
       "      <th>Spending Score (1-100)</th>\n",
       "      <th>Gender_Male</th>\n",
       "      <th>label</th>\n",
       "    </tr>\n",
       "  </thead>\n",
       "  <tbody>\n",
       "    <tr>\n",
       "      <td>0</td>\n",
       "      <td>19</td>\n",
       "      <td>15</td>\n",
       "      <td>39</td>\n",
       "      <td>1</td>\n",
       "      <td>1</td>\n",
       "    </tr>\n",
       "    <tr>\n",
       "      <td>1</td>\n",
       "      <td>21</td>\n",
       "      <td>15</td>\n",
       "      <td>81</td>\n",
       "      <td>1</td>\n",
       "      <td>1</td>\n",
       "    </tr>\n",
       "    <tr>\n",
       "      <td>2</td>\n",
       "      <td>20</td>\n",
       "      <td>16</td>\n",
       "      <td>6</td>\n",
       "      <td>0</td>\n",
       "      <td>1</td>\n",
       "    </tr>\n",
       "    <tr>\n",
       "      <td>3</td>\n",
       "      <td>23</td>\n",
       "      <td>16</td>\n",
       "      <td>77</td>\n",
       "      <td>0</td>\n",
       "      <td>1</td>\n",
       "    </tr>\n",
       "    <tr>\n",
       "      <td>4</td>\n",
       "      <td>31</td>\n",
       "      <td>17</td>\n",
       "      <td>40</td>\n",
       "      <td>0</td>\n",
       "      <td>1</td>\n",
       "    </tr>\n",
       "  </tbody>\n",
       "</table>\n",
       "</div>"
      ],
      "text/plain": [
       "   Age  Annual Income (k$)  Spending Score (1-100)  Gender_Male  label\n",
       "0   19                  15                      39            1      1\n",
       "1   21                  15                      81            1      1\n",
       "2   20                  16                       6            0      1\n",
       "3   23                  16                      77            0      1\n",
       "4   31                  17                      40            0      1"
      ]
     },
     "execution_count": 47,
     "metadata": {},
     "output_type": "execute_result"
    }
   ],
   "source": [
    "result_df.head()"
   ]
  },
  {
   "cell_type": "code",
   "execution_count": 48,
   "metadata": {},
   "outputs": [
    {
     "data": {
      "text/html": [
       "<div>\n",
       "<style scoped>\n",
       "    .dataframe tbody tr th:only-of-type {\n",
       "        vertical-align: middle;\n",
       "    }\n",
       "\n",
       "    .dataframe tbody tr th {\n",
       "        vertical-align: top;\n",
       "    }\n",
       "\n",
       "    .dataframe thead th {\n",
       "        text-align: right;\n",
       "    }\n",
       "</style>\n",
       "<table border=\"1\" class=\"dataframe\">\n",
       "  <thead>\n",
       "    <tr style=\"text-align: right;\">\n",
       "      <th></th>\n",
       "      <th>Age</th>\n",
       "      <th>Annual Income (k$)</th>\n",
       "      <th>Spending Score (1-100)</th>\n",
       "      <th>Gender_Male</th>\n",
       "    </tr>\n",
       "    <tr>\n",
       "      <th>label</th>\n",
       "      <th></th>\n",
       "      <th></th>\n",
       "      <th></th>\n",
       "      <th></th>\n",
       "    </tr>\n",
       "  </thead>\n",
       "  <tbody>\n",
       "    <tr>\n",
       "      <td>0</td>\n",
       "      <td>32.692308</td>\n",
       "      <td>86.538462</td>\n",
       "      <td>82.128205</td>\n",
       "      <td>0.461538</td>\n",
       "    </tr>\n",
       "    <tr>\n",
       "      <td>1</td>\n",
       "      <td>40.325203</td>\n",
       "      <td>44.154472</td>\n",
       "      <td>49.829268</td>\n",
       "      <td>0.406504</td>\n",
       "    </tr>\n",
       "    <tr>\n",
       "      <td>2</td>\n",
       "      <td>40.394737</td>\n",
       "      <td>87.000000</td>\n",
       "      <td>18.631579</td>\n",
       "      <td>0.526316</td>\n",
       "    </tr>\n",
       "  </tbody>\n",
       "</table>\n",
       "</div>"
      ],
      "text/plain": [
       "             Age  Annual Income (k$)  Spending Score (1-100)  Gender_Male\n",
       "label                                                                    \n",
       "0      32.692308           86.538462               82.128205     0.461538\n",
       "1      40.325203           44.154472               49.829268     0.406504\n",
       "2      40.394737           87.000000               18.631579     0.526316"
      ]
     },
     "execution_count": 48,
     "metadata": {},
     "output_type": "execute_result"
    }
   ],
   "source": [
    "# Groupby를 통해 각 클러스터별 통계량을 확인\n",
    "result_df.groupby('label').mean()"
   ]
  },
  {
   "cell_type": "code",
   "execution_count": 49,
   "metadata": {},
   "outputs": [
    {
     "data": {
      "text/plain": [
       "1    123\n",
       "0     39\n",
       "2     38\n",
       "Name: label, dtype: int64"
      ]
     },
     "execution_count": 49,
     "metadata": {},
     "output_type": "execute_result"
    }
   ],
   "source": [
    "# Cluster별 관측치 갯수\n",
    "result_df['label'].value_counts()"
   ]
  },
  {
   "cell_type": "markdown",
   "metadata": {},
   "source": [
    "## **Elbow Method**"
   ]
  },
  {
   "cell_type": "code",
   "execution_count": 50,
   "metadata": {},
   "outputs": [],
   "source": [
    "distance = []\n",
    "for i in range(2, 11):\n",
    "    model = KMeans(n_clusters = i)\n",
    "    model.fit(data)\n",
    "    distance.append(model.inertia_)"
   ]
  },
  {
   "cell_type": "code",
   "execution_count": 51,
   "metadata": {},
   "outputs": [
    {
     "data": {
      "text/plain": [
       "<AxesSubplot:>"
      ]
     },
     "execution_count": 51,
     "metadata": {},
     "output_type": "execute_result"
    },
    {
     "data": {
      "image/png": "[encoded data removed]",
      "text/plain": [
       "<Figure size 432x288 with 1 Axes>"
      ]
     },
     "metadata": {
      "needs_background": "light"
     },
     "output_type": "display_data"
    }
   ],
   "source": [
    "sns.lineplot(x = list(range(2, 11)), y = distance, marker = 'o')"
   ]
  },
  {
   "cell_type": "markdown",
   "metadata": {},
   "source": [
    "## **Silhoutte Score(Elbow Method로 최적값을 찾기 어려울때 확인)**"
   ]
  },
  {
   "cell_type": "code",
   "execution_count": 52,
   "metadata": {},
   "outputs": [],
   "source": [
    "from sklearn.metrics import silhouette_score"
   ]
  },
  {
   "cell_type": "code",
   "execution_count": 53,
   "metadata": {},
   "outputs": [
    {
     "data": {
      "text/plain": [
       "0.3801508806591857"
      ]
     },
     "execution_count": 53,
     "metadata": {},
     "output_type": "execute_result"
    }
   ],
   "source": [
    "silhouette_score(data, model.labels_)"
   ]
  },
  {
   "cell_type": "code",
   "execution_count": 54,
   "metadata": {},
   "outputs": [],
   "source": [
    "sil = []\n",
    "for i in range(2, 11):\n",
    "    model = KMeans(n_clusters = i)\n",
    "    model.fit(data)\n",
    "    sil.append(silhouette_score(data, model.labels_))"
   ]
  },
  {
   "cell_type": "code",
   "execution_count": 55,
   "metadata": {},
   "outputs": [
    {
     "data": {
      "text/plain": [
       "<AxesSubplot:>"
      ]
     },
     "execution_count": 55,
     "metadata": {},
     "output_type": "execute_result"
    },
    {
     "data": {
      "image/png": "[encoded data removed]",
      "text/plain": [
       "<Figure size 432x288 with 1 Axes>"
      ]
     },
     "metadata": {
      "needs_background": "light"
     },
     "output_type": "display_data"
    }
   ],
   "source": [
    "sns.lineplot(x = list(range(2, 11)), y = sil, marker = 'o')"
   ]
  },
  {
   "cell_type": "code",
   "execution_count": 56,
   "metadata": {},
   "outputs": [],
   "source": [
    "model = KMeans(n_clusters = 6)\n",
    "model.fit(data)\n",
    "data['label'] = model.labels_"
   ]
  },
  {
   "cell_type": "code",
   "execution_count": 57,
   "metadata": {},
   "outputs": [
    {
     "data": {
      "text/html": [
       "<div>\n",
       "<style scoped>\n",
       "    .dataframe tbody tr th:only-of-type {\n",
       "        vertical-align: middle;\n",
       "    }\n",
       "\n",
       "    .dataframe tbody tr th {\n",
       "        vertical-align: top;\n",
       "    }\n",
       "\n",
       "    .dataframe thead th {\n",
       "        text-align: right;\n",
       "    }\n",
       "</style>\n",
       "<table border=\"1\" class=\"dataframe\">\n",
       "  <thead>\n",
       "    <tr style=\"text-align: right;\">\n",
       "      <th></th>\n",
       "      <th>Age</th>\n",
       "      <th>Annual Income (k$)</th>\n",
       "      <th>Spending Score (1-100)</th>\n",
       "      <th>Gender_Male</th>\n",
       "    </tr>\n",
       "    <tr>\n",
       "      <th>label</th>\n",
       "      <th></th>\n",
       "      <th></th>\n",
       "      <th></th>\n",
       "      <th></th>\n",
       "    </tr>\n",
       "  </thead>\n",
       "  <tbody>\n",
       "    <tr>\n",
       "      <td>0</td>\n",
       "      <td>32.692308</td>\n",
       "      <td>86.538462</td>\n",
       "      <td>82.128205</td>\n",
       "      <td>0.461538</td>\n",
       "    </tr>\n",
       "    <tr>\n",
       "      <td>1</td>\n",
       "      <td>56.155556</td>\n",
       "      <td>53.377778</td>\n",
       "      <td>49.088889</td>\n",
       "      <td>0.444444</td>\n",
       "    </tr>\n",
       "    <tr>\n",
       "      <td>2</td>\n",
       "      <td>41.685714</td>\n",
       "      <td>88.228571</td>\n",
       "      <td>17.285714</td>\n",
       "      <td>0.571429</td>\n",
       "    </tr>\n",
       "    <tr>\n",
       "      <td>3</td>\n",
       "      <td>27.000000</td>\n",
       "      <td>56.657895</td>\n",
       "      <td>49.131579</td>\n",
       "      <td>0.342105</td>\n",
       "    </tr>\n",
       "    <tr>\n",
       "      <td>4</td>\n",
       "      <td>44.142857</td>\n",
       "      <td>25.142857</td>\n",
       "      <td>19.523810</td>\n",
       "      <td>0.380952</td>\n",
       "    </tr>\n",
       "    <tr>\n",
       "      <td>5</td>\n",
       "      <td>25.272727</td>\n",
       "      <td>25.727273</td>\n",
       "      <td>79.363636</td>\n",
       "      <td>0.409091</td>\n",
       "    </tr>\n",
       "  </tbody>\n",
       "</table>\n",
       "</div>"
      ],
      "text/plain": [
       "             Age  Annual Income (k$)  Spending Score (1-100)  Gender_Male\n",
       "label                                                                    \n",
       "0      32.692308           86.538462               82.128205     0.461538\n",
       "1      56.155556           53.377778               49.088889     0.444444\n",
       "2      41.685714           88.228571               17.285714     0.571429\n",
       "3      27.000000           56.657895               49.131579     0.342105\n",
       "4      44.142857           25.142857               19.523810     0.380952\n",
       "5      25.272727           25.727273               79.363636     0.409091"
      ]
     },
     "execution_count": 57,
     "metadata": {},
     "output_type": "execute_result"
    }
   ],
   "source": [
    "data.groupby('label').mean()"
   ]
  },
  {
   "cell_type": "code",
   "execution_count": 58,
   "metadata": {},
   "outputs": [
    {
     "data": {
      "text/plain": [
       "<AxesSubplot:xlabel='label', ylabel='Age'>"
      ]
     },
     "execution_count": 58,
     "metadata": {},
     "output_type": "execute_result"
    },
    {
     "data": {
      "image/png": "[encoded data removed]",
      "text/plain": [
       "<Figure size 432x288 with 1 Axes>"
      ]
     },
     "metadata": {
      "needs_background": "light"
     },
     "output_type": "display_data"
    }
   ],
   "source": [
    "sns.boxplot(x = 'label', y = 'Age', data = data)"
   ]
  },
  {
   "cell_type": "code",
   "execution_count": 59,
   "metadata": {},
   "outputs": [
    {
     "data": {
      "text/plain": [
       "<AxesSubplot:xlabel='label', ylabel='Annual Income (k$)'>"
      ]
     },
     "execution_count": 59,
     "metadata": {},
     "output_type": "execute_result"
    },
    {
     "data": {
      "image/png": "[encoded data removed]",
      "text/plain": [
       "<Figure size 432x288 with 1 Axes>"
      ]
     },
     "metadata": {
      "needs_background": "light"
     },
     "output_type": "display_data"
    }
   ],
   "source": [
    "sns.boxplot(x = 'label', y = 'Annual Income (k$)', data = data)"
   ]
  },
  {
   "cell_type": "markdown",
   "metadata": {},
   "source": [
    "## **PCA를 활용한 변수를 줄이고 scatter plot 그리기**"
   ]
  },
  {
   "cell_type": "code",
   "execution_count": 60,
   "metadata": {},
   "outputs": [],
   "source": [
    "data.drop('label', axis = 1, inplace = True)"
   ]
  },
  {
   "cell_type": "code",
   "execution_count": 61,
   "metadata": {},
   "outputs": [],
   "source": [
    "from sklearn.decomposition import PCA"
   ]
  },
  {
   "cell_type": "code",
   "execution_count": 62,
   "metadata": {},
   "outputs": [],
   "source": [
    "pca = PCA(n_components = 2)\n",
    "pca.fit(data)\n",
    "pca_df = pca.transform(data)"
   ]
  },
  {
   "cell_type": "code",
   "execution_count": 63,
   "metadata": {
    "collapsed": true,
    "jupyter": {
     "outputs_hidden": true
    }
   },
   "outputs": [
    {
     "data": {
      "text/plain": [
       "array([[-3.18699448e+01, -3.30012521e+01],\n",
       "       [ 7.64494048e-01, -5.68429006e+01],\n",
       "       [-5.74082757e+01, -1.31249607e+01],\n",
       "       [-2.16854252e+00, -5.34785900e+01],\n",
       "       [-3.21740846e+01, -3.03884119e+01],\n",
       "       [-2.17695183e+00, -5.22272685e+01],\n",
       "       [-5.90656895e+01, -9.54376302e+00],\n",
       "       [ 1.23708622e+01, -6.16180208e+01],\n",
       "       [-6.63157690e+01, -3.21423160e+00],\n",
       "       [-5.65556212e+00, -4.72672225e+01],\n",
       "       [-5.82365979e+01, -9.13418751e+00],\n",
       "       [ 1.46218043e+01, -6.21075685e+01],\n",
       "       [-5.51608374e+01, -1.00799251e+01],\n",
       "       [-3.02878330e-03, -5.01140754e+01],\n",
       "       [-5.27646657e+01, -1.16807468e+01],\n",
       "       [ 1.94661180e+00, -5.15222086e+01],\n",
       "       [-3.45055496e+01, -2.37615402e+01],\n",
       "       [-7.30493262e+00, -4.35151138e+01],\n",
       "       [-4.12573070e+01, -1.64734737e+01],\n",
       "       [ 1.61902860e+01, -5.83001207e+01],\n",
       "       [-3.27400141e+01, -2.13347966e+01],\n",
       "       [-9.81885245e-01, -4.44524038e+01],\n",
       "       [-5.78100898e+01, -1.87057486e+00],\n",
       "       [-1.52712624e+00, -4.28582471e+01],\n",
       "       [-5.04819556e+01, -3.56276971e+00],\n",
       "       [ 7.69078091e+00, -4.58600560e+01],\n",
       "       [-3.46329913e+01, -1.50715244e+01],\n",
       "       [-9.94927953e+00, -3.30225018e+01],\n",
       "       [-3.38854915e+01, -1.43440485e+01],\n",
       "       [ 1.33436470e+01, -4.87084876e+01],\n",
       "       [-5.82990002e+01,  4.58029961e+00],\n",
       "       [ 3.30609318e+00, -4.01274983e+01],\n",
       "       [-5.52102909e+01,  6.08873470e+00],\n",
       "       [ 2.05727386e+01, -4.89976354e+01],\n",
       "       [-4.65939553e+01, -1.75635193e-01],\n",
       "       [ 1.13600364e+01, -4.22934898e+01],\n",
       "       [-4.23244634e+01, -2.00566039e+00],\n",
       "       [ 3.95978859e+00, -3.57152924e+01],\n",
       "       [-3.23506471e+01, -5.53131490e+00],\n",
       "       [ 9.18744850e+00, -3.57475306e+01],\n",
       "       [-3.01682815e+01, -6.09009687e+00],\n",
       "       [ 2.23819886e+01, -4.41699255e+01],\n",
       "       [-2.55813682e+01, -8.08036828e+00],\n",
       "       [-2.71818732e+00, -2.46556548e+01],\n",
       "       [-3.20580877e+01, -3.35982914e+00],\n",
       "       [ 1.74869118e+00, -2.78679628e+01],\n",
       "       [-1.04361893e+01, -1.79156325e+01],\n",
       "       [-1.23777865e+01, -1.63365883e+01],\n",
       "       [-1.66857879e+01, -1.32051927e+01],\n",
       "       [-1.70637425e+01, -1.29432699e+01],\n",
       "       [-1.14279946e+01, -1.47081336e+01],\n",
       "       [-2.11661573e+00, -2.13930938e+01],\n",
       "       [-5.86576186e+00, -1.74048397e+01],\n",
       "       [-6.44140255e+00, -1.71797090e+01],\n",
       "       [-1.65304147e+01, -9.75152197e+00],\n",
       "       [-1.91078530e+01, -7.84724924e+00],\n",
       "       [-1.22007224e+01, -1.16816450e+01],\n",
       "       [-1.87466838e+01, -7.02718282e+00],\n",
       "       [-5.70201253e+00, -1.37818367e+01],\n",
       "       [-1.45458017e+01, -7.50578867e+00],\n",
       "       [-9.89832195e+00, -1.10183904e+01],\n",
       "       [-1.04648946e+00, -1.71235274e+01],\n",
       "       [-1.18864721e+01, -8.30888676e+00],\n",
       "       [-3.92770171e+00, -1.40286469e+01],\n",
       "       [-1.13282822e+01, -7.44887080e+00],\n",
       "       [ 3.46377080e+00, -1.79332904e+01],\n",
       "       [-8.33441304e+00, -9.49578304e+00],\n",
       "       [-1.46308641e+01, -5.07395882e+00],\n",
       "       [ 3.27479351e+00, -1.78023290e+01],\n",
       "       [-8.61369094e+00, -9.21467482e+00],\n",
       "       [-8.91846305e+00, -8.01933089e+00],\n",
       "       [-1.47897744e+01, -3.57239266e+00],\n",
       "       [-1.11557908e+01, -5.07876799e+00],\n",
       "       [-5.65372529e+00, -9.09602989e+00],\n",
       "       [-1.01846740e+01, -8.26808341e-01],\n",
       "       [ 1.55364218e+00, -9.16579658e+00],\n",
       "       [-2.82260299e+00, -6.10521405e+00],\n",
       "       [-5.80809610e+00, -3.88896958e+00],\n",
       "       [ 5.48888047e-01, -8.41247039e+00],\n",
       "       [-1.22246152e+01,  7.31471686e-01],\n",
       "       [-6.66268195e+00, -3.38430938e+00],\n",
       "       [ 7.19240500e-02, -8.16815429e+00],\n",
       "       [-1.64125485e+01,  3.66425023e+00],\n",
       "       [-1.00856646e+01, -8.09201640e-01],\n",
       "       [ 4.85688946e+00, -1.15438660e+01],\n",
       "       [-8.89193316e+00, -1.69348923e+00],\n",
       "       [ 9.83539194e-01, -5.23990787e+00],\n",
       "       [ 4.86176170e+00, -7.83995054e+00],\n",
       "       [ 7.11270380e+00, -8.32949817e+00],\n",
       "       [-6.91506399e+00,  1.80040810e+00],\n",
       "       [-2.65394818e+00, -1.98949328e-01],\n",
       "       [-4.20954748e+00,  1.28908296e+00],\n",
       "       [-3.00216853e+00,  1.43515694e+00],\n",
       "       [-8.56410176e+00,  5.55093801e+00],\n",
       "       [-5.48026470e+00,  3.35545766e+00],\n",
       "       [ 3.89131456e+00, -3.42960043e+00],\n",
       "       [-4.38487724e+00,  2.45040594e+00],\n",
       "       [ 1.75269668e+00, -1.89050582e+00],\n",
       "       [-7.91561133e+00,  6.26080715e+00],\n",
       "       [ 2.87781838e+00, -1.42337407e+00],\n",
       "       [-3.38823294e+00,  4.36747619e+00],\n",
       "       [-2.79957694e+00,  3.75521081e+00],\n",
       "       [ 2.44460212e+00, -1.98745323e-01],\n",
       "       [ 7.04863359e+00, -3.27258468e+00],\n",
       "       [ 3.48816526e+00, -8.34366932e-01],\n",
       "       [-2.22426899e+00,  3.53165883e+00],\n",
       "       [-3.85154940e+00,  5.64215388e+00],\n",
       "       [-4.72819210e+00,  6.36777396e+00],\n",
       "       [-9.73190228e+00,  9.92291729e+00],\n",
       "       [-5.42390087e+00,  6.79152170e+00],\n",
       "       [-2.09088611e+00,  4.36498207e+00],\n",
       "       [ 8.17442075e+00, -2.80861035e+00],\n",
       "       [-4.25963743e+00,  7.37477932e+00],\n",
       "       [ 2.47463584e+00,  2.59251312e+00],\n",
       "       [ 4.82458735e+00,  2.12057220e+00],\n",
       "       [ 6.20762879e+00,  1.10374449e+00],\n",
       "       [-7.60943758e+00,  1.08833082e+01],\n",
       "       [ 7.61239435e+00, -1.32464390e-01],\n",
       "       [-4.16446458e+00,  1.09285479e+01],\n",
       "       [ 7.02864384e+00,  2.76306274e+00],\n",
       "       [ 1.05887794e+01,  3.26423711e-01],\n",
       "       [-4.06578789e+00,  1.09477334e+01],\n",
       "       [ 1.08816716e+01,  2.49633076e+00],\n",
       "       [ 3.70086253e+01, -1.65715723e+01],\n",
       "       [-8.11136329e+00,  1.77213173e+01],\n",
       "       [ 2.81052680e+01, -8.77793015e+00],\n",
       "       [-6.58656288e+00,  1.77071451e+01],\n",
       "       [ 4.11409310e+01, -1.71194125e+01],\n",
       "       [-2.84744243e+01,  3.35759969e+01],\n",
       "       [ 2.57986982e+01, -5.90344419e+00],\n",
       "       [-2.77787156e+01,  3.31522492e+01],\n",
       "       [ 2.56097209e+01, -5.77248278e+00],\n",
       "       [-3.38202552e+00,  1.67305440e+01],\n",
       "       [ 2.45664573e+01, -3.71778619e+00],\n",
       "       [-2.46431207e+01,  3.35286461e+01],\n",
       "       [ 3.88951938e+01, -1.29275282e+01],\n",
       "       [-2.76062242e+01,  3.55223520e+01],\n",
       "       [ 2.65377888e+01, -3.92464688e+00],\n",
       "       [-1.99354738e+01,  3.13366002e+01],\n",
       "       [ 2.57738030e+01, -2.15105852e+00],\n",
       "       [-3.04577022e+01,  3.99894160e+01],\n",
       "       [ 4.34352216e+01, -1.37857614e+01],\n",
       "       [ 3.12158982e+00,  1.69136141e+01],\n",
       "       [ 3.93081209e+01, -9.53558446e+00],\n",
       "       [-1.77314505e+01,  3.33997445e+01],\n",
       "       [ 4.85124137e+01, -1.49884086e+01],\n",
       "       [-3.21370344e+00,  2.26383874e+01],\n",
       "       [ 2.96786219e+01, -1.26656692e+00],\n",
       "       [-1.09831970e+01,  2.96462611e+01],\n",
       "       [ 4.24651072e+01, -9.37699000e+00],\n",
       "       [-1.66143722e+01,  3.36959653e+01],\n",
       "       [ 3.99482020e+01, -7.57439386e+00],\n",
       "       [-1.44449887e+01,  3.21036643e+01],\n",
       "       [ 3.07053996e+01, -8.20199299e-01],\n",
       "       [-1.81559580e+01,  3.47921267e+01],\n",
       "       [ 4.30022716e+01, -9.72140398e+00],\n",
       "       [-2.80566583e+01,  4.20925098e+01],\n",
       "       [ 3.37892367e+01, -3.01567965e+00],\n",
       "       [-2.74897264e+01,  4.16996255e+01],\n",
       "       [ 2.98591898e+01, -1.46206864e-01],\n",
       "       [-4.33395289e+00,  2.58751711e+01],\n",
       "       [ 3.84968836e+01, -5.20772553e+00],\n",
       "       [-1.97451613e+01,  3.98647912e+01],\n",
       "       [ 4.71562681e+01, -9.06797167e+00],\n",
       "       [-6.74276964e+00,  3.51063622e+01],\n",
       "       [ 3.44177041e+01,  5.15049060e+00],\n",
       "       [-9.35838475e+00,  3.83104267e+01],\n",
       "       [ 5.12934461e+01, -5.91189643e+00],\n",
       "       [-2.13349996e+00,  3.43142059e+01],\n",
       "       [ 2.69184137e+01,  1.31317350e+01],\n",
       "       [-1.38938730e+01,  4.28741541e+01],\n",
       "       [ 3.71064352e+01,  5.72115470e+00],\n",
       "       [-1.54959919e+01,  4.40719921e+01],\n",
       "       [ 4.89567761e+01, -2.98736153e+00],\n",
       "       [-1.55726450e+01,  4.52525005e+01],\n",
       "       [ 4.59635392e+01,  4.77046978e-01],\n",
       "       [-1.51348227e+01,  4.48920585e+01],\n",
       "       [ 3.31679791e+01,  9.84194894e+00],\n",
       "       [-1.31666956e+01,  4.96388560e+01],\n",
       "       [ 5.11054712e+01,  2.87979602e+00],\n",
       "       [ 7.49379714e+00,  3.96595776e+01],\n",
       "       [ 5.08831894e+01,  8.01446456e+00],\n",
       "       [-6.98086768e+00,  5.14044048e+01],\n",
       "       [ 5.36107627e+01,  7.28217954e+00],\n",
       "       [ 1.34171991e+01,  3.77829380e+01],\n",
       "       [ 6.10841598e+01,  3.05805695e+00],\n",
       "       [ 3.47599286e-01,  4.97106312e+01],\n",
       "       [ 3.98450882e+01,  2.10558529e+01],\n",
       "       [-1.52051598e+00,  5.36421714e+01],\n",
       "       [ 5.28730074e+01,  1.39625346e+01],\n",
       "       [ 4.51838126e+00,  4.92820743e+01],\n",
       "       [ 4.10527667e+01,  2.26210019e+01],\n",
       "       [-1.19688712e+00,  6.58449930e+01],\n",
       "       [ 6.30973366e+01,  1.88649731e+01],\n",
       "       [ 6.56619775e+00,  6.87444357e+01],\n",
       "       [ 5.83525153e+01,  3.10175417e+01],\n",
       "       [ 1.99080013e+01,  6.64461080e+01],\n",
       "       [ 5.85208042e+01,  3.83460389e+01],\n",
       "       [ 2.09791300e+01,  7.93764054e+01],\n",
       "       [ 7.24476934e+01,  4.18113364e+01]])"
      ]
     },
     "execution_count": 63,
     "metadata": {},
     "output_type": "execute_result"
    }
   ],
   "source": [
    "pca_df"
   ]
  },
  {
   "cell_type": "code",
   "execution_count": 64,
   "metadata": {},
   "outputs": [],
   "source": [
    "pca_df = pd.DataFrame(pca_df, columns = ['PC1', 'PC2'])"
   ]
  },
  {
   "cell_type": "code",
   "execution_count": 65,
   "metadata": {},
   "outputs": [
    {
     "data": {
      "text/plain": [
       "<AxesSubplot:xlabel='PC1', ylabel='PC2'>"
      ]
     },
     "execution_count": 65,
     "metadata": {},
     "output_type": "execute_result"
    },
    {
     "data": {
      "image/png": "[encoded data removed]",
      "text/plain": [
       "<Figure size 1440x720 with 1 Axes>"
      ]
     },
     "metadata": {
      "needs_background": "light"
     },
     "output_type": "display_data"
    }
   ],
   "source": [
    "plt.figure(figsize = (20, 10))\n",
    "sns.scatterplot(x = pca_df['PC1'], y = pca_df['PC2'], hue = model.labels_, palette = 'Set2', s = 100)"
   ]
  },
  {
   "cell_type": "code",
   "execution_count": null,
   "metadata": {},
   "outputs": [],
   "source": []
  }
 ],
 "metadata": {
  "kernelspec": {
   "display_name": "Python 3",
   "language": "python",
   "name": "python3"
  },
  "language_info": {
   "codemirror_mode": {
    "name": "ipython",
    "version": 3
   },
   "file_extension": ".py",
   "mimetype": "text/x-python",
   "name": "python",
   "nbconvert_exporter": "python",
   "pygments_lexer": "ipython3",
   "version": "3.7.4"
  }
 },
 "nbformat": 4,
 "nbformat_minor": 4
}
