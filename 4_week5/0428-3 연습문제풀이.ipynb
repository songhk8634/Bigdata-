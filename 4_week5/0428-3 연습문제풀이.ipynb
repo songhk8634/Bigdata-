{
 "cells": [
  {
   "cell_type": "code",
   "execution_count": 5,
   "metadata": {},
   "outputs": [],
   "source": [
    "# 1-1\n",
    "\n",
    "def temp_avg(*num):\n",
    "    temp_list = [n for n in list(num) if n>=3]\n",
    "    avg = sum(temp_list) / (len(temp_list)-1)\n",
    "    return avg"
   ]
  },
  {
   "cell_type": "code",
   "execution_count": 6,
   "metadata": {},
   "outputs": [
    {
     "data": {
      "text/plain": [
       "6.0"
      ]
     },
     "execution_count": 6,
     "metadata": {},
     "output_type": "execute_result"
    }
   ],
   "source": [
    "temp_avg(1,2,3,4,5)"
   ]
  },
  {
   "cell_type": "code",
   "execution_count": 10,
   "metadata": {},
   "outputs": [],
   "source": [
    "# 1-2\n",
    "\n",
    "def temp_avg1(x):\n",
    "    temp_list = [num for num in x if num>=3]\n",
    "    avg = sum(temp_list) / (len(temp_list)-1)\n",
    "    return avg"
   ]
  },
  {
   "cell_type": "code",
   "execution_count": 16,
   "metadata": {},
   "outputs": [],
   "source": [
    "data=[1,2,3,4,5,6,7,8,9]\n",
    "data3=data*3"
   ]
  },
  {
   "cell_type": "code",
   "execution_count": 17,
   "metadata": {},
   "outputs": [
    {
     "data": {
      "text/plain": [
       "6.3"
      ]
     },
     "execution_count": 17,
     "metadata": {},
     "output_type": "execute_result"
    }
   ],
   "source": [
    "temp_avg1(data3)"
   ]
  },
  {
   "cell_type": "code",
   "execution_count": 18,
   "metadata": {},
   "outputs": [],
   "source": [
    "# 3\n",
    "def exponen(x, a, b):\n",
    "    assert (type(x) == int) & (type(a) == int) & (type(b) == int), 'input not integer'\n",
    "    if b > a:\n",
    "        result = [x**i for i in range(a, b+1)]\n",
    "    else:result = [x**i for i in range(b, a+1)]\n",
    "    \n",
    "    return result"
   ]
  },
  {
   "cell_type": "code",
   "execution_count": 19,
   "metadata": {},
   "outputs": [
    {
     "data": {
      "text/plain": [
       "[25, 125]"
      ]
     },
     "execution_count": 19,
     "metadata": {},
     "output_type": "execute_result"
    }
   ],
   "source": [
    "exponen(5,2,3)"
   ]
  },
  {
   "cell_type": "code",
   "execution_count": 22,
   "metadata": {},
   "outputs": [],
   "source": [
    "# 4\n",
    "records = [\n",
    "\n",
    "('a', 2, 4),\n",
    "\n",
    "('b', 4, 5, 7, 1),\n",
    "\n",
    "('a', 4, 7, 9),\n",
    "\n",
    "('b', 6, 8, 3)\n",
    "\n",
    "]\n",
    "\n",
    "a_length = []\n",
    "b_min = []\n",
    "for tag, *args in records:\n",
    "    if tag == 'a':\n",
    "        a_length.append(len(args))\n",
    "    elif tag == 'b':\n",
    "        b_min.append(min(args))"
   ]
  },
  {
   "cell_type": "code",
   "execution_count": 25,
   "metadata": {},
   "outputs": [
    {
     "data": {
      "text/plain": [
       "'c:\\\\pywork\\\\예제'"
      ]
     },
     "execution_count": 25,
     "metadata": {},
     "output_type": "execute_result"
    }
   ],
   "source": [
    "import os\n",
    "os.getcwd()"
   ]
  },
  {
   "cell_type": "code",
   "execution_count": 26,
   "metadata": {},
   "outputs": [],
   "source": [
    "# 5 \n",
    "os.chdir(\"c:\\pywork\")\n",
    "with open('examples/stock.txt', 'r') as f:\n",
    "    stock = f.readlines()\n",
    "\n",
    "import re\n",
    "pattern = re.compile(r'\\n')\n",
    "\n",
    "stock1 = []\n",
    "for i in range(0, len(stock)):\n",
    "    stock1.append(re.sub(r'\\n', \"\", stock[i]))\n",
    "\n",
    "stock2 = {'company' : stock1[0].split(','),\n",
    "         'share' : list(map(int,(stock1[1].split(',')))),\n",
    "         'price' : list(map(float,(stock1[2].split(','))))}\n",
    "\n",
    "stock2['company'].append('AMZ')\n",
    "stock2['share'].append(200)\n",
    "stock2['price'].append(420.8)"
   ]
  },
  {
   "cell_type": "code",
   "execution_count": 28,
   "metadata": {
    "scrolled": true
   },
   "outputs": [
    {
     "data": {
      "text/plain": [
       "['IBM,AAPL,FB,HPQ,YHOO,ACME',\n",
       " '100,50,200,35,45,75',\n",
       " '91.1,543.22,21.09,31.75,16.35,115.65']"
      ]
     },
     "execution_count": 28,
     "metadata": {},
     "output_type": "execute_result"
    }
   ],
   "source": [
    "stock1"
   ]
  },
  {
   "cell_type": "code",
   "execution_count": 29,
   "metadata": {},
   "outputs": [
    {
     "data": {
      "text/plain": [
       "{'company': ['IBM', 'AAPL', 'FB', 'HPQ', 'YHOO', 'ACME', 'AMZ'],\n",
       " 'share': [100, 50, 200, 35, 45, 75, 200],\n",
       " 'price': [91.1, 543.22, 21.09, 31.75, 16.35, 115.65, 420.8]}"
      ]
     },
     "execution_count": 29,
     "metadata": {},
     "output_type": "execute_result"
    }
   ],
   "source": [
    "stock2"
   ]
  },
  {
   "cell_type": "code",
   "execution_count": 38,
   "metadata": {},
   "outputs": [
    {
     "name": "stdout",
     "output_type": "stream",
     "text": [
      "가, 나, 다, 라\n"
     ]
    }
   ],
   "source": [
    "# 6\n",
    "def words():\n",
    "    x = input()\n",
    "    words = []\n",
    "    words.append(x)\n",
    "    return words\n",
    "\n",
    "# 실행하여 단어 입력\n",
    "a = words()\n",
    "\n",
    "# 문자열 분리\n",
    "b = a[0].split(',')\n",
    "\n",
    "# whitespace 제거 및 문자열 분리\n",
    "b = a[0].replace(\" \",\"\").split(\",\")"
   ]
  },
  {
   "cell_type": "code",
   "execution_count": 39,
   "metadata": {
    "scrolled": true
   },
   "outputs": [
    {
     "data": {
      "text/plain": [
       "['가, 나, 다, 라']"
      ]
     },
     "execution_count": 39,
     "metadata": {},
     "output_type": "execute_result"
    }
   ],
   "source": [
    "a"
   ]
  },
  {
   "cell_type": "code",
   "execution_count": 40,
   "metadata": {},
   "outputs": [
    {
     "data": {
      "text/plain": [
       "['가', '나', '다', '라']"
      ]
     },
     "execution_count": 40,
     "metadata": {},
     "output_type": "execute_result"
    }
   ],
   "source": [
    "b"
   ]
  },
  {
   "cell_type": "code",
   "execution_count": null,
   "metadata": {},
   "outputs": [],
   "source": []
  }
 ],
 "metadata": {
  "kernelspec": {
   "display_name": "Python 3",
   "language": "python",
   "name": "python3"
  },
  "language_info": {
   "codemirror_mode": {
    "name": "ipython",
    "version": 3
   },
   "file_extension": ".py",
   "mimetype": "text/x-python",
   "name": "python",
   "nbconvert_exporter": "python",
   "pygments_lexer": "ipython3",
   "version": "3.7.4"
  }
 },
 "nbformat": 4,
 "nbformat_minor": 2
}
