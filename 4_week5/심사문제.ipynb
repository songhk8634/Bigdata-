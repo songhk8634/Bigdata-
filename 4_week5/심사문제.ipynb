{
 "cells": [
  {
   "cell_type": "code",
   "execution_count": 9,
   "metadata": {},
   "outputs": [
    {
     "name": "stdout",
     "output_type": "stream",
     "text": [
      "90 81 86 80\n"
     ]
    },
    {
     "data": {
      "text/plain": [
       "True"
      ]
     },
     "execution_count": 9,
     "metadata": {},
     "output_type": "execute_result"
    }
   ],
   "source": [
    "# p105 심사문제\n",
    "score = input()\n",
    "a=score.split(\" \")\n",
    "b=list(map(int,a))\n",
    "b[0]>=90 and b[1]>80 and b[2]>85 and b[3]>=80"
   ]
  },
  {
   "cell_type": "code",
   "execution_count": 10,
   "metadata": {},
   "outputs": [
    {
     "name": "stdout",
     "output_type": "stream",
     "text": [
      "'python'is a \"programming language\"\n",
      "that lets you work quickly\n",
      "and\n",
      "integrate systems more effectively.\n"
     ]
    }
   ],
   "source": [
    "# p113 심사문제\n",
    "s=''''python'is a \"programming language\"\n",
    "that lets you work quickly\n",
    "and\n",
    "integrate systems more effectively.'''\n",
    "print(s)"
   ]
  },
  {
   "cell_type": "code",
   "execution_count": 11,
   "metadata": {},
   "outputs": [
    {
     "name": "stdout",
     "output_type": "stream",
     "text": [
      "3\n"
     ]
    },
    {
     "data": {
      "text/plain": [
       "(-10, -7, -4, -1, 2, 5, 8)"
      ]
     },
     "execution_count": 11,
     "metadata": {},
     "output_type": "execute_result"
    }
   ],
   "source": [
    "# p123 심사문제\n",
    "a= input()\n",
    "b=tuple(range(-10,10,int(a)))\n",
    "b"
   ]
  },
  {
   "cell_type": "code",
   "execution_count": 12,
   "metadata": {},
   "outputs": [
    {
     "name": "stdout",
     "output_type": "stream",
     "text": [
      "1 2 3 4 5 6 7 8 9 10\n"
     ]
    },
    {
     "data": {
      "text/plain": [
       "('1', '2', '3', '4', '5')"
      ]
     },
     "execution_count": 12,
     "metadata": {},
     "output_type": "execute_result"
    }
   ],
   "source": [
    "# p157 심사문제\n",
    "x=input()\n",
    "a=x.split(\" \")\n",
    "tuple(a[:-5])"
   ]
  },
  {
   "cell_type": "code",
   "execution_count": 13,
   "metadata": {},
   "outputs": [
    {
     "name": "stdout",
     "output_type": "stream",
     "text": [
      "apple\n",
      "strawberry\n",
      "plsrwer\n"
     ]
    }
   ],
   "source": [
    "# p158 심사문제\n",
    "a= input()\n",
    "b= input()\n",
    "print(a[1::2]+b[::2])"
   ]
  },
  {
   "cell_type": "code",
   "execution_count": 15,
   "metadata": {},
   "outputs": [
    {
     "name": "stdout",
     "output_type": "stream",
     "text": [
      "health mana melee attack_speed magic_resistance\n",
      "573.6 308.8 600 0.625 35.7\n"
     ]
    },
    {
     "data": {
      "text/plain": [
       "{'health': 573.6,\n",
       " 'mana': 308.8,\n",
       " 'melee': 600.0,\n",
       " 'attack_speed': 0.625,\n",
       " 'magic_resistance': 35.7}"
      ]
     },
     "execution_count": 15,
     "metadata": {},
     "output_type": "execute_result"
    }
   ],
   "source": [
    "# p168 심사문제\n",
    "a= input().split()\n",
    "b= input().split()\n",
    "c=map(float,b)\n",
    "dict(zip(a,c))"
   ]
  },
  {
   "cell_type": "code",
   "execution_count": 20,
   "metadata": {},
   "outputs": [
    {
     "name": "stdout",
     "output_type": "stream",
     "text": [
      "72000\n",
      "Cash5000\n",
      "67000\n"
     ]
    }
   ],
   "source": [
    "# p185 심사문제\n",
    "price=input()\n",
    "coupon=input()\n",
    "if coupon==\"Cash3000\":\n",
    "    print(int(price)-3000)\n",
    "elif coupon==\"Cash5000\":\n",
    "    print(int(price)-5000)\n",
    "else :\n",
    "    print(\"잘못 입력하셨습니다.\")"
   ]
  },
  {
   "cell_type": "code",
   "execution_count": 123,
   "metadata": {},
   "outputs": [
    {
     "ename": "SyntaxError",
     "evalue": "invalid syntax (<ipython-input-123-5004cbd287bc>, line 2)",
     "output_type": "error",
     "traceback": [
      "\u001b[1;36m  File \u001b[1;32m\"<ipython-input-123-5004cbd287bc>\"\u001b[1;36m, line \u001b[1;32m2\u001b[0m\n\u001b[1;33m    https://dojang.io/mod/forum/discuss.php?d=772\u001b[0m\n\u001b[1;37m           ^\u001b[0m\n\u001b[1;31mSyntaxError\u001b[0m\u001b[1;31m:\u001b[0m invalid syntax\n"
     ]
    }
   ],
   "source": [
    "# p195 미완\n",
    "https://dojang.io/mod/forum/discuss.php?d=772"
   ]
  },
  {
   "cell_type": "code",
   "execution_count": 6,
   "metadata": {},
   "outputs": [
    {
     "name": "stdout",
     "output_type": "stream",
     "text": [
      "79 79 79 79\n",
      "불합격\n"
     ]
    }
   ],
   "source": [
    "score=input().split()\n",
    "a,b,c,d=list(map(int,score))\n",
    "if 0<=a<=100 and 0<=b<=100 and 0<=c<=100 and 0<=d<=100:\n",
    "    if((a+b+c+d)/4)>=80:\n",
    "        print(\"합격\")\n",
    "    else:\n",
    "        print(\"불합격\")\n",
    "else:\n",
    "    print(\"잘못된 점수\")\n",
    "  "
   ]
  },
  {
   "cell_type": "code",
   "execution_count": 36,
   "metadata": {},
   "outputs": [
    {
     "name": "stdout",
     "output_type": "stream",
     "text": [
      "17\n",
      "7950\n"
     ]
    }
   ],
   "source": [
    "# p202 \n",
    "age=int(input())\n",
    "balance=9000\n",
    "if age<=12:\n",
    "    balance=balance-650\n",
    "elif age<=18:\n",
    "    balance=balance-1050\n",
    "else:\n",
    "    balance=balance-1250\n",
    "print(balance)"
   ]
  },
  {
   "cell_type": "code",
   "execution_count": 43,
   "metadata": {},
   "outputs": [
    {
     "name": "stdout",
     "output_type": "stream",
     "text": [
      "13500\n",
      "12150 \n",
      "\n",
      "10800 \n",
      "\n",
      "9450 \n",
      "\n",
      "8100 \n",
      "\n",
      "6750 \n",
      "\n",
      "5400 \n",
      "\n",
      "4050 \n",
      "\n",
      "2700 \n",
      "\n",
      "1350 \n",
      "\n",
      "0 \n",
      "\n"
     ]
    }
   ],
   "source": [
    "# p229\n",
    "price=int(input())\n",
    "while price>=1350:\n",
    "    print(price-1350,\"\\n\")\n",
    "    price=price-1350\n"
   ]
  },
  {
   "cell_type": "code",
   "execution_count": 55,
   "metadata": {},
   "outputs": [
    {
     "name": "stdout",
     "output_type": "stream",
     "text": [
      "21 33\n",
      "21 22 24 25 26 27 28 29 30 31 32 "
     ]
    }
   ],
   "source": [
    "# p240\n",
    "start,stop=map(int,input().split())\n",
    "i=start\n",
    "while True:\n",
    "    \n",
    "    if i%10==3:\n",
    "        i+=1\n",
    "    if i>stop:\n",
    "        break\n",
    "    print(i,end=\" \")\n",
    "    i+=1"
   ]
  },
  {
   "cell_type": "code",
   "execution_count": 18,
   "metadata": {},
   "outputs": [
    {
     "name": "stdout",
     "output_type": "stream",
     "text": [
      "10 20\n"
     ]
    },
    {
     "data": {
      "text/plain": [
       "[1024, 2048, 4096, 8192, 16384, 32768, 65536, 131072, 262144, 524288, 1048576]"
      ]
     },
     "execution_count": 18,
     "metadata": {},
     "output_type": "execute_result"
    }
   ],
   "source": [
    "# p311\n",
    "x,y = map(int,input().split())\n",
    "\n",
    "def exp_2(x,y):\n",
    "    x=x\n",
    "    y=y\n",
    "    assert (1<=x<=20)&(10<=y<=30)&(x<y),\"입력을 잘못하였습니다.\"\n",
    "    result = [2**i for i in range(x,y+1)]\n",
    "    return result\n",
    "exp_2(x,y)"
   ]
  },
  {
   "cell_type": "code",
   "execution_count": 19,
   "metadata": {},
   "outputs": [],
   "source": [
    "# p327\n",
    "# 대략 두시간 걸린다고 함 나중에해라"
   ]
  },
  {
   "cell_type": "code",
   "execution_count": 30,
   "metadata": {
    "scrolled": true
   },
   "outputs": [
    {
     "name": "stdout",
     "output_type": "stream",
     "text": [
      "the grown-ups' response, this time, was to advise me to lay aside my drawings of boa constrictors, whether from the inside or the outside, and devote myself instead to geography, history, arithmetic, and grammar. That is why, at the, age of six, I gave up what might have been a magnificent career as a painter. I had been disheartened by the failure of my Drawing Number One and my Drawing Number Two. Grown-ups never understand anything by themselves, and it is tiresome for children to be always and forever explaining thing to the.\n"
     ]
    }
   ],
   "source": [
    "# p350-1\n",
    "a=input()"
   ]
  },
  {
   "cell_type": "code",
   "execution_count": 31,
   "metadata": {},
   "outputs": [
    {
     "data": {
      "text/plain": [
       "\"the grown-ups' response, this time, was to advise me to lay aside my drawings of boa constrictors, whether from the inside or the outside, and devote myself instead to geography, history, arithmetic, and grammar That is why, at the, age of six, I gave up what might have been a magnificent career as a painter I had been disheartened by the failure of my Drawing Number One and my Drawing Number Two Grown-ups never understand anything by themselves, and it is tiresome for children to be always and forever explaining thing to the\""
      ]
     },
     "execution_count": 31,
     "metadata": {},
     "output_type": "execute_result"
    }
   ],
   "source": [
    "b=a.replace(\".\",\"\")  # .제거\n",
    "b"
   ]
  },
  {
   "cell_type": "code",
   "execution_count": 32,
   "metadata": {},
   "outputs": [
    {
     "data": {
      "text/plain": [
       "\"the grown-ups' response this time was to advise me to lay aside my drawings of boa constrictors whether from the inside or the outside and devote myself instead to geography history arithmetic and grammar That is why at the age of six I gave up what might have been a magnificent career as a painter I had been disheartened by the failure of my Drawing Number One and my Drawing Number Two Grown-ups never understand anything by themselves and it is tiresome for children to be always and forever explaining thing to the\""
      ]
     },
     "execution_count": 32,
     "metadata": {},
     "output_type": "execute_result"
    }
   ],
   "source": [
    "c=b.replace(\",\",\"\")  # ,제거\n",
    "c"
   ]
  },
  {
   "cell_type": "code",
   "execution_count": 33,
   "metadata": {},
   "outputs": [
    {
     "data": {
      "text/plain": [
       "['the',\n",
       " \"grown-ups'\",\n",
       " 'response',\n",
       " 'this',\n",
       " 'time',\n",
       " 'was',\n",
       " 'to',\n",
       " 'advise',\n",
       " 'me',\n",
       " 'to',\n",
       " 'lay',\n",
       " 'aside',\n",
       " 'my',\n",
       " 'drawings',\n",
       " 'of',\n",
       " 'boa',\n",
       " 'constrictors',\n",
       " 'whether',\n",
       " 'from',\n",
       " 'the',\n",
       " 'inside',\n",
       " 'or',\n",
       " 'the',\n",
       " 'outside',\n",
       " 'and',\n",
       " 'devote',\n",
       " 'myself',\n",
       " 'instead',\n",
       " 'to',\n",
       " 'geography',\n",
       " 'history',\n",
       " 'arithmetic',\n",
       " 'and',\n",
       " 'grammar',\n",
       " 'That',\n",
       " 'is',\n",
       " 'why',\n",
       " 'at',\n",
       " 'the',\n",
       " 'age',\n",
       " 'of',\n",
       " 'six',\n",
       " 'I',\n",
       " 'gave',\n",
       " 'up',\n",
       " 'what',\n",
       " 'might',\n",
       " 'have',\n",
       " 'been',\n",
       " 'a',\n",
       " 'magnificent',\n",
       " 'career',\n",
       " 'as',\n",
       " 'a',\n",
       " 'painter',\n",
       " 'I',\n",
       " 'had',\n",
       " 'been',\n",
       " 'disheartened',\n",
       " 'by',\n",
       " 'the',\n",
       " 'failure',\n",
       " 'of',\n",
       " 'my',\n",
       " 'Drawing',\n",
       " 'Number',\n",
       " 'One',\n",
       " 'and',\n",
       " 'my',\n",
       " 'Drawing',\n",
       " 'Number',\n",
       " 'Two',\n",
       " 'Grown-ups',\n",
       " 'never',\n",
       " 'understand',\n",
       " 'anything',\n",
       " 'by',\n",
       " 'themselves',\n",
       " 'and',\n",
       " 'it',\n",
       " 'is',\n",
       " 'tiresome',\n",
       " 'for',\n",
       " 'children',\n",
       " 'to',\n",
       " 'be',\n",
       " 'always',\n",
       " 'and',\n",
       " 'forever',\n",
       " 'explaining',\n",
       " 'thing',\n",
       " 'to',\n",
       " 'the']"
      ]
     },
     "execution_count": 33,
     "metadata": {},
     "output_type": "execute_result"
    }
   ],
   "source": [
    "d=c.split()  # 분리\n",
    "d"
   ]
  },
  {
   "cell_type": "code",
   "execution_count": 34,
   "metadata": {},
   "outputs": [
    {
     "data": {
      "text/plain": [
       "6"
      ]
     },
     "execution_count": 34,
     "metadata": {},
     "output_type": "execute_result"
    }
   ],
   "source": [
    "d.count(\"the\")"
   ]
  },
  {
   "cell_type": "code",
   "execution_count": 115,
   "metadata": {},
   "outputs": [
    {
     "name": "stdout",
     "output_type": "stream",
     "text": [
      "51900;83000;158000;367500;250000;59200;128500;1304000\n"
     ]
    },
    {
     "data": {
      "text/plain": [
       "['51900', '83000', '158000', '367500', '250000', '59200', '128500', '1304000']"
      ]
     },
     "execution_count": 115,
     "metadata": {},
     "output_type": "execute_result"
    }
   ],
   "source": [
    "# p350-2   길이9 오른쪽정렬 천단위 ,삽입\n",
    "\n",
    "price=input()\n",
    "price_1=price.replace(\";\",\" \")    # ; 제거\n",
    "price_2=price_1.split(\" \")        # 분리\n",
    "price_2"
   ]
  },
  {
   "cell_type": "code",
   "execution_count": 116,
   "metadata": {
    "scrolled": true
   },
   "outputs": [
    {
     "data": {
      "text/plain": [
       "[51900, 83000, 158000, 367500, 250000, 59200, 128500, 1304000]"
      ]
     },
     "execution_count": 116,
     "metadata": {},
     "output_type": "execute_result"
    }
   ],
   "source": [
    "a=list(map(int,price_2))     # 문자열을 int로 전환\n",
    "a"
   ]
  },
  {
   "cell_type": "code",
   "execution_count": 112,
   "metadata": {},
   "outputs": [
    {
     "data": {
      "text/plain": [
       "[1304000, 367500, 250000, 158000, 128500, 83000, 59200, 51900]"
      ]
     },
     "execution_count": 112,
     "metadata": {},
     "output_type": "execute_result"
    }
   ],
   "source": [
    "for i in range(len(a)):\n",
    "    j=len(a)-i\n",
    "    for k in range(1,j):\n",
    "        if a[k-1]<=a[k]:\n",
    "            blank=a[k-1]\n",
    "            a[k-1]=a[k]\n",
    "            a[k]=blank       \n",
    "a       \n",
    "# bubble sort 1"
   ]
  },
  {
   "cell_type": "code",
   "execution_count": 126,
   "metadata": {},
   "outputs": [
    {
     "name": "stdout",
     "output_type": "stream",
     "text": [
      "[1304000, 367500, 250000, 158000, 128500, 83000, 59200, 51900]\n"
     ]
    }
   ],
   "source": [
    "for i in range(len(a)-1,0,-1):\n",
    "    for j in range(i):\n",
    "        if a[j]<a[j+1]:\n",
    "            a[j],a[j+1]=a[j+1],a[j]\n",
    "print(a)\n",
    "# bubble sort 2"
   ]
  },
  {
   "cell_type": "code",
   "execution_count": 125,
   "metadata": {},
   "outputs": [
    {
     "name": "stdout",
     "output_type": "stream",
     "text": [
      "1,304,000\n",
      "  367,500\n",
      "  250,000\n",
      "  158,000\n",
      "  128,500\n",
      "   83,000\n",
      "   59,200\n",
      "   51,900\n"
     ]
    }
   ],
   "source": [
    "for i in a:\n",
    "    \n",
    "    print(\"%9s\"%format(int(i),\",\"))\n",
    "    \n",
    "# 길이를 9로 만든 뒤 오른쪽으로 정렬 후 (천)단위로 , 삽입"
   ]
  },
  {
   "cell_type": "code",
   "execution_count": 133,
   "metadata": {},
   "outputs": [
    {
     "name": "stdout",
     "output_type": "stream",
     "text": [
      "alpha bravo charlie delta echo foxtrot\n",
      "30 40 50 50 60 30\n",
      "{'bravo': 40, 'charlie': 50, 'echo': 60}\n"
     ]
    }
   ],
   "source": [
    "# p375\n",
    "keys = input().split()\n",
    "values=map(int, input().split())\n",
    "\n",
    "x= dict(zip(keys, values))\n",
    "\n",
    "del x[\"delta\"]    # key가 delta인 key-value 삭제\n",
    "x={key:value for key, value in x.items() if value!=30}\n",
    "# value가 30이 아닌 key-value로 다시 dictionary 생성\n",
    "\n",
    "print(x)"
   ]
  },
  {
   "cell_type": "code",
   "execution_count": 153,
   "metadata": {},
   "outputs": [
    {
     "name": "stdout",
     "output_type": "stream",
     "text": [
      "100 200\n",
      "217\n"
     ]
    }
   ],
   "source": [
    "# p395\n",
    "a1,b1=input().split()           # a1 b1 입력\n",
    "def divide(num):\n",
    "    list=[]\n",
    "    for i in range(1,num+1):\n",
    "        if num%i==0:\n",
    "            list.append(i)\n",
    "    return list                 # 약수 출력하는 함수 divide\n",
    "a_list=divide(int(a1))     # a1,b1 은 문자열이므로 int로 바꾼후 divide함수 이용\n",
    "b_list=divide(int(b1))     # 저장된 값은 리스트\n",
    "\n",
    "a=set(a_list)              # 각각 set로 변환  &연산자 사용하기 위해\n",
    "b=set(b_list)\n",
    "\n",
    "divisor = a&b\n",
    "\n",
    "result = 0\n",
    "if type(divisor)==set:\n",
    "    result = sum(divisor)\n",
    "\n",
    "print(result)"
   ]
  },
  {
   "cell_type": "code",
   "execution_count": 161,
   "metadata": {},
   "outputs": [
    {
     "name": "stdout",
     "output_type": "stream",
     "text": [
      "dictator\n",
      "subjects\n",
      "change\n",
      "costume\n",
      "elegance\n",
      "accepted\n"
     ]
    }
   ],
   "source": [
    "# p411\n",
    "with open(\"examples/words.txt\",\"r\")as file:\n",
    "    a=file.read()\n",
    "b=a.replace(\",\",\"\")\n",
    "b1=b.replace(\".\",\"\")\n",
    "c=b1.split()\n",
    "result=[]\n",
    "for i in c:\n",
    "    if \"c\" in i:\n",
    "        result.append(i)\n",
    "for j in range(0,len(result)):\n",
    "    print(result[j])\n",
    "    j+=1"
   ]
  },
  {
   "cell_type": "code",
   "execution_count": 177,
   "metadata": {},
   "outputs": [
    {
     "name": "stdout",
     "output_type": "stream",
     "text": [
      "did\n",
      "noon\n",
      "refer\n"
     ]
    }
   ],
   "source": [
    "# p421 \n",
    "def palindrome(word):               # 회문 판단함수 palindrome\n",
    "    for a in word:\n",
    "        if list(a)==list(reversed(a)):\n",
    "            print(a)\n",
    "    \n",
    "with open('examples/words_2.txt','r') as f:\n",
    "    words=f.readlines()\n",
    "words_2=[a.strip() for a in words]\n",
    "\n",
    "palindrome(words_2)"
   ]
  },
  {
   "cell_type": "code",
   "execution_count": 162,
   "metadata": {},
   "outputs": [
    {
     "name": "stdout",
     "output_type": "stream",
     "text": [
      "40 8\n",
      "덧셈 : 48, 뺄셈 : 32, 곱셈 : 320, 나눗셈 : 5.0\n"
     ]
    }
   ],
   "source": [
    "# p439\n",
    "x,y = map(int,input().split())\n",
    "def calc (x,y):\n",
    "    x=x\n",
    "    y=y\n",
    "    return(x+y, x-y, x*y, x/y)\n",
    "\n",
    "a,s,m,d=calc(x,y)\n",
    "print(\"덧셈 : {0}, 뺄셈 : {1}, 곱셈 : {2}, 나눗셈 : {3}\".format(a,s,m,d))"
   ]
  },
  {
   "cell_type": "code",
   "execution_count": 190,
   "metadata": {},
   "outputs": [
    {
     "name": "stdout",
     "output_type": "stream",
     "text": [
      "89 92 73 83\n",
      "낮은 점수 : 73.00, 높은 점수 : 92.00, 평균 점수 : 84.25\n",
      "낮은 점수 : 83.00, 높은 점수 : 92.00, 평균 점수 : 87.50\n"
     ]
    }
   ],
   "source": [
    "# p453\n",
    "\n",
    "korean, english, mathematics, science = map(int, input().split())\n",
    "\n",
    "def get_min_max_score(*args):\n",
    "    return min(args),max(args)\n",
    "def get_average(*args):\n",
    "    return sum(args)/len(args)\n",
    "\n",
    "min_score, max_score = get_min_max_score(korean, english, mathematics, science)\n",
    "average_score = get_average(korean, english,mathematics, science)\n",
    "print(\"낮은 점수 : {0:.2f}, 높은 점수 : {1:.2f}, 평균 점수 : {2:.2f}\".format(min_score, max_score, average_score))\n",
    "\n",
    "min_score, max_score = get_min_max_score(english, science)\n",
    "average_score = get_average(english, science)\n",
    "print(\"낮은 점수 : {0:.2f}, 높은 점수 : {1:.2f}, 평균 점수 : {2:.2f}\".format(min_score, max_score, average_score))"
   ]
  },
  {
   "cell_type": "code",
   "execution_count": 191,
   "metadata": {},
   "outputs": [
    {
     "name": "stdout",
     "output_type": "stream",
     "text": [
      "20\n",
      "6765\n"
     ]
    }
   ],
   "source": [
    "# p462\n",
    "def fib(n):\n",
    "    if n==1:\n",
    "        return 1\n",
    "    elif n==2:\n",
    "        return 1\n",
    "    return fib(n-1)+fib(n-2)\n",
    "\n",
    "\n",
    "n=int(input())\n",
    "print(fib(n))\n"
   ]
  },
  {
   "cell_type": "code",
   "execution_count": null,
   "metadata": {},
   "outputs": [],
   "source": [
    "# p476\n",
    "\n",
    "\n"
   ]
  },
  {
   "cell_type": "code",
   "execution_count": null,
   "metadata": {},
   "outputs": [],
   "source": [
    "# p490"
   ]
  },
  {
   "cell_type": "code",
   "execution_count": 160,
   "metadata": {
    "scrolled": true
   },
   "outputs": [
    {
     "name": "stdout",
     "output_type": "stream",
     "text": [
      "1803.68 1184.0 645\n",
      "티버 : 피해량  819.25\n"
     ]
    }
   ],
   "source": [
    "# p509\n",
    "\n",
    "# 체력, 마나, ap  피해량 AP * 0.65 + 400\n",
    "# Annie 클래스 생성 tibbers 스킬의 피해량이 출력되게\n",
    "\n",
    "class Annie:\n",
    "    def __init__(self,health,mana,ability_power):  \n",
    "        # __init__메서드 안에 self.속성 값 할당\n",
    "        self.health=health   \n",
    "        self.mana=mana\n",
    "        self.ability_power=ability_power\n",
    "    def tibbers(self):\n",
    "        print(\"티버 : 피해량 \",self.ability_power*0.65+400)\n",
    "\n",
    "health, mana, ability_power = map(float, input().split())\n",
    "x= Annie(health=health, mana=mana, ability_power=ability_power)\n",
    "x.tibbers()"
   ]
  },
  {
   "cell_type": "code",
   "execution_count": null,
   "metadata": {},
   "outputs": [],
   "source": [
    "# p521\n",
    "\n",
    "class Time:\n",
    "    def __init__(self,hour,minute,second):\n",
    "        self.hour=hour\n",
    "        self.minute=minute\n",
    "        self.second=second\n",
    "         \n",
    "            \n",
    "        \n",
    "        \n",
    "        \n",
    "time_string=input()\n",
    "\n",
    "if Time.is_time_valie(time_string):\n",
    "    t=Time.from_string(time_string)\n",
    "    print(t.hour,t.minute,t.second)\n",
    "else:\n",
    "    print(\"잘못된 시간 형식입니다.\")"
   ]
  },
  {
   "cell_type": "code",
   "execution_count": 192,
   "metadata": {},
   "outputs": [],
   "source": [
    "# p541"
   ]
  },
  {
   "cell_type": "code",
   "execution_count": 193,
   "metadata": {},
   "outputs": [],
   "source": [
    "# p549"
   ]
  },
  {
   "cell_type": "code",
   "execution_count": 194,
   "metadata": {},
   "outputs": [],
   "source": [
    "# p569"
   ]
  }
 ],
 "metadata": {
  "kernelspec": {
   "display_name": "Python 3",
   "language": "python",
   "name": "python3"
  },
  "language_info": {
   "codemirror_mode": {
    "name": "ipython",
    "version": 3
   },
   "file_extension": ".py",
   "mimetype": "text/x-python",
   "name": "python",
   "nbconvert_exporter": "python",
   "pygments_lexer": "ipython3",
   "version": "3.7.4"
  }
 },
 "nbformat": 4,
 "nbformat_minor": 2
}
