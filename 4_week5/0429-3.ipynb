{
 "cells": [
  {
   "cell_type": "code",
   "execution_count": 90,
   "metadata": {},
   "outputs": [],
   "source": [
    "import re"
   ]
  },
  {
   "cell_type": "code",
   "execution_count": 91,
   "metadata": {},
   "outputs": [],
   "source": [
    "import os"
   ]
  },
  {
   "cell_type": "code",
   "execution_count": 92,
   "metadata": {},
   "outputs": [],
   "source": [
    "import csv"
   ]
  },
  {
   "cell_type": "code",
   "execution_count": 110,
   "metadata": {},
   "outputs": [],
   "source": [
    "file = open(\"date2.csv\",\"r\")\n",
    "reader = csv.reader(file)\n",
    "date2=[]\n",
    "for line in reader:\n",
    "    date2=line\n",
    "date2_str=str(date2)   # re.findall에 입력하기 위한 처리과정"
   ]
  },
  {
   "cell_type": "code",
   "execution_count": 104,
   "metadata": {},
   "outputs": [],
   "source": [
    "right=re.findall(\"\\d+/\\d+/\\d+\",date2_str) # 정상적인 날짜"
   ]
  },
  {
   "cell_type": "code",
   "execution_count": 111,
   "metadata": {
    "scrolled": true
   },
   "outputs": [],
   "source": [
    "wrong=[]\n",
    "for s1 in date2:            # date2에 원소\n",
    "    if not s1 in right:     # right 안에 없으면 비정상적인 날짜니깐\n",
    "        wrong.append(s1)     # 해당 원소 wrong안에 추가"
   ]
  },
  {
   "cell_type": "code",
   "execution_count": 106,
   "metadata": {},
   "outputs": [
    {
     "data": {
      "text/plain": [
       "[80, 521, 793, 836, 856, 872, 907, 945]"
      ]
     },
     "execution_count": 106,
     "metadata": {},
     "output_type": "execute_result"
    }
   ],
   "source": [
    "wrong_index=[]\n",
    "for index in range(0,len(date2)):\n",
    "    if \"-\" in date2[index]:           # date2에 -가 포함되어 있으면 해당 index를\n",
    "        wrong_index.append(index+1)   # wrong_index에 추가\n",
    "wrong_index\n",
    "    "
   ]
  },
  {
   "cell_type": "code",
   "execution_count": 115,
   "metadata": {},
   "outputs": [],
   "source": [
    "del wrong[-1]"
   ]
  },
  {
   "cell_type": "code",
   "execution_count": 116,
   "metadata": {},
   "outputs": [
    {
     "data": {
      "text/plain": [
       "['5/-/2010',\n",
       " '11/-/2001',\n",
       " '3/-/2018',\n",
       " '3/-/2013',\n",
       " '1/-/2002',\n",
       " '2/-/2017',\n",
       " '3/-/2006',\n",
       " '4/-/2020']"
      ]
     },
     "execution_count": 116,
     "metadata": {},
     "output_type": "execute_result"
    }
   ],
   "source": [
    "wrong"
   ]
  }
 ],
 "metadata": {
  "kernelspec": {
   "display_name": "Python 3",
   "language": "python",
   "name": "python3"
  },
  "language_info": {
   "codemirror_mode": {
    "name": "ipython",
    "version": 3
   },
   "file_extension": ".py",
   "mimetype": "text/x-python",
   "name": "python",
   "nbconvert_exporter": "python",
   "pygments_lexer": "ipython3",
   "version": "3.7.4"
  }
 },
 "nbformat": 4,
 "nbformat_minor": 2
}
