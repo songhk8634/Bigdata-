{
 "cells": [
  {
   "cell_type": "code",
   "execution_count": 1,
   "metadata": {},
   "outputs": [],
   "source": [
    "import pandas as pd\n",
    "import numpy as np\n",
    "import plotly.express as px\n",
    "import dash\n",
    "import dash_html_components as html\n",
    "import dash_core_components as dcc"
   ]
  },
  {
   "cell_type": "code",
   "execution_count": 4,
   "metadata": {},
   "outputs": [],
   "source": [
    "## 데이터 정리\n",
    "df = px.data.gapminder()\n",
    "app = dash.Dash(__name__)"
   ]
  },
  {
   "cell_type": "code",
   "execution_count": 41,
   "metadata": {},
   "outputs": [],
   "source": [
    "## 1990년 이후\n",
    "df[df.year >= 1990]\n",
    "\n",
    "## 연도별, 대륙별 그룹 split\n",
    "df[df.year >= 1990].groupby(['year','continent'])\n",
    "\n",
    "## group by 한 데이터로부터 pop의 평균\n",
    "df[df.year >= 1990].groupby(['year','continent']).mean()\n",
    "\n",
    "## aggr pop\n",
    "df[df.year >= 1990].groupby(['year','continent']).mean()['pop']\n",
    "\n",
    "## index를 column으로 \n",
    "data = df[df.year >= 1990].groupby(['year','continent']).mean()['pop'].reset_index()\n",
    "\n",
    "## continent + year 새로운 column생성\n",
    "data['continent_year'] = data.continent + '_' + data.year.astype('str')"
   ]
  },
  {
   "cell_type": "code",
   "execution_count": 42,
   "metadata": {},
   "outputs": [],
   "source": [
    "## pie graph 생성\n",
    "pie1 = px.pie(data, values='pop',names='continent_year',title = 'Continent_Year')"
   ]
  },
  {
   "cell_type": "code",
   "execution_count": 43,
   "metadata": {},
   "outputs": [],
   "source": [
    "df.loc[df.continent=='Oceania',:]\n",
    "pie2 = px.pie(df.loc[df.continent=='Oceania',], values = 'pop',names = 'country')"
   ]
  },
  {
   "cell_type": "code",
   "execution_count": 50,
   "metadata": {},
   "outputs": [],
   "source": [
    "app.layout = html.Div(\n",
    "    [\n",
    "        dcc.Graph(\n",
    "            id = 'myGraph',\n",
    "            figure = pie1),\n",
    "        dcc.Graph(\n",
    "            id = 'myGraph2',\n",
    "            figure = pie2)\n",
    "    ]\n",
    "\n",
    ")"
   ]
  },
  {
   "cell_type": "markdown",
   "metadata": {},
   "source": [
    "# =========================================================="
   ]
  },
  {
   "cell_type": "code",
   "execution_count": 47,
   "metadata": {},
   "outputs": [],
   "source": [
    "app.layout = html.Div(\n",
    "    [\n",
    "        dcc.Dropdown(\n",
    "            id = 'drop-down',\n",
    "            options = [\n",
    "                {'label':'Oceania','value':'Oceania'},\n",
    "                {'label':'Asia','value':'Asia'}\n",
    "            ],\n",
    "            value = 'Oceania',\n",
    "            placeholder = '대륙을 선택하시오'\n",
    "        ),\n",
    "        dcc.Graph(\n",
    "            id = 'myGraph2',\n",
    "            figure = pie2)\n",
    "    ]\n",
    ")"
   ]
  },
  {
   "cell_type": "code",
   "execution_count": 48,
   "metadata": {},
   "outputs": [
    {
     "name": "stdout",
     "output_type": "stream",
     "text": [
      "Dash is running on http://127.0.0.1:7777/\n",
      "\n",
      "Dash is running on http://127.0.0.1:7777/\n",
      "\n",
      " * Serving Flask app \"__main__\" (lazy loading)\n",
      " * Environment: production\n",
      "   WARNING: This is a development server. Do not use it in a production deployment.\n",
      "   Use a production WSGI server instead.\n",
      " * Debug mode: off\n"
     ]
    },
    {
     "name": "stderr",
     "output_type": "stream",
     "text": [
      " * Running on http://127.0.0.1:7777/ (Press CTRL+C to quit)\n",
      "127.0.0.1 - - [17/May/2021 14:25:01] \"GET / HTTP/1.1\" 200 -\n",
      "127.0.0.1 - - [17/May/2021 14:25:01] \"GET /_dash-layout HTTP/1.1\" 200 -\n",
      "127.0.0.1 - - [17/May/2021 14:25:01] \"GET /_dash-dependencies HTTP/1.1\" 200 -\n",
      "127.0.0.1 - - [17/May/2021 14:25:01] \"GET /_favicon.ico?v=1.20.0 HTTP/1.1\" 200 -\n"
     ]
    }
   ],
   "source": [
    "app.run_server(host = '127.0.0.1', port = '7777')"
   ]
  },
  {
   "cell_type": "code",
   "execution_count": null,
   "metadata": {},
   "outputs": [],
   "source": []
  }
 ],
 "metadata": {
  "kernelspec": {
   "display_name": "Python 3",
   "language": "python",
   "name": "python3"
  },
  "language_info": {
   "codemirror_mode": {
    "name": "ipython",
    "version": 3
   },
   "file_extension": ".py",
   "mimetype": "text/x-python",
   "name": "python",
   "nbconvert_exporter": "python",
   "pygments_lexer": "ipython3",
   "version": "3.7.4"
  }
 },
 "nbformat": 4,
 "nbformat_minor": 4
}
