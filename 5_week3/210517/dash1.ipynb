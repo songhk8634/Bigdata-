{
 "cells": [
  {
   "cell_type": "markdown",
   "metadata": {},
   "source": [
    "# Dash 기본"
   ]
  },
  {
   "cell_type": "code",
   "execution_count": 2,
   "metadata": {},
   "outputs": [],
   "source": [
    "import numpy as np\n",
    "import pandas as pd\n",
    "import dash\n",
    "import dash_core_components as dcc\n",
    "import dash_html_components as html\n",
    "import dash_bootstrap_components as dbc\n",
    "import plotly.express as px"
   ]
  },
  {
   "cell_type": "code",
   "execution_count": 11,
   "metadata": {},
   "outputs": [],
   "source": [
    "app = dash.Dash() "
   ]
  },
  {
   "cell_type": "code",
   "execution_count": 10,
   "metadata": {},
   "outputs": [],
   "source": [
    "app.layout = html.Div(\n",
    "    [\n",
    "        html.H1(' H1내용 삽입' ),\n",
    "        html.H2(' H2'),\n",
    "        html.H3(' H3'),\n",
    "        html.H4(' H4'),\n",
    "        html.H5(' H5'),\n",
    "        html.H6(' H6'),\n",
    "    ]\n",
    ")"
   ]
  },
  {
   "cell_type": "code",
   "execution_count": 9,
   "metadata": {},
   "outputs": [
    {
     "name": "stdout",
     "output_type": "stream",
     "text": [
      "Dash is running on http://127.0.0.1:7777/\n",
      "\n",
      " * Serving Flask app \"__main__\" (lazy loading)\n",
      " * Environment: production\n",
      "   WARNING: This is a development server. Do not use it in a production deployment.\n",
      "   Use a production WSGI server instead.\n",
      " * Debug mode: off\n"
     ]
    },
    {
     "name": "stderr",
     "output_type": "stream",
     "text": [
      " * Running on http://127.0.0.1:7777/ (Press CTRL+C to quit)\n",
      "127.0.0.1 - - [17/May/2021 09:30:17] \"GET / HTTP/1.1\" 200 -\n",
      "127.0.0.1 - - [17/May/2021 09:30:17] \"GET /_dash-component-suites/dash_renderer/react@16.v1_9_1m1621210940.14.0.min.js HTTP/1.1\" 200 -\n",
      "127.0.0.1 - - [17/May/2021 09:30:17] \"GET /_dash-component-suites/dash_renderer/polyfill@7.v1_9_1m1621210940.8.7.min.js HTTP/1.1\" 200 -\n",
      "127.0.0.1 - - [17/May/2021 09:30:17] \"GET /_dash-component-suites/dash_renderer/prop-types@15.v1_9_1m1621210940.7.2.min.js HTTP/1.1\" 200 -\n",
      "127.0.0.1 - - [17/May/2021 09:30:17] \"GET /_dash-component-suites/dash_html_components/dash_html_components.v1_1_3m1621210938.min.js HTTP/1.1\" 200 -\n",
      "127.0.0.1 - - [17/May/2021 09:30:17] \"GET /_dash-component-suites/dash_renderer/react-dom@16.v1_9_1m1621210940.14.0.min.js HTTP/1.1\" 200 -\n",
      "127.0.0.1 - - [17/May/2021 09:30:17] \"GET /_dash-component-suites/dash_core_components/dash_core_components-shared.v1_16_0m1621210939.js HTTP/1.1\" 200 -\n",
      "127.0.0.1 - - [17/May/2021 09:30:17] \"GET /_dash-component-suites/dash_bootstrap_components/_components/dash_bootstrap_components.v0_12_2m1621211250.min.js HTTP/1.1\" 200 -\n",
      "127.0.0.1 - - [17/May/2021 09:30:17] \"GET /_dash-component-suites/dash_renderer/dash_renderer.v1_9_1m1621210940.min.js HTTP/1.1\" 200 -\n",
      "127.0.0.1 - - [17/May/2021 09:30:17] \"GET /_dash-component-suites/dash_core_components/dash_core_components.v1_16_0m1621210939.min.js HTTP/1.1\" 200 -\n",
      "127.0.0.1 - - [17/May/2021 09:30:17] \"GET /_dash-layout HTTP/1.1\" 200 -\n",
      "127.0.0.1 - - [17/May/2021 09:30:17] \"GET /_dash-dependencies HTTP/1.1\" 200 -\n",
      "127.0.0.1 - - [17/May/2021 09:30:17] \"GET /_favicon.ico?v=1.20.0 HTTP/1.1\" 200 -\n",
      "127.0.0.1 - - [17/May/2021 09:30:26] \"GET / HTTP/1.1\" 200 -\n",
      "127.0.0.1 - - [17/May/2021 09:30:26] \"GET /_dash-layout HTTP/1.1\" 200 -\n",
      "127.0.0.1 - - [17/May/2021 09:30:26] \"GET /_dash-dependencies HTTP/1.1\" 200 -\n",
      "127.0.0.1 - - [17/May/2021 09:30:26] \"GET /_favicon.ico?v=1.20.0 HTTP/1.1\" 200 -\n",
      "127.0.0.1 - - [17/May/2021 09:30:27] \"GET / HTTP/1.1\" 200 -\n",
      "127.0.0.1 - - [17/May/2021 09:30:27] \"GET /_dash-layout HTTP/1.1\" 200 -\n",
      "127.0.0.1 - - [17/May/2021 09:30:27] \"GET /_dash-dependencies HTTP/1.1\" 200 -\n",
      "127.0.0.1 - - [17/May/2021 09:30:27] \"GET /_favicon.ico?v=1.20.0 HTTP/1.1\" 200 -\n"
     ]
    }
   ],
   "source": [
    "## external style-sheets\n",
    "app.run_server( port = '7777')"
   ]
  },
  {
   "cell_type": "code",
   "execution_count": null,
   "metadata": {},
   "outputs": [],
   "source": []
  }
 ],
 "metadata": {
  "kernelspec": {
   "display_name": "Python 3",
   "language": "python",
   "name": "python3"
  },
  "language_info": {
   "codemirror_mode": {
    "name": "ipython",
    "version": 3
   },
   "file_extension": ".py",
   "mimetype": "text/x-python",
   "name": "python",
   "nbconvert_exporter": "python",
   "pygments_lexer": "ipython3",
   "version": "3.7.4"
  }
 },
 "nbformat": 4,
 "nbformat_minor": 4
}
