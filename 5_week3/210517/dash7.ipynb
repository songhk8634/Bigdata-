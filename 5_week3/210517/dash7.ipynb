{
 "cells": [
  {
   "cell_type": "markdown",
   "metadata": {},
   "source": [
    "# DropDown으로 Pie Graph 실행"
   ]
  },
  {
   "cell_type": "code",
   "execution_count": 36,
   "metadata": {},
   "outputs": [],
   "source": [
    "import pandas as pd\n",
    "import numpy as np\n",
    "import plotly.express as px\n",
    "import dash\n",
    "import dash_html_components as html\n",
    "import dash_core_components as dcc\n",
    "from dash.dependencies import Output,Input"
   ]
  },
  {
   "cell_type": "code",
   "execution_count": 37,
   "metadata": {},
   "outputs": [],
   "source": [
    "df = px.data.gapminder()"
   ]
  },
  {
   "cell_type": "code",
   "execution_count": 38,
   "metadata": {},
   "outputs": [],
   "source": [
    "app = dash.Dash(__name__)"
   ]
  },
  {
   "cell_type": "markdown",
   "metadata": {},
   "source": [
    "## **Asia Oceania**"
   ]
  },
  {
   "cell_type": "code",
   "execution_count": 41,
   "metadata": {},
   "outputs": [],
   "source": [
    "app.layout = html.Div(\n",
    "    [\n",
    "        dcc.Dropdown( \n",
    "            id = 'drop-down',\n",
    "            options = [\n",
    "                {'label':\"Oceania\", 'value':\"Oceania\"},\n",
    "                {'label':\"Asia\", 'value':\"Asia\"}\n",
    "            ],\n",
    "            value = 'Oceania'\n",
    "        ),\n",
    "        dcc.Graph( \n",
    "            id = 'mygraph'\n",
    "        )\n",
    "    ]\n",
    ")\n",
    "\n",
    "\n",
    "@app.callback(\n",
    "    Output('mygraph','figure'),\n",
    "    [Input('drop-down','value')]\n",
    ")\n",
    "\n",
    "def mygraph(continent):\n",
    "    data = df.loc[df.continent == continent,['country','pop']]\n",
    "    pie = px.pie(data, values = 'pop', names = 'country')\n",
    "    return pie\n",
    "    \n",
    "\n"
   ]
  },
  {
   "cell_type": "code",
   "execution_count": 40,
   "metadata": {},
   "outputs": [
    {
     "name": "stdout",
     "output_type": "stream",
     "text": [
      "Dash is running on http://127.0.0.1:7777/\n",
      "\n",
      "Dash is running on http://127.0.0.1:7777/\n",
      "\n",
      "Dash is running on http://127.0.0.1:7777/\n",
      "\n",
      " * Serving Flask app \"__main__\" (lazy loading)\n",
      " * Environment: production\n",
      "   WARNING: This is a development server. Do not use it in a production deployment.\n",
      "   Use a production WSGI server instead.\n",
      " * Debug mode: off\n"
     ]
    },
    {
     "name": "stderr",
     "output_type": "stream",
     "text": [
      " * Running on http://127.0.0.1:7777/ (Press CTRL+C to quit)\n",
      "127.0.0.1 - - [17/May/2021 14:55:11] \"GET / HTTP/1.1\" 200 -\n",
      "127.0.0.1 - - [17/May/2021 14:55:11] \"GET /_dash-layout HTTP/1.1\" 200 -\n",
      "127.0.0.1 - - [17/May/2021 14:55:11] \"GET /_dash-dependencies HTTP/1.1\" 200 -\n",
      "127.0.0.1 - - [17/May/2021 14:55:11] \"GET /_favicon.ico?v=1.20.0 HTTP/1.1\" 200 -\n",
      "127.0.0.1 - - [17/May/2021 14:55:12] \"POST /_dash-update-component HTTP/1.1\" 200 -\n",
      "127.0.0.1 - - [17/May/2021 14:55:13] \"POST /_dash-update-component HTTP/1.1\" 200 -\n"
     ]
    }
   ],
   "source": [
    "app.run_server(host = '127.0.0.1', port = '7777')"
   ]
  },
  {
   "cell_type": "markdown",
   "metadata": {},
   "source": [
    "# ====================================================="
   ]
  },
  {
   "cell_type": "markdown",
   "metadata": {},
   "source": [
    "# **대륙별**\n"
   ]
  },
  {
   "cell_type": "code",
   "execution_count": 34,
   "metadata": {},
   "outputs": [],
   "source": [
    "app.layout = html.Div(\n",
    "    [\n",
    "        dcc.Dropdown(\n",
    "            id = 'drop-down',\n",
    "            options = [\n",
    "                {'label' : i,'value':i} for i in df.continent.unique()\n",
    "            ],\n",
    "            value = 'Oceania'\n",
    "        ),\n",
    "        dcc.Graph( \n",
    "            id = 'mygraph'\n",
    "        )\n",
    "    ]\n",
    ")\n",
    "\n",
    "\n",
    "@app.callback(\n",
    "    Output('mygraph','figure'),\n",
    "    [Input('drop-down','value')]\n",
    ")\n",
    "\n",
    "def mygraph(continent):\n",
    "    data = df.loc[df.continent == continent,['country','pop']]\n",
    "    pie = px.pie(data, values = 'pop', names = 'country')\n",
    "    return pie"
   ]
  },
  {
   "cell_type": "code",
   "execution_count": 35,
   "metadata": {},
   "outputs": [
    {
     "name": "stdout",
     "output_type": "stream",
     "text": [
      "Dash is running on http://127.0.0.1:7777/\n",
      "\n",
      "Dash is running on http://127.0.0.1:7777/\n",
      "\n",
      " * Serving Flask app \"__main__\" (lazy loading)\n",
      " * Environment: production\n",
      "   WARNING: This is a development server. Do not use it in a production deployment.\n",
      "   Use a production WSGI server instead.\n",
      " * Debug mode: off\n"
     ]
    },
    {
     "name": "stderr",
     "output_type": "stream",
     "text": [
      " * Running on http://127.0.0.1:7777/ (Press CTRL+C to quit)\n",
      "127.0.0.1 - - [17/May/2021 14:53:52] \"GET / HTTP/1.1\" 200 -\n",
      "127.0.0.1 - - [17/May/2021 14:53:52] \"GET /_dash-layout HTTP/1.1\" 200 -\n",
      "127.0.0.1 - - [17/May/2021 14:53:52] \"GET /_dash-dependencies HTTP/1.1\" 200 -\n",
      "127.0.0.1 - - [17/May/2021 14:53:52] \"GET /_favicon.ico?v=1.20.0 HTTP/1.1\" 200 -\n",
      "127.0.0.1 - - [17/May/2021 14:53:52] \"POST /_dash-update-component HTTP/1.1\" 200 -\n",
      "127.0.0.1 - - [17/May/2021 14:53:53] \"POST /_dash-update-component HTTP/1.1\" 200 -\n"
     ]
    }
   ],
   "source": [
    "app.run_server(host = '127.0.0.1', port = '7777')"
   ]
  },
  {
   "cell_type": "code",
   "execution_count": null,
   "metadata": {},
   "outputs": [],
   "source": []
  }
 ],
 "metadata": {
  "kernelspec": {
   "display_name": "Python 3",
   "language": "python",
   "name": "python3"
  },
  "language_info": {
   "codemirror_mode": {
    "name": "ipython",
    "version": 3
   },
   "file_extension": ".py",
   "mimetype": "text/x-python",
   "name": "python",
   "nbconvert_exporter": "python",
   "pygments_lexer": "ipython3",
   "version": "3.7.4"
  }
 },
 "nbformat": 4,
 "nbformat_minor": 4
}
