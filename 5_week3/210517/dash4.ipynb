{
 "cells": [
  {
   "cell_type": "code",
   "execution_count": 9,
   "metadata": {},
   "outputs": [],
   "source": [
    "import numpy as np\n",
    "import pandas as pd\n",
    "import dash\n",
    "import dash_core_components as dcc\n",
    "import dash_html_components as html\n",
    "import dash_bootstrap_components as dbc\n",
    "import plotly.express as px"
   ]
  },
  {
   "cell_type": "code",
   "execution_count": 33,
   "metadata": {},
   "outputs": [],
   "source": [
    "x = np.linspace(0,100,101)\n",
    "y = np.sin(x*(np.pi)*2)\n",
    "fig = px.line( x = x, y = y)"
   ]
  },
  {
   "cell_type": "code",
   "execution_count": 10,
   "metadata": {},
   "outputs": [],
   "source": [
    "app = dash.Dash(__name__)"
   ]
  },
  {
   "cell_type": "code",
   "execution_count": 35,
   "metadata": {},
   "outputs": [],
   "source": [
    "app.layout = html.Div (\n",
    "    [\n",
    "        dcc.Dropdown(\n",
    "            id = 'dropdown1',\n",
    "            options = [\n",
    "                {'label' : 'label1' , 'value' : 'value1'},\n",
    "                {'label' : 'label2' , 'value' : 'value2'},\n",
    "                {'label' : 'label3' , 'value' : 'value3'}\n",
    "            ],\n",
    "            value = 'value1',\n",
    "            placeholder='선택하시오'\n",
    "        \n",
    "        ),\n",
    "        dcc.Graph(figure = fig)\n",
    "    ]\n",
    "\n",
    ")"
   ]
  },
  {
   "cell_type": "code",
   "execution_count": 38,
   "metadata": {},
   "outputs": [
    {
     "name": "stdout",
     "output_type": "stream",
     "text": [
      "Dash is running on http://127.0.0.1:7777/\n",
      "\n",
      "Dash is running on http://127.0.0.1:7777/\n",
      "\n",
      "Dash is running on http://127.0.0.1:7777/\n",
      "\n",
      " * Serving Flask app \"__main__\" (lazy loading)\n",
      " * Environment: production\n",
      "   WARNING: This is a development server. Do not use it in a production deployment.\n",
      "   Use a production WSGI server instead.\n",
      " * Debug mode: off\n"
     ]
    },
    {
     "name": "stderr",
     "output_type": "stream",
     "text": [
      " * Running on http://127.0.0.1:7777/ (Press CTRL+C to quit)\n"
     ]
    }
   ],
   "source": [
    "app.run_server(host = '127.0.0.1', port = '7777')"
   ]
  },
  {
   "cell_type": "code",
   "execution_count": null,
   "metadata": {},
   "outputs": [],
   "source": []
  }
 ],
 "metadata": {
  "kernelspec": {
   "display_name": "Python 3",
   "language": "python",
   "name": "python3"
  },
  "language_info": {
   "codemirror_mode": {
    "name": "ipython",
    "version": 3
   },
   "file_extension": ".py",
   "mimetype": "text/x-python",
   "name": "python",
   "nbconvert_exporter": "python",
   "pygments_lexer": "ipython3",
   "version": "3.7.4"
  }
 },
 "nbformat": 4,
 "nbformat_minor": 4
}
