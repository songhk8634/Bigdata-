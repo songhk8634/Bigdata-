{
 "cells": [
  {
   "cell_type": "markdown",
   "metadata": {},
   "source": [
    "# Radio Button으로 Chart 실행"
   ]
  },
  {
   "cell_type": "code",
   "execution_count": 63,
   "metadata": {},
   "outputs": [
    {
     "data": {
      "text/plain": [
       "pandas.core.series.Series"
      ]
     },
     "execution_count": 63,
     "metadata": {},
     "output_type": "execute_result"
    }
   ],
   "source": [
    "type(df.continent)"
   ]
  },
  {
   "cell_type": "code",
   "execution_count": 59,
   "metadata": {},
   "outputs": [],
   "source": [
    "import pandas as pd\n",
    "import numpy as np\n",
    "import plotly.express as px\n",
    "import dash\n",
    "import dash_html_components as html\n",
    "import dash_core_components as dcc\n",
    "from dash.dependencies import Output,Input\n",
    "\n",
    "df = px.data.gapminder()\n",
    "\n",
    "radio_options = [{'label' :i , 'value' : i} for i in df.continent.unique()]\n",
    "\n",
    "app = dash.Dash(__name__)"
   ]
  },
  {
   "cell_type": "code",
   "execution_count": 12,
   "metadata": {},
   "outputs": [],
   "source": [
    "app.layout = html.Div(\n",
    "    [\n",
    "        dcc.RadioItems( \n",
    "            id = 'radio-items',\n",
    "            options = radio_options,\n",
    "            value = df.continent.unique()[0]\n",
    "        ),\n",
    "        dcc.Graph(\n",
    "            id = 'continent_pop'\n",
    "        \n",
    "        )\n",
    "    ]\n",
    ")\n",
    "\n",
    "@app.callback(\n",
    "    Output('continent_pop','figure'),\n",
    "    [Input('radio-items','value')]\n",
    ")\n",
    "\n",
    "def continent_pop(continent):\n",
    "    data = df.loc[df.continent == continent,['country','pop']]\n",
    "    pie = px.pie(data, values = 'pop', names = 'country')\n",
    "    return pie"
   ]
  },
  {
   "cell_type": "code",
   "execution_count": 15,
   "metadata": {},
   "outputs": [
    {
     "name": "stdout",
     "output_type": "stream",
     "text": [
      "Dash is running on http://127.0.0.1:7777/\n",
      "\n",
      " * Serving Flask app \"__main__\" (lazy loading)\n",
      " * Environment: production\n",
      "   WARNING: This is a development server. Do not use it in a production deployment.\n",
      "   Use a production WSGI server instead.\n",
      " * Debug mode: off\n"
     ]
    },
    {
     "name": "stderr",
     "output_type": "stream",
     "text": [
      " * Running on http://127.0.0.1:7777/ (Press CTRL+C to quit)\n",
      "127.0.0.1 - - [17/May/2021 15:44:57] \"GET / HTTP/1.1\" 200 -\n",
      "127.0.0.1 - - [17/May/2021 15:44:57] \"GET /_dash-layout HTTP/1.1\" 200 -\n",
      "127.0.0.1 - - [17/May/2021 15:44:57] \"GET /_dash-dependencies HTTP/1.1\" 200 -\n",
      "127.0.0.1 - - [17/May/2021 15:44:57] \"GET /_favicon.ico?v=1.20.0 HTTP/1.1\" 200 -\n"
     ]
    }
   ],
   "source": [
    "app.run_server(host = '127.0.0.1', port = '7777')"
   ]
  },
  {
   "cell_type": "markdown",
   "metadata": {},
   "source": [
    "# ==========================================================="
   ]
  },
  {
   "cell_type": "markdown",
   "metadata": {},
   "source": [
    "# Radio Button, Drop Down 동시에 만족시키는 Pie Chart"
   ]
  },
  {
   "cell_type": "code",
   "execution_count": 64,
   "metadata": {},
   "outputs": [],
   "source": [
    "import pandas as pd\n",
    "import numpy as np\n",
    "import plotly.express as px\n",
    "import dash\n",
    "import dash_html_components as html\n",
    "import dash_core_components as dcc\n",
    "from dash.dependencies import Output,Input\n",
    "\n",
    "df = px.data.gapminder()\n",
    "\n",
    "radio_options = [{'label' :i , 'value' : i} for i in df.continent.unique()]\n",
    "dropdown_options = [{\"label\": i ,\"value\" : i} for i in df.year.unique()]\n",
    "app = dash.Dash(__name__)"
   ]
  },
  {
   "cell_type": "code",
   "execution_count": 65,
   "metadata": {},
   "outputs": [],
   "source": [
    "app.layout = html.Div(\n",
    "    [\n",
    "        dcc.RadioItems( \n",
    "            id = 'radio-items',\n",
    "            options = radio_options,\n",
    "            value = df.continent.unique()[0]\n",
    "        ),\n",
    "        html.Br(),\n",
    "        dcc.Dropdown(\n",
    "            id = 'drop-down',\n",
    "            options = dropdown_options,\n",
    "            value = df.year.unique()[0]\n",
    "        \n",
    "        ),\n",
    "        dcc.Graph(\n",
    "            id = 'continent_pop'\n",
    "        \n",
    "        )\n",
    "    ]\n",
    ")\n",
    "\n",
    "@app.callback(\n",
    "    Output('continent_pop','figure'),\n",
    "    [Input('radio-items','value')\n",
    "    ,Input('drop-down','value')]\n",
    ")\n",
    "\n",
    "def continent_pop(continent,year):\n",
    "    data = df.loc[(df.continent == continent) & (df.year == year),['country','pop']]\n",
    "    pie = px.pie(data, values = 'pop', names = 'country')\n",
    "    return pie"
   ]
  },
  {
   "cell_type": "code",
   "execution_count": 66,
   "metadata": {},
   "outputs": [
    {
     "name": "stdout",
     "output_type": "stream",
     "text": [
      "Dash is running on http://127.0.0.1:7777/\n",
      "\n",
      "Dash is running on http://127.0.0.1:7777/\n",
      "\n",
      "Dash is running on http://127.0.0.1:7777/\n",
      "\n",
      "Dash is running on http://127.0.0.1:7777/\n",
      "\n",
      "Dash is running on http://127.0.0.1:7777/\n",
      "\n",
      "Dash is running on http://127.0.0.1:7777/\n",
      "\n",
      "Dash is running on http://127.0.0.1:7777/\n",
      "\n",
      "Dash is running on http://127.0.0.1:7777/\n",
      "\n",
      "Dash is running on http://127.0.0.1:7777/\n",
      "\n",
      "Dash is running on http://127.0.0.1:7777/\n",
      "\n",
      "Dash is running on http://127.0.0.1:7777/\n",
      "\n",
      "Dash is running on http://127.0.0.1:7777/\n",
      "\n",
      "Dash is running on http://127.0.0.1:7777/\n",
      "\n",
      " * Serving Flask app \"__main__\" (lazy loading)\n",
      " * Environment: production\n",
      "   WARNING: This is a development server. Do not use it in a production deployment.\n",
      "   Use a production WSGI server instead.\n",
      " * Debug mode: off\n"
     ]
    },
    {
     "name": "stderr",
     "output_type": "stream",
     "text": [
      " * Running on http://127.0.0.1:7777/ (Press CTRL+C to quit)\n",
      "127.0.0.1 - - [17/May/2021 17:06:57] \"GET / HTTP/1.1\" 200 -\n",
      "127.0.0.1 - - [17/May/2021 17:06:57] \"GET /_dash-layout HTTP/1.1\" 200 -\n",
      "127.0.0.1 - - [17/May/2021 17:06:57] \"GET /_dash-dependencies HTTP/1.1\" 200 -\n",
      "127.0.0.1 - - [17/May/2021 17:06:57] \"GET /_favicon.ico?v=1.20.0 HTTP/1.1\" 200 -\n",
      "127.0.0.1 - - [17/May/2021 17:06:57] \"POST /_dash-update-component HTTP/1.1\" 200 -\n",
      "127.0.0.1 - - [17/May/2021 17:06:59] \"POST /_dash-update-component HTTP/1.1\" 200 -\n",
      "127.0.0.1 - - [17/May/2021 17:07:02] \"POST /_dash-update-component HTTP/1.1\" 200 -\n",
      "127.0.0.1 - - [17/May/2021 17:07:03] \"POST /_dash-update-component HTTP/1.1\" 200 -\n"
     ]
    }
   ],
   "source": [
    "app.run_server(host = '127.0.0.1', port = '7777')"
   ]
  },
  {
   "cell_type": "markdown",
   "metadata": {},
   "source": [
    "# =================================================="
   ]
  },
  {
   "cell_type": "code",
   "execution_count": 56,
   "metadata": {},
   "outputs": [],
   "source": [
    "import pandas as pd\n",
    "import numpy as np\n",
    "import plotly.express as px\n",
    "import dash\n",
    "import dash_html_components as html\n",
    "import dash_core_components as dcc\n",
    "from dash.dependencies import Output,Input\n",
    "\n",
    "df = px.data.gapminder()\n",
    "\n",
    "radio_options = [{'label' :i , 'value' : i} for i in df.continent.unique()]\n",
    "dropdown_options = [{\"label\": i ,\"value\" : i} for i in df.country.unique()]\n",
    "app = dash.Dash(__name__)"
   ]
  },
  {
   "cell_type": "code",
   "execution_count": 57,
   "metadata": {},
   "outputs": [],
   "source": [
    "app.layout = html.Div(\n",
    "    [\n",
    "        dcc.RadioItems( \n",
    "            id = 'radio-items',\n",
    "            options = radio_options,\n",
    "            value = df.continent.unique()[0]\n",
    "        ),\n",
    "        html.Br(),\n",
    "        dcc.Dropdown(\n",
    "            id = 'drop-down',\n",
    "            options = dropdown_options,\n",
    "            value = df.country.unique()[0]\n",
    "        \n",
    "        ),\n",
    "        dcc.Graph(\n",
    "            id = 'continent_pop'\n",
    "        \n",
    "        )\n",
    "    ]\n",
    ")\n",
    "\n",
    "@app.callback(\n",
    "    Output('continent_pop','figure'),\n",
    "    [Input('radio-items','value')\n",
    "    ,Input('drop-down','value')]\n",
    ")\n",
    "\n",
    "def continent_pop(continent,country):\n",
    "    data = df.loc[(df.continent == continent) & (df.country == country),['year','pop']]\n",
    "    pie = px.pie(data, values = 'pop', names = 'year')\n",
    "    return pie"
   ]
  },
  {
   "cell_type": "code",
   "execution_count": 58,
   "metadata": {},
   "outputs": [
    {
     "name": "stdout",
     "output_type": "stream",
     "text": [
      "Dash is running on http://127.0.0.1:7777/\n",
      "\n",
      "Dash is running on http://127.0.0.1:7777/\n",
      "\n",
      "Dash is running on http://127.0.0.1:7777/\n",
      "\n",
      "Dash is running on http://127.0.0.1:7777/\n",
      "\n",
      "Dash is running on http://127.0.0.1:7777/\n",
      "\n",
      "Dash is running on http://127.0.0.1:7777/\n",
      "\n",
      "Dash is running on http://127.0.0.1:7777/\n",
      "\n",
      "Dash is running on http://127.0.0.1:7777/\n",
      "\n",
      "Dash is running on http://127.0.0.1:7777/\n",
      "\n",
      "Dash is running on http://127.0.0.1:7777/\n",
      "\n",
      "Dash is running on http://127.0.0.1:7777/\n",
      "\n",
      " * Serving Flask app \"__main__\" (lazy loading)\n",
      " * Environment: production\n",
      "   WARNING: This is a development server. Do not use it in a production deployment.\n",
      "   Use a production WSGI server instead.\n",
      " * Debug mode: off\n"
     ]
    },
    {
     "name": "stderr",
     "output_type": "stream",
     "text": [
      " * Running on http://127.0.0.1:7777/ (Press CTRL+C to quit)\n",
      "127.0.0.1 - - [17/May/2021 16:14:30] \"GET / HTTP/1.1\" 200 -\n",
      "127.0.0.1 - - [17/May/2021 16:14:30] \"GET /_dash-layout HTTP/1.1\" 200 -\n",
      "127.0.0.1 - - [17/May/2021 16:14:30] \"GET /_dash-dependencies HTTP/1.1\" 200 -\n",
      "127.0.0.1 - - [17/May/2021 16:14:30] \"GET /_favicon.ico?v=1.20.0 HTTP/1.1\" 200 -\n",
      "127.0.0.1 - - [17/May/2021 16:14:30] \"POST /_dash-update-component HTTP/1.1\" 200 -\n",
      "127.0.0.1 - - [17/May/2021 16:14:32] \"POST /_dash-update-component HTTP/1.1\" 200 -\n",
      "127.0.0.1 - - [17/May/2021 16:14:33] \"POST /_dash-update-component HTTP/1.1\" 200 -\n",
      "127.0.0.1 - - [17/May/2021 16:14:41] \"POST /_dash-update-component HTTP/1.1\" 200 -\n",
      "127.0.0.1 - - [17/May/2021 16:14:43] \"POST /_dash-update-component HTTP/1.1\" 200 -\n"
     ]
    }
   ],
   "source": [
    "app.run_server(host = '127.0.0.1', port = '7777')"
   ]
  }
 ],
 "metadata": {
  "kernelspec": {
   "display_name": "Python 3",
   "language": "python",
   "name": "python3"
  },
  "language_info": {
   "codemirror_mode": {
    "name": "ipython",
    "version": 3
   },
   "file_extension": ".py",
   "mimetype": "text/x-python",
   "name": "python",
   "nbconvert_exporter": "python",
   "pygments_lexer": "ipython3",
   "version": "3.7.4"
  }
 },
 "nbformat": 4,
 "nbformat_minor": 4
}
