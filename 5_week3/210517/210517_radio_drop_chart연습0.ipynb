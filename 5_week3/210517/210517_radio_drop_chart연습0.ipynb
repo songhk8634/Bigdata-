{
 "cells": [
  {
   "cell_type": "code",
   "execution_count": 1,
   "metadata": {},
   "outputs": [],
   "source": [
    "import pandas as pd\n",
    "import numpy as np\n",
    "import plotly.express as px\n",
    "\n",
    "import dash\n",
    "import dash_html_components as html\n",
    "import dash_core_components as dcc\n",
    "from dash.dependencies import Output,Input"
   ]
  },
  {
   "cell_type": "code",
   "execution_count": 2,
   "metadata": {},
   "outputs": [],
   "source": [
    "df = px.data.gapminder()\n",
    "radio_options = [{'label':i,'value':i} for i in df.continent.unique()]\n",
    "dropdown_options = [{'label':i,'value':i} for i in df.year.unique()]"
   ]
  },
  {
   "cell_type": "code",
   "execution_count": 3,
   "metadata": {},
   "outputs": [],
   "source": [
    "app = dash.Dash(__name__)"
   ]
  },
  {
   "cell_type": "code",
   "execution_count": 4,
   "metadata": {},
   "outputs": [],
   "source": [
    "app.layout = html.Div(\n",
    "    [\n",
    "        dcc.RadioItems(\n",
    "             id = 'radio-items',\n",
    "             options = radio_options,\n",
    "             value = df.continent.unique()[0]\n",
    "        ),\n",
    "        html.Br(),\n",
    "        dcc.Dropdown(\n",
    "            id = 'drop-down',\n",
    "            options = dropdown_options,\n",
    "            value = df.year.unique()[0]\n",
    "        ),\n",
    "        dcc.Graph(\n",
    "            id = 'continent_pop'\n",
    "        )\n",
    "    ]\n",
    ")\n",
    "\n",
    "\n",
    "@app.callback(Output('continent_pop','figure'),\n",
    "              [Input('radio-items','value'),\n",
    "              Input('drop-down','value')]\n",
    ")\n",
    "def continent_pop(continent,year):\n",
    "    data = df.loc[(df.continent==continent) & (df.year==year),['country','pop']]\n",
    "    pie = px.pie(data,values='pop',names='country')\n",
    "    return pie"
   ]
  },
  {
   "cell_type": "code",
   "execution_count": 5,
   "metadata": {},
   "outputs": [
    {
     "name": "stdout",
     "output_type": "stream",
     "text": [
      "Dash is running on http://192.168.0.7:7777/\n",
      "\n",
      " * Serving Flask app \"__main__\" (lazy loading)\n",
      " * Environment: production\n",
      "   WARNING: This is a development server. Do not use it in a production deployment.\n",
      "   Use a production WSGI server instead.\n",
      " * Debug mode: off\n"
     ]
    },
    {
     "name": "stderr",
     "output_type": "stream",
     "text": [
      " * Running on http://192.168.0.7:7777/ (Press CTRL+C to quit)\n",
      "192.168.0.7 - - [17/May/2021 16:22:01] \"GET / HTTP/1.1\" 200 -\n",
      "192.168.0.7 - - [17/May/2021 16:22:02] \"GET /_dash-dependencies HTTP/1.1\" 200 -\n",
      "192.168.0.7 - - [17/May/2021 16:22:02] \"GET /_dash-layout HTTP/1.1\" 200 -\n",
      "192.168.0.7 - - [17/May/2021 16:22:03] \"POST /_dash-update-component HTTP/1.1\" 200 -\n"
     ]
    }
   ],
   "source": [
    "app.run_server(host='192.168.0.7',port='7777')"
   ]
  },
  {
   "cell_type": "code",
   "execution_count": null,
   "metadata": {},
   "outputs": [],
   "source": []
  }
 ],
 "metadata": {
  "kernelspec": {
   "display_name": "Python 3",
   "language": "python",
   "name": "python3"
  },
  "language_info": {
   "codemirror_mode": {
    "name": "ipython",
    "version": 3
   },
   "file_extension": ".py",
   "mimetype": "text/x-python",
   "name": "python",
   "nbconvert_exporter": "python",
   "pygments_lexer": "ipython3",
   "version": "3.7.4"
  }
 },
 "nbformat": 4,
 "nbformat_minor": 4
}
