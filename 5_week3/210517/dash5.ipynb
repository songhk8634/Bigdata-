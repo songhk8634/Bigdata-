{
 "cells": [
  {
   "cell_type": "code",
   "execution_count": 1,
   "metadata": {},
   "outputs": [],
   "source": [
    "import pandas as pd\n",
    "import numpy as np\n",
    "import plotly.express as px\n",
    "from dash import Dash\n",
    "import dash_html_components as html\n",
    "import dash_core_components as dcc\n"
   ]
  },
  {
   "cell_type": "code",
   "execution_count": 3,
   "metadata": {},
   "outputs": [],
   "source": [
    "df = px.data.gapminder()"
   ]
  },
  {
   "cell_type": "code",
   "execution_count": 28,
   "metadata": {},
   "outputs": [],
   "source": [
    "lifeExp = df.loc[df.country == 'Afghanistan', ['year', 'lifeExp']]\n",
    "line1 = px.line(lifeExp, x = 'year', y = 'lifeExp')\n",
    "line2 = px.line(x = lifeExp.year, y = lifeExp.lifeExp)"
   ]
  },
  {
   "cell_type": "code",
   "execution_count": 14,
   "metadata": {},
   "outputs": [],
   "source": [
    "## dropdwon은 대륙별로 label, value\n",
    "## Continent 별 pop의 평균을 막대그래프로\n",
    "data = df.groupby(['continent']).mean()['pop']\n",
    "bar = px.bar(x = data.index, y = data.values)"
   ]
  },
  {
   "cell_type": "code",
   "execution_count": 2,
   "metadata": {},
   "outputs": [],
   "source": [
    "app = Dash(__name__)"
   ]
  },
  {
   "cell_type": "code",
   "execution_count": 37,
   "metadata": {},
   "outputs": [],
   "source": [
    "app.layout = html.Div(\n",
    "    [ \n",
    "        dcc.Graph(figure = line1),\n",
    "        dcc.Graph(figure = line2)\n",
    "    ]\n",
    ")"
   ]
  },
  {
   "cell_type": "code",
   "execution_count": null,
   "metadata": {},
   "outputs": [],
   "source": [
    "app.run_server(host = '127.0.0.1', port='7777')"
   ]
  },
  {
   "cell_type": "code",
   "execution_count": 32,
   "metadata": {},
   "outputs": [],
   "source": [
    "iris = px.data.iris()"
   ]
  },
  {
   "cell_type": "code",
   "execution_count": 56,
   "metadata": {},
   "outputs": [],
   "source": [
    "scatter = px.scatter_matrix(iris,\n",
    "                           dimensions=['petal_width','petal_length'],\n",
    "                           color = 'species')\n",
    "title = '대륙별 인구수'\n",
    "pie = px.pie(df, values = 'pop', names = 'continent',\n",
    "            title = title)"
   ]
  },
  {
   "cell_type": "markdown",
   "metadata": {},
   "source": [
    "# =============================="
   ]
  },
  {
   "cell_type": "code",
   "execution_count": 62,
   "metadata": {},
   "outputs": [],
   "source": [
    "title = '아메리카 나라별 인구수'\n",
    "df_continent = df.loc[df.continent=='Americas',:]\n",
    "pie2 = px.pie(df_continent, values='pop',names='country',title = 'Country')"
   ]
  },
  {
   "cell_type": "code",
   "execution_count": 66,
   "metadata": {},
   "outputs": [],
   "source": [
    "app.layout = html.Div(\n",
    "    [ \n",
    "        dcc.Graph(figure = pie),\n",
    "        dcc.Graph(figure = pie2),\n",
    "        dcc.Graph(figure = scatter)\n",
    "    ]\n",
    ")"
   ]
  },
  {
   "cell_type": "code",
   "execution_count": null,
   "metadata": {},
   "outputs": [],
   "source": [
    "app.run_server(host = '127.0.0.1', port='7777')"
   ]
  },
  {
   "cell_type": "markdown",
   "metadata": {},
   "source": [
    "# ====================================="
   ]
  }
 ],
 "metadata": {
  "kernelspec": {
   "display_name": "Python 3",
   "language": "python",
   "name": "python3"
  },
  "language_info": {
   "codemirror_mode": {
    "name": "ipython",
    "version": 3
   },
   "file_extension": ".py",
   "mimetype": "text/x-python",
   "name": "python",
   "nbconvert_exporter": "python",
   "pygments_lexer": "ipython3",
   "version": "3.7.4"
  }
 },
 "nbformat": 4,
 "nbformat_minor": 4
}
