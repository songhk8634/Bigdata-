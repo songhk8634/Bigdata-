{
 "cells": [
  {
   "cell_type": "markdown",
   "metadata": {},
   "source": [
    "### **module import**"
   ]
  },
  {
   "cell_type": "code",
   "execution_count": 326,
   "metadata": {},
   "outputs": [],
   "source": [
    "import numpy as np\n",
    "import pandas as pd\n",
    "\n",
    "from sklearn.preprocessing import LabelEncoder\n",
    "from sklearn.preprocessing import OneHotEncoder\n",
    "from sklearn.preprocessing import StandardScaler\n",
    "from sklearn.model_selection import train_test_split\n",
    "\n",
    "from sklearn.linear_model import LinearRegression \n",
    "from sklearn.svm import SVC\n",
    "from sklearn.tree import DecisionTreeClassifier\n",
    "from sklearn.metrics import accuracy_score\n"
   ]
  },
  {
   "cell_type": "markdown",
   "metadata": {},
   "source": [
    "## **데이터 정리**\n",
    "\n",
    "## **분석할 데이터 읽기**"
   ]
  },
  {
   "cell_type": "code",
   "execution_count": 84,
   "metadata": {},
   "outputs": [
    {
     "name": "stdout",
     "output_type": "stream",
     "text": [
      "<class 'pandas.core.frame.DataFrame'>\n",
      "RangeIndex: 150 entries, 0 to 149\n",
      "Data columns (total 5 columns):\n",
      "sepal.length    150 non-null float64\n",
      "sepal.width     150 non-null float64\n",
      "petal.length    150 non-null float64\n",
      "petal.width     150 non-null float64\n",
      "variety         150 non-null object\n",
      "dtypes: float64(4), object(1)\n",
      "memory usage: 6.0+ KB\n"
     ]
    }
   ],
   "source": [
    "df = pd.read_csv('https://gist.githubusercontent.com/netj/8836201/raw/6f9306ad21398ea43cba4f7d537619d0e07d5ae3/iris.csv')\n",
    "\n",
    "## 데이터 확인\n",
    "df.columns\n",
    "df.head(1)\n",
    "df.info()"
   ]
  },
  {
   "cell_type": "markdown",
   "metadata": {},
   "source": [
    "## **데이터 전처리**"
   ]
  },
  {
   "cell_type": "code",
   "execution_count": 15,
   "metadata": {},
   "outputs": [],
   "source": [
    "df.variety.unique()\n",
    "\n",
    "y = np.where(df.variety == 'Setosa', 0, np.where(df.variety == 'Versicolor',1,2))"
   ]
  },
  {
   "cell_type": "code",
   "execution_count": 16,
   "metadata": {},
   "outputs": [
    {
     "data": {
      "text/plain": [
       "array([0, 0, 0, 0, 0, 0, 0, 0, 0, 0, 0, 0, 0, 0, 0, 0, 0, 0, 0, 0, 0, 0,\n",
       "       0, 0, 0, 0, 0, 0, 0, 0, 0, 0, 0, 0, 0, 0, 0, 0, 0, 0, 0, 0, 0, 0,\n",
       "       0, 0, 0, 0, 0, 0, 1, 1, 1, 1, 1, 1, 1, 1, 1, 1, 1, 1, 1, 1, 1, 1,\n",
       "       1, 1, 1, 1, 1, 1, 1, 1, 1, 1, 1, 1, 1, 1, 1, 1, 1, 1, 1, 1, 1, 1,\n",
       "       1, 1, 1, 1, 1, 1, 1, 1, 1, 1, 1, 1, 2, 2, 2, 2, 2, 2, 2, 2, 2, 2,\n",
       "       2, 2, 2, 2, 2, 2, 2, 2, 2, 2, 2, 2, 2, 2, 2, 2, 2, 2, 2, 2, 2, 2,\n",
       "       2, 2, 2, 2, 2, 2, 2, 2, 2, 2, 2, 2, 2, 2, 2, 2, 2, 2])"
      ]
     },
     "execution_count": 16,
     "metadata": {},
     "output_type": "execute_result"
    }
   ],
   "source": [
    "y"
   ]
  },
  {
   "cell_type": "code",
   "execution_count": 23,
   "metadata": {},
   "outputs": [],
   "source": [
    "x = df.iloc[:,:-1]"
   ]
  },
  {
   "cell_type": "code",
   "execution_count": 24,
   "metadata": {},
   "outputs": [
    {
     "data": {
      "text/html": [
       "<div>\n",
       "<style scoped>\n",
       "    .dataframe tbody tr th:only-of-type {\n",
       "        vertical-align: middle;\n",
       "    }\n",
       "\n",
       "    .dataframe tbody tr th {\n",
       "        vertical-align: top;\n",
       "    }\n",
       "\n",
       "    .dataframe thead th {\n",
       "        text-align: right;\n",
       "    }\n",
       "</style>\n",
       "<table border=\"1\" class=\"dataframe\">\n",
       "  <thead>\n",
       "    <tr style=\"text-align: right;\">\n",
       "      <th></th>\n",
       "      <th>sepal.length</th>\n",
       "      <th>sepal.width</th>\n",
       "      <th>petal.length</th>\n",
       "      <th>petal.width</th>\n",
       "    </tr>\n",
       "  </thead>\n",
       "  <tbody>\n",
       "    <tr>\n",
       "      <td>0</td>\n",
       "      <td>5.1</td>\n",
       "      <td>3.5</td>\n",
       "      <td>1.4</td>\n",
       "      <td>0.2</td>\n",
       "    </tr>\n",
       "    <tr>\n",
       "      <td>1</td>\n",
       "      <td>4.9</td>\n",
       "      <td>3.0</td>\n",
       "      <td>1.4</td>\n",
       "      <td>0.2</td>\n",
       "    </tr>\n",
       "    <tr>\n",
       "      <td>2</td>\n",
       "      <td>4.7</td>\n",
       "      <td>3.2</td>\n",
       "      <td>1.3</td>\n",
       "      <td>0.2</td>\n",
       "    </tr>\n",
       "    <tr>\n",
       "      <td>3</td>\n",
       "      <td>4.6</td>\n",
       "      <td>3.1</td>\n",
       "      <td>1.5</td>\n",
       "      <td>0.2</td>\n",
       "    </tr>\n",
       "    <tr>\n",
       "      <td>4</td>\n",
       "      <td>5.0</td>\n",
       "      <td>3.6</td>\n",
       "      <td>1.4</td>\n",
       "      <td>0.2</td>\n",
       "    </tr>\n",
       "    <tr>\n",
       "      <td>...</td>\n",
       "      <td>...</td>\n",
       "      <td>...</td>\n",
       "      <td>...</td>\n",
       "      <td>...</td>\n",
       "    </tr>\n",
       "    <tr>\n",
       "      <td>145</td>\n",
       "      <td>6.7</td>\n",
       "      <td>3.0</td>\n",
       "      <td>5.2</td>\n",
       "      <td>2.3</td>\n",
       "    </tr>\n",
       "    <tr>\n",
       "      <td>146</td>\n",
       "      <td>6.3</td>\n",
       "      <td>2.5</td>\n",
       "      <td>5.0</td>\n",
       "      <td>1.9</td>\n",
       "    </tr>\n",
       "    <tr>\n",
       "      <td>147</td>\n",
       "      <td>6.5</td>\n",
       "      <td>3.0</td>\n",
       "      <td>5.2</td>\n",
       "      <td>2.0</td>\n",
       "    </tr>\n",
       "    <tr>\n",
       "      <td>148</td>\n",
       "      <td>6.2</td>\n",
       "      <td>3.4</td>\n",
       "      <td>5.4</td>\n",
       "      <td>2.3</td>\n",
       "    </tr>\n",
       "    <tr>\n",
       "      <td>149</td>\n",
       "      <td>5.9</td>\n",
       "      <td>3.0</td>\n",
       "      <td>5.1</td>\n",
       "      <td>1.8</td>\n",
       "    </tr>\n",
       "  </tbody>\n",
       "</table>\n",
       "<p>150 rows × 4 columns</p>\n",
       "</div>"
      ],
      "text/plain": [
       "     sepal.length  sepal.width  petal.length  petal.width\n",
       "0             5.1          3.5           1.4          0.2\n",
       "1             4.9          3.0           1.4          0.2\n",
       "2             4.7          3.2           1.3          0.2\n",
       "3             4.6          3.1           1.5          0.2\n",
       "4             5.0          3.6           1.4          0.2\n",
       "..            ...          ...           ...          ...\n",
       "145           6.7          3.0           5.2          2.3\n",
       "146           6.3          2.5           5.0          1.9\n",
       "147           6.5          3.0           5.2          2.0\n",
       "148           6.2          3.4           5.4          2.3\n",
       "149           5.9          3.0           5.1          1.8\n",
       "\n",
       "[150 rows x 4 columns]"
      ]
     },
     "execution_count": 24,
     "metadata": {},
     "output_type": "execute_result"
    }
   ],
   "source": [
    "x"
   ]
  },
  {
   "cell_type": "markdown",
   "metadata": {},
   "source": [
    "## **모델 생성 및 학습**"
   ]
  },
  {
   "cell_type": "code",
   "execution_count": 28,
   "metadata": {},
   "outputs": [
    {
     "name": "stderr",
     "output_type": "stream",
     "text": [
      "C:\\Users\\admin\\Anaconda3\\lib\\site-packages\\sklearn\\svm\\base.py:193: FutureWarning: The default value of gamma will change from 'auto' to 'scale' in version 0.22 to account better for unscaled features. Set gamma explicitly to 'auto' or 'scale' to avoid this warning.\n",
      "  \"avoid this warning.\", FutureWarning)\n"
     ]
    },
    {
     "data": {
      "text/plain": [
       "SVC(C=1.0, cache_size=200, class_weight=None, coef0=0.0,\n",
       "    decision_function_shape='ovr', degree=3, gamma='auto_deprecated',\n",
       "    kernel='rbf', max_iter=-1, probability=False, random_state=None,\n",
       "    shrinking=True, tol=0.001, verbose=False)"
      ]
     },
     "execution_count": 28,
     "metadata": {},
     "output_type": "execute_result"
    }
   ],
   "source": [
    "svc_iris = SVC() ## 모델 생성\n",
    "svc_iris.fit(x,y)"
   ]
  },
  {
   "cell_type": "markdown",
   "metadata": {},
   "source": [
    "## **모델 평가**\n",
    "## **평가 방법은 예측값과 실제값을 비교**"
   ]
  },
  {
   "cell_type": "code",
   "execution_count": 32,
   "metadata": {},
   "outputs": [],
   "source": [
    "y_hat = svc_iris.predict(x)"
   ]
  },
  {
   "cell_type": "code",
   "execution_count": 37,
   "metadata": {},
   "outputs": [
    {
     "data": {
      "text/plain": [
       "0.9866666666666667"
      ]
     },
     "execution_count": 37,
     "metadata": {},
     "output_type": "execute_result"
    }
   ],
   "source": [
    "sum(y == y_hat)/y.size"
   ]
  },
  {
   "cell_type": "markdown",
   "metadata": {},
   "source": [
    "## **모델 사용**"
   ]
  },
  {
   "cell_type": "code",
   "execution_count": 42,
   "metadata": {},
   "outputs": [
    {
     "data": {
      "text/plain": [
       "array([2])"
      ]
     },
     "execution_count": 42,
     "metadata": {},
     "output_type": "execute_result"
    }
   ],
   "source": [
    "svc_iris.predict(np.array([6.7, 3.5, 5.1, 1.8]).reshape(1,4))"
   ]
  },
  {
   "cell_type": "markdown",
   "metadata": {},
   "source": [
    "## **Train set, Test set**"
   ]
  },
  {
   "cell_type": "code",
   "execution_count": 85,
   "metadata": {},
   "outputs": [],
   "source": [
    "from sklearn.model_selection import train_test_split"
   ]
  },
  {
   "cell_type": "code",
   "execution_count": 86,
   "metadata": {},
   "outputs": [],
   "source": [
    "X_train, X_test, Y_train, Y_test = train_test_split(x,y,test_size = 0.2)"
   ]
  },
  {
   "cell_type": "markdown",
   "metadata": {},
   "source": [
    "## **모델생성 및 학습**"
   ]
  },
  {
   "cell_type": "code",
   "execution_count": 87,
   "metadata": {},
   "outputs": [
    {
     "name": "stderr",
     "output_type": "stream",
     "text": [
      "C:\\Users\\admin\\Anaconda3\\lib\\site-packages\\sklearn\\svm\\base.py:193: FutureWarning: The default value of gamma will change from 'auto' to 'scale' in version 0.22 to account better for unscaled features. Set gamma explicitly to 'auto' or 'scale' to avoid this warning.\n",
      "  \"avoid this warning.\", FutureWarning)\n"
     ]
    },
    {
     "data": {
      "text/plain": [
       "SVC(C=1.0, cache_size=200, class_weight=None, coef0=0.0,\n",
       "    decision_function_shape='ovr', degree=3, gamma='auto_deprecated',\n",
       "    kernel='rbf', max_iter=-1, probability=False, random_state=None,\n",
       "    shrinking=True, tol=0.001, verbose=False)"
      ]
     },
     "execution_count": 87,
     "metadata": {},
     "output_type": "execute_result"
    }
   ],
   "source": [
    "svc_iris_train = SVC()\n",
    "svc_iris_train.fit(X_train,Y_train)"
   ]
  },
  {
   "cell_type": "markdown",
   "metadata": {},
   "source": [
    "## **모델평가**"
   ]
  },
  {
   "cell_type": "code",
   "execution_count": 88,
   "metadata": {},
   "outputs": [],
   "source": [
    "y_hat = svc_iris_train.predict(X_test)\n",
    "acc = accuracy_score(Y_test,y_hat)"
   ]
  },
  {
   "cell_type": "code",
   "execution_count": 89,
   "metadata": {},
   "outputs": [
    {
     "data": {
      "text/plain": [
       "0.9666666666666667"
      ]
     },
     "execution_count": 89,
     "metadata": {},
     "output_type": "execute_result"
    }
   ],
   "source": [
    "acc"
   ]
  },
  {
   "cell_type": "code",
   "execution_count": 63,
   "metadata": {},
   "outputs": [],
   "source": [
    "from sklearn.preprocessing import LabelEncoder\n",
    "X = df.iloc[:,:-1]\n",
    "enc = LabelEncoder()"
   ]
  },
  {
   "cell_type": "markdown",
   "metadata": {},
   "source": [
    "# =================================================="
   ]
  },
  {
   "cell_type": "markdown",
   "metadata": {},
   "source": [
    "# **TITANIC**"
   ]
  },
  {
   "cell_type": "code",
   "execution_count": 334,
   "metadata": {},
   "outputs": [],
   "source": [
    "from sklearn.preprocessing import LabelEncoder\n",
    "from sklearn.preprocessing import OneHotEncoder\n",
    "\n",
    "import seaborn as sns\n",
    "df_2 = pd.read_csv('https://gist.githubusercontent.com/michhar/2dfd2de0d4f8727f873422c5d959fff5/raw/fa71405126017e6a37bea592440b4bee94bf7b9e/titanic.csv')\n",
    "df = sns.load_dataset('titanic')"
   ]
  },
  {
   "cell_type": "code",
   "execution_count": 335,
   "metadata": {},
   "outputs": [
    {
     "data": {
      "text/plain": [
       "PassengerId      0\n",
       "Survived         0\n",
       "Pclass           0\n",
       "Name             0\n",
       "Sex              0\n",
       "Age            177\n",
       "SibSp            0\n",
       "Parch            0\n",
       "Ticket           0\n",
       "Fare             0\n",
       "Cabin          687\n",
       "Embarked         2\n",
       "dtype: int64"
      ]
     },
     "execution_count": 335,
     "metadata": {},
     "output_type": "execute_result"
    }
   ],
   "source": [
    "df_2.isnull().sum()"
   ]
  },
  {
   "cell_type": "code",
   "execution_count": 336,
   "metadata": {},
   "outputs": [],
   "source": [
    "dt = df_2.copy()"
   ]
  },
  {
   "cell_type": "markdown",
   "metadata": {},
   "source": [
    "### **NA 데이터 채우기**"
   ]
  },
  {
   "cell_type": "code",
   "execution_count": 337,
   "metadata": {},
   "outputs": [],
   "source": [
    "dt.Age.fillna(dt.Age.mean(), inplace=True)"
   ]
  },
  {
   "cell_type": "code",
   "execution_count": 338,
   "metadata": {},
   "outputs": [
    {
     "data": {
      "text/html": [
       "<div>\n",
       "<style scoped>\n",
       "    .dataframe tbody tr th:only-of-type {\n",
       "        vertical-align: middle;\n",
       "    }\n",
       "\n",
       "    .dataframe tbody tr th {\n",
       "        vertical-align: top;\n",
       "    }\n",
       "\n",
       "    .dataframe thead th {\n",
       "        text-align: right;\n",
       "    }\n",
       "</style>\n",
       "<table border=\"1\" class=\"dataframe\">\n",
       "  <thead>\n",
       "    <tr style=\"text-align: right;\">\n",
       "      <th></th>\n",
       "      <th>PassengerId</th>\n",
       "      <th>Survived</th>\n",
       "      <th>Pclass</th>\n",
       "      <th>Name</th>\n",
       "      <th>Sex</th>\n",
       "      <th>Age</th>\n",
       "      <th>SibSp</th>\n",
       "      <th>Parch</th>\n",
       "      <th>Ticket</th>\n",
       "      <th>Fare</th>\n",
       "      <th>Cabin</th>\n",
       "      <th>Embarked</th>\n",
       "    </tr>\n",
       "  </thead>\n",
       "  <tbody>\n",
       "    <tr>\n",
       "      <td>61</td>\n",
       "      <td>62</td>\n",
       "      <td>1</td>\n",
       "      <td>1</td>\n",
       "      <td>Icard, Miss. Amelie</td>\n",
       "      <td>female</td>\n",
       "      <td>38.0</td>\n",
       "      <td>0</td>\n",
       "      <td>0</td>\n",
       "      <td>113572</td>\n",
       "      <td>80.0</td>\n",
       "      <td>B28</td>\n",
       "      <td>NaN</td>\n",
       "    </tr>\n",
       "    <tr>\n",
       "      <td>829</td>\n",
       "      <td>830</td>\n",
       "      <td>1</td>\n",
       "      <td>1</td>\n",
       "      <td>Stone, Mrs. George Nelson (Martha Evelyn)</td>\n",
       "      <td>female</td>\n",
       "      <td>62.0</td>\n",
       "      <td>0</td>\n",
       "      <td>0</td>\n",
       "      <td>113572</td>\n",
       "      <td>80.0</td>\n",
       "      <td>B28</td>\n",
       "      <td>NaN</td>\n",
       "    </tr>\n",
       "  </tbody>\n",
       "</table>\n",
       "</div>"
      ],
      "text/plain": [
       "     PassengerId  Survived  Pclass                                       Name  \\\n",
       "61            62         1       1                        Icard, Miss. Amelie   \n",
       "829          830         1       1  Stone, Mrs. George Nelson (Martha Evelyn)   \n",
       "\n",
       "        Sex   Age  SibSp  Parch  Ticket  Fare Cabin Embarked  \n",
       "61   female  38.0      0      0  113572  80.0   B28      NaN  \n",
       "829  female  62.0      0      0  113572  80.0   B28      NaN  "
      ]
     },
     "execution_count": 338,
     "metadata": {},
     "output_type": "execute_result"
    }
   ],
   "source": [
    "dt[dt.Embarked.isnull()]"
   ]
  },
  {
   "cell_type": "code",
   "execution_count": 339,
   "metadata": {},
   "outputs": [],
   "source": [
    "dt.Embarked.fillna('N',inplace=True)"
   ]
  },
  {
   "cell_type": "code",
   "execution_count": 340,
   "metadata": {},
   "outputs": [],
   "source": [
    "dt.Cabin.fillna('N',inplace=True)"
   ]
  },
  {
   "cell_type": "code",
   "execution_count": 341,
   "metadata": {},
   "outputs": [
    {
     "data": {
      "text/plain": [
       "array(['N', 'C', 'E', 'G', 'D', 'A', 'B', 'F', 'T'], dtype=object)"
      ]
     },
     "execution_count": 341,
     "metadata": {},
     "output_type": "execute_result"
    }
   ],
   "source": [
    "dt.Cabin.str.slice(0,1).unique()"
   ]
  },
  {
   "cell_type": "code",
   "execution_count": 342,
   "metadata": {},
   "outputs": [],
   "source": [
    "dt['new_Cabin'] = dt.Cabin.str.slice(0,1)"
   ]
  },
  {
   "cell_type": "code",
   "execution_count": 343,
   "metadata": {},
   "outputs": [],
   "source": [
    "dt.drop('Cabin',axis=1, inplace=True)"
   ]
  },
  {
   "cell_type": "code",
   "execution_count": 344,
   "metadata": {},
   "outputs": [],
   "source": [
    "dt.drop(['PassengerId','Name','Ticket'], axis = 1, inplace=True)"
   ]
  },
  {
   "cell_type": "code",
   "execution_count": 345,
   "metadata": {},
   "outputs": [
    {
     "name": "stdout",
     "output_type": "stream",
     "text": [
      "<class 'pandas.core.frame.DataFrame'>\n",
      "RangeIndex: 891 entries, 0 to 890\n",
      "Data columns (total 9 columns):\n",
      "Survived     891 non-null int64\n",
      "Pclass       891 non-null int64\n",
      "Sex          891 non-null object\n",
      "Age          891 non-null float64\n",
      "SibSp        891 non-null int64\n",
      "Parch        891 non-null int64\n",
      "Fare         891 non-null float64\n",
      "Embarked     891 non-null object\n",
      "new_Cabin    891 non-null object\n",
      "dtypes: float64(2), int64(4), object(3)\n",
      "memory usage: 62.8+ KB\n"
     ]
    }
   ],
   "source": [
    "dt.info()"
   ]
  },
  {
   "cell_type": "code",
   "execution_count": 346,
   "metadata": {},
   "outputs": [
    {
     "data": {
      "text/plain": [
       "array(['S', 'C', 'Q', 'N'], dtype=object)"
      ]
     },
     "execution_count": 346,
     "metadata": {},
     "output_type": "execute_result"
    }
   ],
   "source": [
    "dt.Embarked.unique()"
   ]
  },
  {
   "cell_type": "code",
   "execution_count": 347,
   "metadata": {},
   "outputs": [
    {
     "data": {
      "text/plain": [
       "array(['N', 'C', 'E', 'G', 'D', 'A', 'B', 'F', 'T'], dtype=object)"
      ]
     },
     "execution_count": 347,
     "metadata": {},
     "output_type": "execute_result"
    }
   ],
   "source": [
    "dt.new_Cabin.unique()"
   ]
  },
  {
   "cell_type": "markdown",
   "metadata": {},
   "source": [
    "## **object column**\n",
    "#### **Sex, Embarked, new_Cabin**"
   ]
  },
  {
   "cell_type": "code",
   "execution_count": 348,
   "metadata": {},
   "outputs": [
    {
     "name": "stderr",
     "output_type": "stream",
     "text": [
      "C:\\Users\\admin\\Anaconda3\\lib\\site-packages\\sklearn\\preprocessing\\_encoders.py:415: FutureWarning: The handling of integer data will change in version 0.22. Currently, the categories are determined based on the range [0, max(values)], while in the future they will be determined based on the unique values.\n",
      "If you want the future behaviour and silence this warning, you can specify \"categories='auto'\".\n",
      "In case you used a LabelEncoder before this OneHotEncoder to convert the categories to integers, then you can now use the OneHotEncoder directly.\n",
      "  warnings.warn(msg, FutureWarning)\n"
     ]
    }
   ],
   "source": [
    "gender_enc = LabelEncoder()\n",
    "gender = gender_enc.fit_transform(dt.Sex)\n",
    "embark_enc = LabelEncoder()\n",
    "embark = embark_enc.fit_transform(dt.Embarked)\n",
    "cabin_enc = LabelEncoder()\n",
    "cabin = cabin_enc.fit_transform(dt.new_Cabin)\n",
    "pclass_enc = OneHotEncoder()\n",
    "pclass = pclass_enc.fit_transform(dt.Pclass.values.reshape(-1,1)).toarray()"
   ]
  },
  {
   "cell_type": "code",
   "execution_count": 349,
   "metadata": {},
   "outputs": [],
   "source": [
    "dt.drop(['Sex','Embarked','new_Cabin'], axis = 1, inplace = True)"
   ]
  },
  {
   "cell_type": "code",
   "execution_count": 350,
   "metadata": {},
   "outputs": [],
   "source": [
    "dt['gender'] = gender\n",
    "dt['embark'] = embark\n",
    "dt['cabin'] = cabin"
   ]
  },
  {
   "cell_type": "code",
   "execution_count": 351,
   "metadata": {},
   "outputs": [
    {
     "data": {
      "text/html": [
       "<div>\n",
       "<style scoped>\n",
       "    .dataframe tbody tr th:only-of-type {\n",
       "        vertical-align: middle;\n",
       "    }\n",
       "\n",
       "    .dataframe tbody tr th {\n",
       "        vertical-align: top;\n",
       "    }\n",
       "\n",
       "    .dataframe thead th {\n",
       "        text-align: right;\n",
       "    }\n",
       "</style>\n",
       "<table border=\"1\" class=\"dataframe\">\n",
       "  <thead>\n",
       "    <tr style=\"text-align: right;\">\n",
       "      <th></th>\n",
       "      <th>Survived</th>\n",
       "      <th>Pclass</th>\n",
       "      <th>Age</th>\n",
       "      <th>SibSp</th>\n",
       "      <th>Parch</th>\n",
       "      <th>Fare</th>\n",
       "      <th>gender</th>\n",
       "      <th>embark</th>\n",
       "      <th>cabin</th>\n",
       "    </tr>\n",
       "  </thead>\n",
       "  <tbody>\n",
       "    <tr>\n",
       "      <td>0</td>\n",
       "      <td>0</td>\n",
       "      <td>3</td>\n",
       "      <td>22.000000</td>\n",
       "      <td>1</td>\n",
       "      <td>0</td>\n",
       "      <td>7.2500</td>\n",
       "      <td>1</td>\n",
       "      <td>3</td>\n",
       "      <td>7</td>\n",
       "    </tr>\n",
       "    <tr>\n",
       "      <td>1</td>\n",
       "      <td>1</td>\n",
       "      <td>1</td>\n",
       "      <td>38.000000</td>\n",
       "      <td>1</td>\n",
       "      <td>0</td>\n",
       "      <td>71.2833</td>\n",
       "      <td>0</td>\n",
       "      <td>0</td>\n",
       "      <td>2</td>\n",
       "    </tr>\n",
       "    <tr>\n",
       "      <td>2</td>\n",
       "      <td>1</td>\n",
       "      <td>3</td>\n",
       "      <td>26.000000</td>\n",
       "      <td>0</td>\n",
       "      <td>0</td>\n",
       "      <td>7.9250</td>\n",
       "      <td>0</td>\n",
       "      <td>3</td>\n",
       "      <td>7</td>\n",
       "    </tr>\n",
       "    <tr>\n",
       "      <td>3</td>\n",
       "      <td>1</td>\n",
       "      <td>1</td>\n",
       "      <td>35.000000</td>\n",
       "      <td>1</td>\n",
       "      <td>0</td>\n",
       "      <td>53.1000</td>\n",
       "      <td>0</td>\n",
       "      <td>3</td>\n",
       "      <td>2</td>\n",
       "    </tr>\n",
       "    <tr>\n",
       "      <td>4</td>\n",
       "      <td>0</td>\n",
       "      <td>3</td>\n",
       "      <td>35.000000</td>\n",
       "      <td>0</td>\n",
       "      <td>0</td>\n",
       "      <td>8.0500</td>\n",
       "      <td>1</td>\n",
       "      <td>3</td>\n",
       "      <td>7</td>\n",
       "    </tr>\n",
       "    <tr>\n",
       "      <td>...</td>\n",
       "      <td>...</td>\n",
       "      <td>...</td>\n",
       "      <td>...</td>\n",
       "      <td>...</td>\n",
       "      <td>...</td>\n",
       "      <td>...</td>\n",
       "      <td>...</td>\n",
       "      <td>...</td>\n",
       "      <td>...</td>\n",
       "    </tr>\n",
       "    <tr>\n",
       "      <td>886</td>\n",
       "      <td>0</td>\n",
       "      <td>2</td>\n",
       "      <td>27.000000</td>\n",
       "      <td>0</td>\n",
       "      <td>0</td>\n",
       "      <td>13.0000</td>\n",
       "      <td>1</td>\n",
       "      <td>3</td>\n",
       "      <td>7</td>\n",
       "    </tr>\n",
       "    <tr>\n",
       "      <td>887</td>\n",
       "      <td>1</td>\n",
       "      <td>1</td>\n",
       "      <td>19.000000</td>\n",
       "      <td>0</td>\n",
       "      <td>0</td>\n",
       "      <td>30.0000</td>\n",
       "      <td>0</td>\n",
       "      <td>3</td>\n",
       "      <td>1</td>\n",
       "    </tr>\n",
       "    <tr>\n",
       "      <td>888</td>\n",
       "      <td>0</td>\n",
       "      <td>3</td>\n",
       "      <td>29.699118</td>\n",
       "      <td>1</td>\n",
       "      <td>2</td>\n",
       "      <td>23.4500</td>\n",
       "      <td>0</td>\n",
       "      <td>3</td>\n",
       "      <td>7</td>\n",
       "    </tr>\n",
       "    <tr>\n",
       "      <td>889</td>\n",
       "      <td>1</td>\n",
       "      <td>1</td>\n",
       "      <td>26.000000</td>\n",
       "      <td>0</td>\n",
       "      <td>0</td>\n",
       "      <td>30.0000</td>\n",
       "      <td>1</td>\n",
       "      <td>0</td>\n",
       "      <td>2</td>\n",
       "    </tr>\n",
       "    <tr>\n",
       "      <td>890</td>\n",
       "      <td>0</td>\n",
       "      <td>3</td>\n",
       "      <td>32.000000</td>\n",
       "      <td>0</td>\n",
       "      <td>0</td>\n",
       "      <td>7.7500</td>\n",
       "      <td>1</td>\n",
       "      <td>2</td>\n",
       "      <td>7</td>\n",
       "    </tr>\n",
       "  </tbody>\n",
       "</table>\n",
       "<p>891 rows × 9 columns</p>\n",
       "</div>"
      ],
      "text/plain": [
       "     Survived  Pclass        Age  SibSp  Parch     Fare  gender  embark  cabin\n",
       "0           0       3  22.000000      1      0   7.2500       1       3      7\n",
       "1           1       1  38.000000      1      0  71.2833       0       0      2\n",
       "2           1       3  26.000000      0      0   7.9250       0       3      7\n",
       "3           1       1  35.000000      1      0  53.1000       0       3      2\n",
       "4           0       3  35.000000      0      0   8.0500       1       3      7\n",
       "..        ...     ...        ...    ...    ...      ...     ...     ...    ...\n",
       "886         0       2  27.000000      0      0  13.0000       1       3      7\n",
       "887         1       1  19.000000      0      0  30.0000       0       3      1\n",
       "888         0       3  29.699118      1      2  23.4500       0       3      7\n",
       "889         1       1  26.000000      0      0  30.0000       1       0      2\n",
       "890         0       3  32.000000      0      0   7.7500       1       2      7\n",
       "\n",
       "[891 rows x 9 columns]"
      ]
     },
     "execution_count": 351,
     "metadata": {},
     "output_type": "execute_result"
    }
   ],
   "source": [
    "dt"
   ]
  },
  {
   "cell_type": "code",
   "execution_count": 368,
   "metadata": {},
   "outputs": [],
   "source": [
    "sc = StandardScaler()\n",
    "age = sc.fit_transform(dt.Age.values.reshape(-1,1))"
   ]
  },
  {
   "cell_type": "code",
   "execution_count": 356,
   "metadata": {},
   "outputs": [],
   "source": [
    "enc_data = np.concatenate([gender.reshape(-1,1), embark.reshape(-1,1), cabin.reshape(-1,1), pclass,age], axis = 1)"
   ]
  },
  {
   "cell_type": "code",
   "execution_count": 363,
   "metadata": {},
   "outputs": [],
   "source": [
    "feature_col = ['SibSp','Parch','Fare']\n",
    "dep_col = ['Survived']\n",
    "X = pd.concat([dt[feature_col], pd.DataFrame(enc_data)],axis=1)\n",
    "y = dt[dep_col]"
   ]
  },
  {
   "cell_type": "code",
   "execution_count": 364,
   "metadata": {},
   "outputs": [
    {
     "data": {
      "text/html": [
       "<div>\n",
       "<style scoped>\n",
       "    .dataframe tbody tr th:only-of-type {\n",
       "        vertical-align: middle;\n",
       "    }\n",
       "\n",
       "    .dataframe tbody tr th {\n",
       "        vertical-align: top;\n",
       "    }\n",
       "\n",
       "    .dataframe thead th {\n",
       "        text-align: right;\n",
       "    }\n",
       "</style>\n",
       "<table border=\"1\" class=\"dataframe\">\n",
       "  <thead>\n",
       "    <tr style=\"text-align: right;\">\n",
       "      <th></th>\n",
       "      <th>SibSp</th>\n",
       "      <th>Parch</th>\n",
       "      <th>Fare</th>\n",
       "      <th>0</th>\n",
       "      <th>1</th>\n",
       "      <th>2</th>\n",
       "      <th>3</th>\n",
       "      <th>4</th>\n",
       "      <th>5</th>\n",
       "      <th>6</th>\n",
       "    </tr>\n",
       "  </thead>\n",
       "  <tbody>\n",
       "    <tr>\n",
       "      <td>0</td>\n",
       "      <td>1</td>\n",
       "      <td>0</td>\n",
       "      <td>7.2500</td>\n",
       "      <td>1.0</td>\n",
       "      <td>3.0</td>\n",
       "      <td>7.0</td>\n",
       "      <td>0.0</td>\n",
       "      <td>0.0</td>\n",
       "      <td>1.0</td>\n",
       "      <td>-0.592481</td>\n",
       "    </tr>\n",
       "    <tr>\n",
       "      <td>1</td>\n",
       "      <td>1</td>\n",
       "      <td>0</td>\n",
       "      <td>71.2833</td>\n",
       "      <td>0.0</td>\n",
       "      <td>0.0</td>\n",
       "      <td>2.0</td>\n",
       "      <td>1.0</td>\n",
       "      <td>0.0</td>\n",
       "      <td>0.0</td>\n",
       "      <td>0.638789</td>\n",
       "    </tr>\n",
       "    <tr>\n",
       "      <td>2</td>\n",
       "      <td>0</td>\n",
       "      <td>0</td>\n",
       "      <td>7.9250</td>\n",
       "      <td>0.0</td>\n",
       "      <td>3.0</td>\n",
       "      <td>7.0</td>\n",
       "      <td>0.0</td>\n",
       "      <td>0.0</td>\n",
       "      <td>1.0</td>\n",
       "      <td>-0.284663</td>\n",
       "    </tr>\n",
       "    <tr>\n",
       "      <td>3</td>\n",
       "      <td>1</td>\n",
       "      <td>0</td>\n",
       "      <td>53.1000</td>\n",
       "      <td>0.0</td>\n",
       "      <td>3.0</td>\n",
       "      <td>2.0</td>\n",
       "      <td>1.0</td>\n",
       "      <td>0.0</td>\n",
       "      <td>0.0</td>\n",
       "      <td>0.407926</td>\n",
       "    </tr>\n",
       "    <tr>\n",
       "      <td>4</td>\n",
       "      <td>0</td>\n",
       "      <td>0</td>\n",
       "      <td>8.0500</td>\n",
       "      <td>1.0</td>\n",
       "      <td>3.0</td>\n",
       "      <td>7.0</td>\n",
       "      <td>0.0</td>\n",
       "      <td>0.0</td>\n",
       "      <td>1.0</td>\n",
       "      <td>0.407926</td>\n",
       "    </tr>\n",
       "    <tr>\n",
       "      <td>...</td>\n",
       "      <td>...</td>\n",
       "      <td>...</td>\n",
       "      <td>...</td>\n",
       "      <td>...</td>\n",
       "      <td>...</td>\n",
       "      <td>...</td>\n",
       "      <td>...</td>\n",
       "      <td>...</td>\n",
       "      <td>...</td>\n",
       "      <td>...</td>\n",
       "    </tr>\n",
       "    <tr>\n",
       "      <td>886</td>\n",
       "      <td>0</td>\n",
       "      <td>0</td>\n",
       "      <td>13.0000</td>\n",
       "      <td>1.0</td>\n",
       "      <td>3.0</td>\n",
       "      <td>7.0</td>\n",
       "      <td>0.0</td>\n",
       "      <td>1.0</td>\n",
       "      <td>0.0</td>\n",
       "      <td>-0.207709</td>\n",
       "    </tr>\n",
       "    <tr>\n",
       "      <td>887</td>\n",
       "      <td>0</td>\n",
       "      <td>0</td>\n",
       "      <td>30.0000</td>\n",
       "      <td>0.0</td>\n",
       "      <td>3.0</td>\n",
       "      <td>1.0</td>\n",
       "      <td>1.0</td>\n",
       "      <td>0.0</td>\n",
       "      <td>0.0</td>\n",
       "      <td>-0.823344</td>\n",
       "    </tr>\n",
       "    <tr>\n",
       "      <td>888</td>\n",
       "      <td>1</td>\n",
       "      <td>2</td>\n",
       "      <td>23.4500</td>\n",
       "      <td>0.0</td>\n",
       "      <td>3.0</td>\n",
       "      <td>7.0</td>\n",
       "      <td>0.0</td>\n",
       "      <td>0.0</td>\n",
       "      <td>1.0</td>\n",
       "      <td>0.000000</td>\n",
       "    </tr>\n",
       "    <tr>\n",
       "      <td>889</td>\n",
       "      <td>0</td>\n",
       "      <td>0</td>\n",
       "      <td>30.0000</td>\n",
       "      <td>1.0</td>\n",
       "      <td>0.0</td>\n",
       "      <td>2.0</td>\n",
       "      <td>1.0</td>\n",
       "      <td>0.0</td>\n",
       "      <td>0.0</td>\n",
       "      <td>-0.284663</td>\n",
       "    </tr>\n",
       "    <tr>\n",
       "      <td>890</td>\n",
       "      <td>0</td>\n",
       "      <td>0</td>\n",
       "      <td>7.7500</td>\n",
       "      <td>1.0</td>\n",
       "      <td>2.0</td>\n",
       "      <td>7.0</td>\n",
       "      <td>0.0</td>\n",
       "      <td>0.0</td>\n",
       "      <td>1.0</td>\n",
       "      <td>0.177063</td>\n",
       "    </tr>\n",
       "  </tbody>\n",
       "</table>\n",
       "<p>891 rows × 10 columns</p>\n",
       "</div>"
      ],
      "text/plain": [
       "     SibSp  Parch     Fare    0    1    2    3    4    5         6\n",
       "0        1      0   7.2500  1.0  3.0  7.0  0.0  0.0  1.0 -0.592481\n",
       "1        1      0  71.2833  0.0  0.0  2.0  1.0  0.0  0.0  0.638789\n",
       "2        0      0   7.9250  0.0  3.0  7.0  0.0  0.0  1.0 -0.284663\n",
       "3        1      0  53.1000  0.0  3.0  2.0  1.0  0.0  0.0  0.407926\n",
       "4        0      0   8.0500  1.0  3.0  7.0  0.0  0.0  1.0  0.407926\n",
       "..     ...    ...      ...  ...  ...  ...  ...  ...  ...       ...\n",
       "886      0      0  13.0000  1.0  3.0  7.0  0.0  1.0  0.0 -0.207709\n",
       "887      0      0  30.0000  0.0  3.0  1.0  1.0  0.0  0.0 -0.823344\n",
       "888      1      2  23.4500  0.0  3.0  7.0  0.0  0.0  1.0  0.000000\n",
       "889      0      0  30.0000  1.0  0.0  2.0  1.0  0.0  0.0 -0.284663\n",
       "890      0      0   7.7500  1.0  2.0  7.0  0.0  0.0  1.0  0.177063\n",
       "\n",
       "[891 rows x 10 columns]"
      ]
     },
     "execution_count": 364,
     "metadata": {},
     "output_type": "execute_result"
    }
   ],
   "source": [
    "X"
   ]
  },
  {
   "cell_type": "markdown",
   "metadata": {},
   "source": [
    "## **Train, Test**"
   ]
  },
  {
   "cell_type": "code",
   "execution_count": 366,
   "metadata": {},
   "outputs": [],
   "source": [
    "X = dt.iloc[:,1:]\n",
    "y = dt.iloc[:,0]"
   ]
  },
  {
   "cell_type": "code",
   "execution_count": 315,
   "metadata": {},
   "outputs": [],
   "source": [
    "import numpy as np\n",
    "import pandas as pd\n",
    "\n",
    "from sklearn.linear_model import LinearRegression \n",
    "from sklearn.svm import SVC\n",
    "from sklearn.tree import DecisionTreeClassifier\n",
    "from sklearn.metrics import accuracy_score\n",
    "\n",
    "X_train, X_test, y_train, y_test = train_test_split(X,y,test_size = 0.2)"
   ]
  },
  {
   "cell_type": "markdown",
   "metadata": {},
   "source": [
    "## **모델 생성 및 학습**"
   ]
  },
  {
   "cell_type": "code",
   "execution_count": 309,
   "metadata": {},
   "outputs": [
    {
     "data": {
      "text/plain": [
       "DecisionTreeClassifier(class_weight=None, criterion='gini', max_depth=None,\n",
       "                       max_features=None, max_leaf_nodes=None,\n",
       "                       min_impurity_decrease=0.0, min_impurity_split=None,\n",
       "                       min_samples_leaf=1, min_samples_split=2,\n",
       "                       min_weight_fraction_leaf=0.0, presort=False,\n",
       "                       random_state=None, splitter='best')"
      ]
     },
     "execution_count": 309,
     "metadata": {},
     "output_type": "execute_result"
    }
   ],
   "source": [
    "dt_clf = DecisionTreeClassifier()\n",
    "dt_clf.fit(X_train, y_train)"
   ]
  },
  {
   "cell_type": "markdown",
   "metadata": {},
   "source": [
    "## **모델평가**"
   ]
  },
  {
   "cell_type": "code",
   "execution_count": 310,
   "metadata": {},
   "outputs": [
    {
     "data": {
      "text/plain": [
       "0.8156424581005587"
      ]
     },
     "execution_count": 310,
     "metadata": {},
     "output_type": "execute_result"
    }
   ],
   "source": [
    "y_hat = dt_clf.predict(X_test)\n",
    "acc = accuracy_score(y_test, y_hat)\n",
    "acc"
   ]
  },
  {
   "cell_type": "markdown",
   "metadata": {},
   "source": [
    "# **SVC**"
   ]
  },
  {
   "cell_type": "markdown",
   "metadata": {},
   "source": [
    "## **모델 생성 및 학습**"
   ]
  },
  {
   "cell_type": "code",
   "execution_count": 311,
   "metadata": {},
   "outputs": [
    {
     "name": "stderr",
     "output_type": "stream",
     "text": [
      "C:\\Users\\admin\\Anaconda3\\lib\\site-packages\\sklearn\\svm\\base.py:193: FutureWarning: The default value of gamma will change from 'auto' to 'scale' in version 0.22 to account better for unscaled features. Set gamma explicitly to 'auto' or 'scale' to avoid this warning.\n",
      "  \"avoid this warning.\", FutureWarning)\n"
     ]
    },
    {
     "data": {
      "text/plain": [
       "SVC(C=1.0, cache_size=200, class_weight=None, coef0=0.0,\n",
       "    decision_function_shape='ovr', degree=3, gamma='auto_deprecated',\n",
       "    kernel='rbf', max_iter=-1, probability=False, random_state=None,\n",
       "    shrinking=True, tol=0.001, verbose=False)"
      ]
     },
     "execution_count": 311,
     "metadata": {},
     "output_type": "execute_result"
    }
   ],
   "source": [
    "dt_svc = SVC()\n",
    "dt_svc.fit(X_train,y_train)"
   ]
  },
  {
   "cell_type": "code",
   "execution_count": 318,
   "metadata": {},
   "outputs": [
    {
     "data": {
      "text/plain": [
       "SVC(C=0.3, cache_size=200, class_weight=None, coef0=0.0,\n",
       "    decision_function_shape='ovr', degree=3, gamma='auto_deprecated',\n",
       "    kernel='linear', max_iter=-1, probability=False, random_state=None,\n",
       "    shrinking=True, tol=0.001, verbose=False)"
      ]
     },
     "execution_count": 318,
     "metadata": {},
     "output_type": "execute_result"
    }
   ],
   "source": [
    "dt_svc = SVC(C=0.3, kernel = 'linear')\n",
    "dt_svc.fit(X_train,y_train)"
   ]
  },
  {
   "cell_type": "markdown",
   "metadata": {},
   "source": [
    "## **모델평가**"
   ]
  },
  {
   "cell_type": "code",
   "execution_count": 319,
   "metadata": {},
   "outputs": [
    {
     "data": {
      "text/plain": [
       "0.7150837988826816"
      ]
     },
     "execution_count": 319,
     "metadata": {},
     "output_type": "execute_result"
    }
   ],
   "source": [
    "y_hat = dt_svc.predict(X_test)\n",
    "acc = accuracy_score(y_test,y_hat)\n",
    "acc"
   ]
  },
  {
   "cell_type": "markdown",
   "metadata": {},
   "source": [
    "## **여러번 돌리기**"
   ]
  },
  {
   "cell_type": "code",
   "execution_count": 322,
   "metadata": {},
   "outputs": [
    {
     "data": {
      "text/plain": [
       "0.7608938547486034"
      ]
     },
     "execution_count": 322,
     "metadata": {},
     "output_type": "execute_result"
    }
   ],
   "source": [
    "test_acc =[]\n",
    "for _ in np.arange(5):\n",
    "    X_train, X_test, y_train, y_test = train_test_split(X,y,test_size = 0.2)\n",
    "    dt_tree = DecisionTreeClassifier()\n",
    "    dt_tree.fit(X_train, y_train)\n",
    "    acc = accuracy_score(dt_tree.predict(X_test),y_test)\n",
    "   # dt_svc = SVC(C=0.3, kernel = 'linear')\n",
    "   # dt_svc.fit(X_train,y_train)\n",
    "   # acc = accuracy_score(dt_svc.predict(X_test),y_test)\n",
    "    test_acc.append(acc)\n",
    "sum(test_acc)/5"
   ]
  },
  {
   "cell_type": "code",
   "execution_count": null,
   "metadata": {},
   "outputs": [],
   "source": []
  },
  {
   "cell_type": "code",
   "execution_count": null,
   "metadata": {},
   "outputs": [],
   "source": []
  },
  {
   "cell_type": "code",
   "execution_count": 327,
   "metadata": {},
   "outputs": [],
   "source": [
    "sc = StandardScaler()\n",
    "age = sc.fit_transform(dt.Age.values.reshape(-1,1))"
   ]
  },
  {
   "cell_type": "code",
   "execution_count": 330,
   "metadata": {
    "collapsed": true,
    "jupyter": {
     "outputs_hidden": true
    }
   },
   "outputs": [
    {
     "data": {
      "text/plain": [
       "array([[-0.5924806 ],\n",
       "       [ 0.63878901],\n",
       "       [-0.2846632 ],\n",
       "       [ 0.40792596],\n",
       "       [ 0.40792596],\n",
       "       [ 0.        ],\n",
       "       [ 1.87005862],\n",
       "       [-2.13156761],\n",
       "       [-0.20770885],\n",
       "       [-1.20811541],\n",
       "       [-1.97765891],\n",
       "       [ 2.17787603],\n",
       "       [-0.7463893 ],\n",
       "       [ 0.71574336],\n",
       "       [-1.20811541],\n",
       "       [ 1.94701297],\n",
       "       [-2.13156761],\n",
       "       [ 0.        ],\n",
       "       [ 0.10010856],\n",
       "       [ 0.        ],\n",
       "       [ 0.40792596],\n",
       "       [ 0.33097161],\n",
       "       [-1.13116105],\n",
       "       [-0.1307545 ],\n",
       "       [-1.66984151],\n",
       "       [ 0.63878901],\n",
       "       [ 0.        ],\n",
       "       [-0.82334365],\n",
       "       [ 0.        ],\n",
       "       [ 0.        ],\n",
       "       [ 0.79269771],\n",
       "       [ 0.        ],\n",
       "       [ 0.        ],\n",
       "       [ 2.79351083],\n",
       "       [-0.1307545 ],\n",
       "       [ 0.94660642],\n",
       "       [ 0.        ],\n",
       "       [-0.66943495],\n",
       "       [-0.900298  ],\n",
       "       [-1.20811541],\n",
       "       [ 0.79269771],\n",
       "       [-0.20770885],\n",
       "       [ 0.        ],\n",
       "       [-2.05461326],\n",
       "       [-0.82334365],\n",
       "       [ 0.        ],\n",
       "       [ 0.        ],\n",
       "       [ 0.        ],\n",
       "       [ 0.        ],\n",
       "       [-0.900298  ],\n",
       "       [-1.74679586],\n",
       "       [-0.66943495],\n",
       "       [ 1.48528687],\n",
       "       [-0.05380014],\n",
       "       [ 2.71655648],\n",
       "       [ 0.        ],\n",
       "       [-0.66943495],\n",
       "       [-0.09227732],\n",
       "       [-1.90070456],\n",
       "       [-1.43897846],\n",
       "       [-0.5924806 ],\n",
       "       [ 0.63878901],\n",
       "       [ 1.17746947],\n",
       "       [-1.97765891],\n",
       "       [ 0.        ],\n",
       "       [ 0.        ],\n",
       "       [-0.05380014],\n",
       "       [-0.82334365],\n",
       "       [-0.97725235],\n",
       "       [-0.2846632 ],\n",
       "       [ 0.17706291],\n",
       "       [-1.0542067 ],\n",
       "       [-0.66943495],\n",
       "       [-0.2846632 ],\n",
       "       [ 0.17706291],\n",
       "       [-0.36161755],\n",
       "       [ 0.        ],\n",
       "       [ 0.        ],\n",
       "       [-2.2216042 ],\n",
       "       [ 0.02315421],\n",
       "       [-0.5924806 ],\n",
       "       [-0.05380014],\n",
       "       [ 0.        ],\n",
       "       [-0.1307545 ],\n",
       "       [-0.97725235],\n",
       "       [ 0.25401726],\n",
       "       [-1.0542067 ],\n",
       "       [ 0.        ],\n",
       "       [-0.51552625],\n",
       "       [-0.4385719 ],\n",
       "       [-0.05380014],\n",
       "       [-0.7463893 ],\n",
       "       [ 1.25442382],\n",
       "       [-0.2846632 ],\n",
       "       [ 2.25483038],\n",
       "       [ 0.        ],\n",
       "       [ 3.17828259],\n",
       "       [-0.51552625],\n",
       "       [ 0.33097161],\n",
       "       [ 0.33097161],\n",
       "       [-0.1307545 ],\n",
       "       [ 0.        ],\n",
       "       [-0.66943495],\n",
       "       [ 0.25401726],\n",
       "       [ 0.56183466],\n",
       "       [-0.1307545 ],\n",
       "       [-0.66943495],\n",
       "       [ 0.        ],\n",
       "       [ 0.63878901],\n",
       "       [ 0.        ],\n",
       "       [ 1.33137817],\n",
       "       [-1.16963823],\n",
       "       [-0.5924806 ],\n",
       "       [-0.7463893 ],\n",
       "       [-0.97725235],\n",
       "       [-0.66943495],\n",
       "       [ 3.13980541],\n",
       "       [-0.05380014],\n",
       "       [-0.4385719 ],\n",
       "       [-2.13156761],\n",
       "       [-0.66943495],\n",
       "       [ 0.        ],\n",
       "       [ 0.21554008],\n",
       "       [ 0.21554008],\n",
       "       [ 1.87005862],\n",
       "       [-1.36202411],\n",
       "       [ 0.        ],\n",
       "       [-0.4385719 ],\n",
       "       [ 0.        ],\n",
       "       [ 1.17746947],\n",
       "       [ 0.25401726],\n",
       "       [-0.7463893 ],\n",
       "       [ 1.33137817],\n",
       "       [-0.05380014],\n",
       "       [-0.36161755],\n",
       "       [-0.51552625],\n",
       "       [-0.82334365],\n",
       "       [ 0.56183466],\n",
       "       [-1.0542067 ],\n",
       "       [-0.4385719 ],\n",
       "       [ 0.        ],\n",
       "       [-0.5924806 ],\n",
       "       [-0.4385719 ],\n",
       "       [-0.82334365],\n",
       "       [-0.900298  ],\n",
       "       [-0.82334365],\n",
       "       [-0.20770885],\n",
       "       [-1.59288716],\n",
       "       [ 0.52335749],\n",
       "       [ 0.94660642],\n",
       "       [ 1.63919557],\n",
       "       [-0.5924806 ],\n",
       "       [ 1.98549015],\n",
       "       [ 0.83117489],\n",
       "       [ 0.        ],\n",
       "       [ 1.63919557],\n",
       "       [-1.0542067 ],\n",
       "       [ 0.02315421],\n",
       "       [ 0.        ],\n",
       "       [ 0.        ],\n",
       "       [ 1.10051512],\n",
       "       [ 0.79269771],\n",
       "       [-0.2846632 ],\n",
       "       [-0.97725235],\n",
       "       [-2.20852197],\n",
       "       [-1.59288716],\n",
       "       [ 0.        ],\n",
       "       [ 1.17746947],\n",
       "       [ 0.        ],\n",
       "       [-0.1307545 ],\n",
       "       [ 2.40873908],\n",
       "       [-1.97765891],\n",
       "       [-2.20852197],\n",
       "       [-0.66943495],\n",
       "       [ 2.02396733],\n",
       "       [-0.900298  ],\n",
       "       [ 0.        ],\n",
       "       [ 1.56224122],\n",
       "       [ 0.02315421],\n",
       "       [ 0.48488031],\n",
       "       [ 0.        ],\n",
       "       [ 0.        ],\n",
       "       [-1.59288716],\n",
       "       [-2.20852197],\n",
       "       [-1.97765891],\n",
       "       [ 0.        ],\n",
       "       [ 0.        ],\n",
       "       [ 1.17746947],\n",
       "       [ 0.79269771],\n",
       "       [ 0.48488031],\n",
       "       [ 0.17706291],\n",
       "       [-0.82334365],\n",
       "       [-0.82334365],\n",
       "       [-2.05461326],\n",
       "       [ 1.10051512],\n",
       "       [ 2.17787603],\n",
       "       [ 0.        ],\n",
       "       [ 0.94660642],\n",
       "       [ 0.        ],\n",
       "       [-0.4385719 ],\n",
       "       [-0.1307545 ],\n",
       "       [ 0.        ],\n",
       "       [ 0.33097161],\n",
       "       [ 1.21594664],\n",
       "       [-0.900298  ],\n",
       "       [-2.13156761],\n",
       "       [ 0.17706291],\n",
       "       [-0.2846632 ],\n",
       "       [-1.0542067 ],\n",
       "       [ 0.79269771],\n",
       "       [-0.4385719 ],\n",
       "       [ 0.40792596],\n",
       "       [-0.5924806 ],\n",
       "       [ 0.02315421],\n",
       "       [ 0.        ],\n",
       "       [ 0.10010856],\n",
       "       [-0.20770885],\n",
       "       [ 0.94660642],\n",
       "       [ 0.17706291],\n",
       "       [ 0.02315421],\n",
       "       [-1.0542067 ],\n",
       "       [-0.20770885],\n",
       "       [ 1.63919557],\n",
       "       [ 0.        ],\n",
       "       [ 0.63878901],\n",
       "       [-0.5924806 ],\n",
       "       [-0.82334365],\n",
       "       [-0.70791213],\n",
       "       [-0.900298  ],\n",
       "       [ 0.        ],\n",
       "       [ 0.40792596],\n",
       "       [-0.05380014],\n",
       "       [ 2.25483038],\n",
       "       [-1.90070456],\n",
       "       [-0.4385719 ],\n",
       "       [ 0.        ],\n",
       "       [ 1.10051512],\n",
       "       [-1.66984151],\n",
       "       [-0.82334365],\n",
       "       [ 0.25401726],\n",
       "       [ 0.        ],\n",
       "       [ 0.        ],\n",
       "       [-0.05380014],\n",
       "       [-0.5924806 ],\n",
       "       [ 0.02315421],\n",
       "       [ 1.10051512],\n",
       "       [-0.36161755],\n",
       "       [-0.4385719 ],\n",
       "       [ 0.56183466],\n",
       "       [ 1.87005862],\n",
       "       [ 0.        ],\n",
       "       [-0.05380014],\n",
       "       [ 2.48569343],\n",
       "       [ 0.02315421],\n",
       "       [ 0.86965206],\n",
       "       [-0.05380014],\n",
       "       [ 0.        ],\n",
       "       [ 0.02315421],\n",
       "       [ 0.40792596],\n",
       "       [ 1.56224122],\n",
       "       [ 0.        ],\n",
       "       [-2.05461326],\n",
       "       [ 1.71614992],\n",
       "       [ 0.79269771],\n",
       "       [ 0.        ],\n",
       "       [ 0.48488031],\n",
       "       [-1.0542067 ],\n",
       "       [-0.36161755],\n",
       "       [ 2.17787603],\n",
       "       [ 0.40792596],\n",
       "       [ 0.        ],\n",
       "       [-0.36161755],\n",
       "       [ 0.86965206],\n",
       "       [ 0.56183466],\n",
       "       [ 0.        ],\n",
       "       [ 2.56264778],\n",
       "       [ 1.17746947],\n",
       "       [ 0.        ],\n",
       "       [-1.74679586],\n",
       "       [ 0.40792596],\n",
       "       [ 2.71655648],\n",
       "       [-0.1307545 ],\n",
       "       [-1.0542067 ],\n",
       "       [-0.82334365],\n",
       "       [ 0.        ],\n",
       "       [ 0.25401726],\n",
       "       [ 0.02315421],\n",
       "       [-0.5924806 ],\n",
       "       [ 0.94660642],\n",
       "       [-0.5924806 ],\n",
       "       [-0.2846632 ],\n",
       "       [-0.82334365],\n",
       "       [ 0.48488031],\n",
       "       [-0.4385719 ],\n",
       "       [-0.4385719 ],\n",
       "       [ 0.        ],\n",
       "       [-0.47704907],\n",
       "       [-2.13156761],\n",
       "       [ 0.        ],\n",
       "       [ 1.56224122],\n",
       "       [ 0.        ],\n",
       "       [ 0.        ],\n",
       "       [-0.82334365],\n",
       "       [ 0.        ],\n",
       "       [ 0.        ],\n",
       "       [-2.21467831],\n",
       "       [ 0.        ],\n",
       "       [-0.97725235],\n",
       "       [ 0.02315421],\n",
       "       [ 0.02315421],\n",
       "       [-0.4385719 ],\n",
       "       [-0.900298  ],\n",
       "       [-0.2846632 ],\n",
       "       [-0.1307545 ],\n",
       "       [ 1.02356077],\n",
       "       [-0.2846632 ],\n",
       "       [-0.4385719 ],\n",
       "       [ 1.87005862],\n",
       "       [ 0.10010856],\n",
       "       [ 0.79269771],\n",
       "       [-0.5924806 ],\n",
       "       [-0.20770885],\n",
       "       [ 0.02315421],\n",
       "       [-0.5924806 ],\n",
       "       [ 0.        ],\n",
       "       [ 0.48488031],\n",
       "       [ 2.40873908],\n",
       "       [ 0.48488031],\n",
       "       [ 0.10010856],\n",
       "       [-1.0542067 ],\n",
       "       [ 0.        ],\n",
       "       [ 1.21594664],\n",
       "       [ 0.63878901],\n",
       "       [-1.0542067 ],\n",
       "       [ 0.        ],\n",
       "       [ 0.        ],\n",
       "       [-0.05380014],\n",
       "       [ 0.86965206],\n",
       "       [ 1.17746947],\n",
       "       [ 1.17746947],\n",
       "       [-2.13156761],\n",
       "       [-0.4385719 ],\n",
       "       [-0.1307545 ],\n",
       "       [-0.36161755],\n",
       "       [ 0.48488031],\n",
       "       [-0.4385719 ],\n",
       "       [ 0.79269771],\n",
       "       [ 0.        ],\n",
       "       [-2.05461326],\n",
       "       [ 0.94660642],\n",
       "       [-0.51552625],\n",
       "       [ 0.        ],\n",
       "       [-1.13116105],\n",
       "       [-0.36161755],\n",
       "       [ 0.        ],\n",
       "       [-0.1307545 ],\n",
       "       [-0.5924806 ],\n",
       "       [ 0.63878901],\n",
       "       [ 0.        ],\n",
       "       [ 0.        ],\n",
       "       [ 0.79269771],\n",
       "       [-0.05380014],\n",
       "       [ 1.17746947],\n",
       "       [ 0.40792596],\n",
       "       [ 0.        ],\n",
       "       [ 0.02315421],\n",
       "       [ 2.33178473],\n",
       "       [ 0.        ],\n",
       "       [ 0.        ],\n",
       "       [-0.4385719 ],\n",
       "       [-0.36161755],\n",
       "       [-0.900298  ],\n",
       "       [-0.82334365],\n",
       "       [-0.5924806 ],\n",
       "       [-2.05461326],\n",
       "       [ 0.        ],\n",
       "       [-0.5924806 ],\n",
       "       [-0.20770885],\n",
       "       [-0.7463893 ],\n",
       "       [-0.82334365],\n",
       "       [ 0.94660642],\n",
       "       [-2.20852197],\n",
       "       [ 0.17706291],\n",
       "       [ 0.40792596],\n",
       "       [ 0.        ],\n",
       "       [-0.900298  ],\n",
       "       [-2.20852197],\n",
       "       [ 0.48488031],\n",
       "       [ 0.        ],\n",
       "       [-0.97725235],\n",
       "       [ 0.48488031],\n",
       "       [-0.66943495],\n",
       "       [-0.1307545 ],\n",
       "       [-0.51552625],\n",
       "       [-0.4385719 ],\n",
       "       [-0.5924806 ],\n",
       "       [ 0.10010856],\n",
       "       [ 1.25442382],\n",
       "       [-0.51552625],\n",
       "       [-0.1307545 ],\n",
       "       [ 0.71574336],\n",
       "       [-0.2846632 ],\n",
       "       [-0.66943495],\n",
       "       [-0.1307545 ],\n",
       "       [-0.7463893 ],\n",
       "       [ 0.33097161],\n",
       "       [ 1.63919557],\n",
       "       [-2.05461326],\n",
       "       [-0.66943495],\n",
       "       [ 0.        ],\n",
       "       [ 0.        ],\n",
       "       [ 0.        ],\n",
       "       [ 0.25401726],\n",
       "       [ 0.        ],\n",
       "       [ 1.10051512],\n",
       "       [ 0.        ],\n",
       "       [ 0.33097161],\n",
       "       [-0.900298  ],\n",
       "       [ 0.02315421],\n",
       "       [-1.51593281],\n",
       "       [ 0.        ],\n",
       "       [-0.66943495],\n",
       "       [-0.05380014],\n",
       "       [-0.1307545 ],\n",
       "       [-0.900298  ],\n",
       "       [ 0.        ],\n",
       "       [-0.1307545 ],\n",
       "       [-0.82334365],\n",
       "       [ 0.        ],\n",
       "       [ 0.17706291],\n",
       "       [-0.1307545 ],\n",
       "       [ 0.        ],\n",
       "       [ 0.94660642],\n",
       "       [-0.97725235],\n",
       "       [ 1.56224122],\n",
       "       [-1.20811541],\n",
       "       [-0.66943495],\n",
       "       [-0.4385719 ],\n",
       "       [ 2.63960213],\n",
       "       [ 0.10010856],\n",
       "       [ 1.17746947],\n",
       "       [-0.7463893 ],\n",
       "       [-0.36161755],\n",
       "       [-0.1307545 ],\n",
       "       [ 0.        ],\n",
       "       [-1.97765891],\n",
       "       [-1.28506976],\n",
       "       [ 0.33097161],\n",
       "       [-1.90070456],\n",
       "       [ 1.71614992],\n",
       "       [ 0.48488031],\n",
       "       [ 0.        ],\n",
       "       [ 0.02315421],\n",
       "       [ 1.48528687],\n",
       "       [ 0.        ],\n",
       "       [-0.05380014],\n",
       "       [ 2.71655648],\n",
       "       [ 0.        ],\n",
       "       [ 1.56224122],\n",
       "       [ 0.        ],\n",
       "       [ 1.40833252],\n",
       "       [ 0.33097161],\n",
       "       [ 1.33137817],\n",
       "       [ 1.40833252],\n",
       "       [ 0.        ],\n",
       "       [ 0.63878901],\n",
       "       [ 0.        ],\n",
       "       [ 2.02396733],\n",
       "       [ 0.        ],\n",
       "       [-2.22776055],\n",
       "       [ 0.        ],\n",
       "       [ 0.63878901],\n",
       "       [ 0.25401726],\n",
       "       [-0.51552625],\n",
       "       [-0.5924806 ],\n",
       "       [ 0.        ],\n",
       "       [ 0.33097161],\n",
       "       [-0.05380014],\n",
       "       [-0.5924806 ],\n",
       "       [-2.13156761],\n",
       "       [-1.59288716],\n",
       "       [ 0.        ],\n",
       "       [ 1.56224122],\n",
       "       [ 2.56264778],\n",
       "       [-0.36161755],\n",
       "       [ 0.        ],\n",
       "       [ 0.40792596],\n",
       "       [ 2.17787603],\n",
       "       [ 0.02315421],\n",
       "       [-1.59288716],\n",
       "       [ 0.        ],\n",
       "       [-0.66943495],\n",
       "       [ 1.94701297],\n",
       "       [ 3.17828259],\n",
       "       [-0.66943495],\n",
       "       [ 0.        ],\n",
       "       [ 1.87005862],\n",
       "       [ 0.        ],\n",
       "       [-0.36161755],\n",
       "       [-0.4385719 ],\n",
       "       [-0.97725235],\n",
       "       [-0.66943495],\n",
       "       [ 0.        ],\n",
       "       [ 0.56183466],\n",
       "       [-1.0542067 ],\n",
       "       [-0.900298  ],\n",
       "       [ 0.25401726],\n",
       "       [ 0.        ],\n",
       "       [-0.1307545 ],\n",
       "       [-0.2846632 ],\n",
       "       [-0.05380014],\n",
       "       [ 0.        ],\n",
       "       [ 0.48488031],\n",
       "       [ 1.87005862],\n",
       "       [-0.4385719 ],\n",
       "       [ 1.33137817],\n",
       "       [ 0.33097161],\n",
       "       [ 0.        ],\n",
       "       [ 0.48488031],\n",
       "       [ 0.17706291],\n",
       "       [ 0.02315421],\n",
       "       [-0.5924806 ],\n",
       "       [ 0.        ],\n",
       "       [ 1.10051512],\n",
       "       [ 0.        ],\n",
       "       [ 0.83117489],\n",
       "       [ 1.56224122],\n",
       "       [ 0.        ],\n",
       "       [ 0.71574336],\n",
       "       [-0.51552625],\n",
       "       [-2.13156761],\n",
       "       [ 0.        ],\n",
       "       [-0.97725235],\n",
       "       [ 0.        ],\n",
       "       [ 0.02315421],\n",
       "       [-1.74679586],\n",
       "       [ 1.17746947],\n",
       "       [ 0.02315421],\n",
       "       [ 0.        ],\n",
       "       [-0.5924806 ],\n",
       "       [ 0.48488031],\n",
       "       [-1.59288716],\n",
       "       [-1.43897846],\n",
       "       [ 0.17706291],\n",
       "       [ 1.56224122],\n",
       "       [ 2.63960213],\n",
       "       [-0.82334365],\n",
       "       [ 0.        ],\n",
       "       [ 0.25401726],\n",
       "       [-1.66984151],\n",
       "       [-0.97725235],\n",
       "       [-0.20770885],\n",
       "       [ 0.        ],\n",
       "       [-0.5924806 ],\n",
       "       [-0.5924806 ],\n",
       "       [ 2.48569343],\n",
       "       [ 1.40833252],\n",
       "       [ 0.        ],\n",
       "       [ 0.71574336],\n",
       "       [ 0.48488031],\n",
       "       [ 0.        ],\n",
       "       [ 0.79269771],\n",
       "       [-0.1307545 ],\n",
       "       [ 0.        ],\n",
       "       [ 0.        ],\n",
       "       [-0.4385719 ],\n",
       "       [-0.82334365],\n",
       "       [-0.05380014],\n",
       "       [ 0.        ],\n",
       "       [ 0.17706291],\n",
       "       [ 2.48569343],\n",
       "       [ 1.79310427],\n",
       "       [ 0.48488031],\n",
       "       [ 0.        ],\n",
       "       [-1.0542067 ],\n",
       "       [-0.82334365],\n",
       "       [ 0.33097161],\n",
       "       [ 0.71574336],\n",
       "       [ 0.        ],\n",
       "       [ 0.17706291],\n",
       "       [-0.36161755],\n",
       "       [ 0.71574336],\n",
       "       [ 1.87005862],\n",
       "       [ 0.48488031],\n",
       "       [ 0.        ],\n",
       "       [-0.900298  ],\n",
       "       [ 1.33137817],\n",
       "       [ 2.33178473],\n",
       "       [-0.5924806 ],\n",
       "       [ 0.        ],\n",
       "       [ 0.40792596],\n",
       "       [ 1.71614992],\n",
       "       [ 1.33137817],\n",
       "       [ 0.        ],\n",
       "       [ 0.56183466],\n",
       "       [ 0.48488031],\n",
       "       [ 0.        ],\n",
       "       [ 1.48528687],\n",
       "       [ 0.        ],\n",
       "       [ 1.48528687],\n",
       "       [-0.4385719 ],\n",
       "       [ 0.        ],\n",
       "       [ 0.        ],\n",
       "       [ 1.10051512],\n",
       "       [ 0.40792596],\n",
       "       [ 0.48488031],\n",
       "       [ 0.02315421],\n",
       "       [-0.20770885],\n",
       "       [-0.5924806 ],\n",
       "       [ 0.79269771],\n",
       "       [ 0.71574336],\n",
       "       [ 0.        ],\n",
       "       [ 0.        ],\n",
       "       [ 0.        ],\n",
       "       [ 0.40792596],\n",
       "       [-0.4385719 ],\n",
       "       [ 0.33097161],\n",
       "       [-0.2846632 ],\n",
       "       [-1.97765891],\n",
       "       [-0.2846632 ],\n",
       "       [-0.20770885],\n",
       "       [ 0.94660642],\n",
       "       [-0.7463893 ],\n",
       "       [-0.66943495],\n",
       "       [-0.66943495],\n",
       "       [ 2.40873908],\n",
       "       [ 2.10092168],\n",
       "       [-0.66943495],\n",
       "       [-0.2846632 ],\n",
       "       [ 0.        ],\n",
       "       [ 3.87087174],\n",
       "       [ 1.63919557],\n",
       "       [ 0.17706291],\n",
       "       [ 0.        ],\n",
       "       [-1.59288716],\n",
       "       [-0.1307545 ],\n",
       "       [ 0.17706291],\n",
       "       [ 0.10010856],\n",
       "       [ 0.86965206],\n",
       "       [ 0.        ],\n",
       "       [-0.7463893 ],\n",
       "       [-0.4385719 ],\n",
       "       [-2.13156761],\n",
       "       [ 0.        ],\n",
       "       [-2.22776055],\n",
       "       [ 1.40833252],\n",
       "       [-0.82334365],\n",
       "       [ 2.02396733],\n",
       "       [ 0.        ],\n",
       "       [-0.51552625],\n",
       "       [ 0.        ],\n",
       "       [-0.900298  ],\n",
       "       [-0.66943495],\n",
       "       [ 0.        ],\n",
       "       [-0.900298  ],\n",
       "       [-0.4385719 ],\n",
       "       [ 0.        ],\n",
       "       [ 0.17706291],\n",
       "       [-0.51552625],\n",
       "       [ 2.17787603],\n",
       "       [ 1.56224122],\n",
       "       [ 0.79269771],\n",
       "       [ 1.33137817],\n",
       "       [ 0.48488031],\n",
       "       [-0.7463893 ],\n",
       "       [ 0.17706291],\n",
       "       [-0.36161755],\n",
       "       [ 0.        ],\n",
       "       [ 1.02356077],\n",
       "       [ 0.        ],\n",
       "       [ 0.79269771],\n",
       "       [ 0.10010856],\n",
       "       [ 3.10132824],\n",
       "       [ 0.10010856],\n",
       "       [ 0.        ],\n",
       "       [-0.900298  ],\n",
       "       [-0.40009472],\n",
       "       [-0.900298  ],\n",
       "       [ 1.02356077],\n",
       "       [ 0.48488031],\n",
       "       [ 0.        ],\n",
       "       [-0.20770885],\n",
       "       [-0.7463893 ],\n",
       "       [-1.20811541],\n",
       "       [ 2.33178473],\n",
       "       [-0.36161755],\n",
       "       [-1.20811541],\n",
       "       [-0.82334365],\n",
       "       [-0.900298  ],\n",
       "       [-1.13116105],\n",
       "       [ 0.10010856],\n",
       "       [-1.97765891],\n",
       "       [ 0.        ],\n",
       "       [-0.36161755],\n",
       "       [ 2.33178473],\n",
       "       [ 1.71614992],\n",
       "       [ 1.10051512],\n",
       "       [ 0.        ],\n",
       "       [ 1.48528687],\n",
       "       [ 0.94660642],\n",
       "       [-0.900298  ],\n",
       "       [ 0.40792596],\n",
       "       [-0.900298  ],\n",
       "       [-0.36161755],\n",
       "       [-0.2846632 ],\n",
       "       [ 0.71574336],\n",
       "       [ 1.17746947],\n",
       "       [ 0.94660642],\n",
       "       [-0.5924806 ],\n",
       "       [ 0.        ],\n",
       "       [-0.4385719 ],\n",
       "       [ 0.        ],\n",
       "       [ 1.40833252],\n",
       "       [-0.05380014],\n",
       "       [ 1.71614992],\n",
       "       [-0.82334365],\n",
       "       [ 0.63878901],\n",
       "       [-0.20770885],\n",
       "       [ 0.        ],\n",
       "       [ 0.25401726],\n",
       "       [-1.82375021],\n",
       "       [-0.97725235],\n",
       "       [ 0.33097161],\n",
       "       [ 1.56224122],\n",
       "       [-0.20770885],\n",
       "       [-0.7463893 ],\n",
       "       [ 0.02315421],\n",
       "       [ 0.        ],\n",
       "       [-0.36161755],\n",
       "       [-0.36161755],\n",
       "       [-0.05380014],\n",
       "       [-1.43897846],\n",
       "       [ 0.        ],\n",
       "       [-0.51552625],\n",
       "       [-0.51552625],\n",
       "       [-0.09227732],\n",
       "       [ 1.40833252],\n",
       "       [ 0.40792596],\n",
       "       [ 0.        ],\n",
       "       [ 0.        ],\n",
       "       [ 0.        ],\n",
       "       [ 0.48488031],\n",
       "       [-0.66943495],\n",
       "       [-0.4385719 ],\n",
       "       [ 0.10010856],\n",
       "       [ 3.10132824],\n",
       "       [-1.0542067 ],\n",
       "       [ 0.02315421],\n",
       "       [-0.82334365],\n",
       "       [ 0.10010856],\n",
       "       [-1.97765891],\n",
       "       [-1.82375021],\n",
       "       [ 0.25401726],\n",
       "       [-0.51552625],\n",
       "       [ 1.40833252],\n",
       "       [-2.2339169 ],\n",
       "       [-0.1307545 ],\n",
       "       [-0.900298  ],\n",
       "       [ 0.33097161],\n",
       "       [ 0.25401726],\n",
       "       [ 0.        ],\n",
       "       [ 0.86965206],\n",
       "       [-0.7463893 ],\n",
       "       [ 0.48488031],\n",
       "       [-1.0542067 ],\n",
       "       [ 1.63919557],\n",
       "       [ 0.        ],\n",
       "       [ 0.06163138],\n",
       "       [ 0.        ],\n",
       "       [ 0.17706291],\n",
       "       [-0.4385719 ],\n",
       "       [ 1.40833252],\n",
       "       [ 2.10092168],\n",
       "       [ 0.        ],\n",
       "       [ 1.87005862],\n",
       "       [-0.900298  ],\n",
       "       [ 0.        ],\n",
       "       [-1.90070456],\n",
       "       [ 0.        ],\n",
       "       [ 1.02356077],\n",
       "       [-1.28506976],\n",
       "       [-0.97725235],\n",
       "       [-0.05380014],\n",
       "       [ 0.        ],\n",
       "       [-0.36161755],\n",
       "       [-0.36161755],\n",
       "       [-0.900298  ],\n",
       "       [-1.66984151],\n",
       "       [-2.20852197],\n",
       "       [ 1.25442382],\n",
       "       [ 0.        ],\n",
       "       [-1.0542067 ],\n",
       "       [ 0.        ],\n",
       "       [ 0.        ],\n",
       "       [-0.36161755],\n",
       "       [ 0.71574336],\n",
       "       [ 1.48528687],\n",
       "       [ 0.10010856],\n",
       "       [ 0.02315421],\n",
       "       [ 0.02315421],\n",
       "       [ 0.33097161],\n",
       "       [ 0.10010856],\n",
       "       [-1.43897846],\n",
       "       [-2.25315549],\n",
       "       [-0.20770885],\n",
       "       [ 0.10010856],\n",
       "       [ 0.71574336],\n",
       "       [-0.900298  ],\n",
       "       [ 0.71574336],\n",
       "       [ 0.25401726],\n",
       "       [-0.2846632 ],\n",
       "       [ 0.71574336],\n",
       "       [ 0.40792596],\n",
       "       [-1.82375021],\n",
       "       [ 0.06163138],\n",
       "       [ 0.        ],\n",
       "       [-0.51552625],\n",
       "       [ 0.10010856],\n",
       "       [ 1.02356077],\n",
       "       [-1.51593281],\n",
       "       [ 1.71614992],\n",
       "       [-0.20770885],\n",
       "       [ 0.63878901],\n",
       "       [-0.20770885],\n",
       "       [-2.13156761],\n",
       "       [ 0.        ],\n",
       "       [ 0.        ],\n",
       "       [-2.20852197],\n",
       "       [ 0.        ],\n",
       "       [ 2.48569343],\n",
       "       [-1.13116105],\n",
       "       [-2.2216042 ],\n",
       "       [ 0.        ],\n",
       "       [-0.51552625],\n",
       "       [-0.900298  ],\n",
       "       [ 0.71574336],\n",
       "       [-0.66943495],\n",
       "       [ 0.        ],\n",
       "       [ 0.17706291],\n",
       "       [ 0.        ],\n",
       "       [-0.7463893 ],\n",
       "       [-1.0542067 ],\n",
       "       [ 0.02315421],\n",
       "       [ 0.36944878],\n",
       "       [-0.97725235],\n",
       "       [ 0.94660642],\n",
       "       [ 0.        ],\n",
       "       [ 0.40792596],\n",
       "       [-0.1307545 ],\n",
       "       [ 0.        ],\n",
       "       [-1.97765891],\n",
       "       [ 3.40914564],\n",
       "       [-1.59288716],\n",
       "       [-1.0542067 ],\n",
       "       [ 1.10051512],\n",
       "       [-0.900298  ],\n",
       "       [ 1.17746947],\n",
       "       [ 1.63919557],\n",
       "       [-0.4385719 ],\n",
       "       [ 0.        ],\n",
       "       [ 0.86965206],\n",
       "       [-0.66943495],\n",
       "       [ 1.40833252],\n",
       "       [ 0.        ],\n",
       "       [-0.4385719 ],\n",
       "       [ 0.94660642],\n",
       "       [-0.20770885],\n",
       "       [ 0.10010856],\n",
       "       [ 0.        ],\n",
       "       [-1.97765891],\n",
       "       [-0.2846632 ],\n",
       "       [ 1.33137817],\n",
       "       [ 0.25401726],\n",
       "       [ 1.33137817],\n",
       "       [-0.1307545 ],\n",
       "       [-1.13116105],\n",
       "       [-0.7463893 ],\n",
       "       [-0.82334365],\n",
       "       [ 0.        ],\n",
       "       [ 2.02396733],\n",
       "       [-0.36161755],\n",
       "       [ 0.25401726],\n",
       "       [-0.5924806 ],\n",
       "       [-0.1307545 ],\n",
       "       [-0.36161755],\n",
       "       [ 0.71574336],\n",
       "       [-0.20770885],\n",
       "       [-0.82334365],\n",
       "       [ 0.        ],\n",
       "       [-0.2846632 ],\n",
       "       [ 0.17706291]])"
      ]
     },
     "execution_count": 330,
     "metadata": {},
     "output_type": "execute_result"
    }
   ],
   "source": [
    "enc_"
   ]
  },
  {
   "cell_type": "code",
   "execution_count": null,
   "metadata": {},
   "outputs": [],
   "source": []
  },
  {
   "cell_type": "code",
   "execution_count": null,
   "metadata": {},
   "outputs": [],
   "source": []
  }
 ],
 "metadata": {
  "kernelspec": {
   "display_name": "Python 3",
   "language": "python",
   "name": "python3"
  },
  "language_info": {
   "codemirror_mode": {
    "name": "ipython",
    "version": 3
   },
   "file_extension": ".py",
   "mimetype": "text/x-python",
   "name": "python",
   "nbconvert_exporter": "python",
   "pygments_lexer": "ipython3",
   "version": "3.7.4"
  }
 },
 "nbformat": 4,
 "nbformat_minor": 4
}
