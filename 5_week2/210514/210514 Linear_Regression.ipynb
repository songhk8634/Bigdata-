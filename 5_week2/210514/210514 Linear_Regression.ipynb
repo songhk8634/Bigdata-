{
 "cells": [
  {
   "cell_type": "markdown",
   "metadata": {},
   "source": [
    "# 지도학습(Supervised Machinelearning)\n",
    "## 1. Linear Regression\n",
    "- $ \\hat{y}(w, x) = w_0 + w_1 x_1 + ... + w_p x_p $\n",
    "- $ w = (w_1,..., w_p) $\n",
    "- $ min_{w} || X w - y||_2^2 $\n",
    "- w = coef_ , b = intercept_\n",
    "- 모델의 평가 항목\n",
    "    - R<sup>2</sup>\n",
    "        - R-squared는 우리말로는 결정계수라고 하며, R<sup>2</sup>으로도 표현된다.용처는 회귀모형의 설명력을 표현하는 것. P-value와 같이 0과 1 사이의 값으로 나타나는데, 0에 가까울수록 설명력이 낮고, 1에 가까울수록 높다고 해석할 수 있다.\n",
    "        - $R^2 = {SSE \\over SST} = 1 - {SSR \\over SST}$\n",
    "            - SST(Total Sum of Squares)\n",
    "                - $SST = \\sum {(y - \\bar y)}^2$\n",
    "            - SSE(Explained Sum of Squares)\n",
    "                - $SSE = \\sum {(\\hat y - \\bar y)}^2$\n",
    "            - SSR(Residual Sum of Squares)\n",
    "                - $SSR = \\sum {(y - \\hat y)}^2$\n",
    "    - 수정된 결정계수(Adjusted $R^2$) \n",
    "        - k개의 독립변수들 중 p개를 선택하여 종속변수(y)의 변화량을 설명하고자 할 때, 결정계수를 크게 해주는 p개의 변수들을 선택하는 것이 당연하다. \n",
    "        - 결정계수는 SST중에서 회귀직선에 의해 설명되는 SSR의 비율을 의미하므로 변동이 클수록 좋다. \n",
    "        - 하지만 다중 회귀분석의 경우 결정계수는 p가 증가혀면, 독립벼눗의 수가 증가하며서 커지는 증가함수 이므로 도립변수가 유의하든 안하든 그 개수가 증가하면 결정계수는 커지는 단점을 가지고 있다.\n",
    "        - 수정된 결정계수는 결정계수의 이런 단점을 보완하기 위해 사용된다.\n",
    "        - 데이터의 갯수가 n 이고 독립변수의 갯수가 p일 경우 수정된 결정계수의 식은 다음과 같다.\n",
    "         $ adjusted R^2 = 1 - {(n-1)(1-R^2)\\over (n-p-1)} $\n",
    "    - RMSE(Root Mean Square Error) \n",
    "        - 평균 제곱근 편차(Root Mean Square Deviation; RMSD) 또는 평균 제곱근 오차(Root Mean Square Error; RMSE)는 추정 값 또는 모델이 예측한 값과 실제 환경에서 관찰되는 값의 차이를 다룰 때 흔히 사용하는 측도이다.\n",
    "        - $RMSE =\\sqrt {\\sum{(y - \\hat y)}^2 \\over N} $"
   ]
  },
  {
   "cell_type": "code",
   "execution_count": 2,
   "metadata": {},
   "outputs": [],
   "source": [
    "## 1. 필요 모듈 임포트\n",
    "import numpy as np\n",
    "import pandas as pd\n",
    "from sklearn.linear_model import LinearRegression"
   ]
  },
  {
   "cell_type": "code",
   "execution_count": 15,
   "metadata": {},
   "outputs": [],
   "source": [
    "## 1. 필요 모듈 임포트\n",
    "import numpy as np\n",
    "import pandas as pd\n",
    "from sklearn.linear_model import LinearRegression\n",
    "from sklearn.metrics import mean_squared_error as mse \n",
    "from sklearn.metrics import r2_score\n",
    "import matplotlib.pyplot as plt"
   ]
  },
  {
   "cell_type": "code",
   "execution_count": 12,
   "metadata": {},
   "outputs": [],
   "source": [
    "## 2. 데이터 준비\n",
    "X = np.arange(1,10)\n",
    "noise = np.random.randn(9)\n",
    "y = X * 2 + noise\n",
    "X = X.reshape(9,1)"
   ]
  },
  {
   "cell_type": "code",
   "execution_count": 7,
   "metadata": {},
   "outputs": [
    {
     "data": {
      "text/plain": [
       "[<matplotlib.lines.Line2D at 0x2d5348e57c8>]"
      ]
     },
     "execution_count": 7,
     "metadata": {},
     "output_type": "execute_result"
    },
    {
     "data": {
      "image/png": "[encoded data removed]",
      "text/plain": [
       "<Figure size 432x288 with 1 Axes>"
      ]
     },
     "metadata": {
      "needs_background": "light"
     },
     "output_type": "display_data"
    }
   ],
   "source": [
    "## 2.1 데이터 정제 데이터의 탐색적분석\n",
    "plt.plot(X,y)"
   ]
  },
  {
   "cell_type": "code",
   "execution_count": 11,
   "metadata": {},
   "outputs": [
    {
     "data": {
      "text/plain": [
       "(9,)"
      ]
     },
     "execution_count": 11,
     "metadata": {},
     "output_type": "execute_result"
    }
   ],
   "source": [
    "y.shape"
   ]
  },
  {
   "cell_type": "code",
   "execution_count": 13,
   "metadata": {},
   "outputs": [
    {
     "data": {
      "text/plain": [
       "LinearRegression(copy_X=True, fit_intercept=True, n_jobs=None, normalize=False)"
      ]
     },
     "execution_count": 13,
     "metadata": {},
     "output_type": "execute_result"
    }
   ],
   "source": [
    "## 3. 모델생성 및 학습\n",
    "lm = LinearRegression()\n",
    "lm.fit(X,y)"
   ]
  },
  {
   "cell_type": "code",
   "execution_count": 18,
   "metadata": {},
   "outputs": [
    {
     "name": "stdout",
     "output_type": "stream",
     "text": [
      "0.8847641597819165\n",
      "0.9709901253315393\n"
     ]
    }
   ],
   "source": [
    "## 4. 모델 평가\n",
    "y_hat = lm.predict(X)\n",
    "rmse = np.sqrt(mse(y,y_hat))\n",
    "r2 = r2_score(y,y_hat)\n",
    "print(rmse)\n",
    "print(r2)"
   ]
  },
  {
   "cell_type": "code",
   "execution_count": 23,
   "metadata": {},
   "outputs": [
    {
     "data": {
      "text/plain": [
       "array([198.60200742])"
      ]
     },
     "execution_count": 23,
     "metadata": {},
     "output_type": "execute_result"
    }
   ],
   "source": [
    "lm.predict([[100]])"
   ]
  },
  {
   "cell_type": "code",
   "execution_count": 27,
   "metadata": {},
   "outputs": [
    {
     "data": {
      "text/plain": [
       "0.3545474215347273"
      ]
     },
     "execution_count": 27,
     "metadata": {},
     "output_type": "execute_result"
    }
   ],
   "source": [
    "lm.intercept_"
   ]
  },
  {
   "cell_type": "code",
   "execution_count": 41,
   "metadata": {},
   "outputs": [],
   "source": [
    "ws = np.linspace(-100,100,8000)\n",
    "cost = []\n",
    "for w in ws:\n",
    "    y_hat = X*w\n",
    "    cost.append(((y - y_hat)**2).mean())"
   ]
  },
  {
   "cell_type": "code",
   "execution_count": 44,
   "metadata": {},
   "outputs": [
    {
     "data": {
      "text/plain": [
       "55"
      ]
     },
     "execution_count": 44,
     "metadata": {},
     "output_type": "execute_result"
    }
   ],
   "source": [
    "#1~10\n",
    "s = 0\n",
    "for i in range(1,11):\n",
    "    s += i\n",
    "s"
   ]
  },
  {
   "cell_type": "code",
   "execution_count": 42,
   "metadata": {},
   "outputs": [
    {
     "data": {
      "text/plain": [
       "[<matplotlib.lines.Line2D at 0x2d5349e9e08>]"
      ]
     },
     "execution_count": 42,
     "metadata": {},
     "output_type": "execute_result"
    },
    {
     "data": {
      "image/png": "[encoded data removed]",
      "text/plain": [
       "<Figure size 432x288 with 1 Axes>"
      ]
     },
     "metadata": {
      "needs_background": "light"
     },
     "output_type": "display_data"
    }
   ],
   "source": [
    "plt.plot(ws,cost)"
   ]
  },
  {
   "cell_type": "code",
   "execution_count": 439,
   "metadata": {},
   "outputs": [],
   "source": [
    "X = np.arange(100)\n",
    "y = X * 121"
   ]
  },
  {
   "cell_type": "code",
   "execution_count": 440,
   "metadata": {},
   "outputs": [],
   "source": [
    "w = np.random.uniform(-1,1)\n",
    "lr = 0.00001\n",
    "epochs = 10000\n",
    "for epoch in np.arange(epochs):\n",
    "    y_hat = X*w\n",
    "    a = ((y_hat - y)*X).mean()\n",
    "    w = w-lr*a\n",
    "    w"
   ]
  },
  {
   "cell_type": "code",
   "execution_count": 443,
   "metadata": {},
   "outputs": [],
   "source": [
    "## 1. 필요모듈 임포트\n",
    "import numpy as np\n",
    "import pandas as pd\n",
    "from sklearn.linear_model import LinearRegression\n",
    "from sklearn.metrics import mean_squared_error as mse\n",
    "from sklearn.metrics import r2_score"
   ]
  },
  {
   "cell_type": "code",
   "execution_count": 602,
   "metadata": {},
   "outputs": [],
   "source": [
    "## 2. 데이터 준비\n",
    "x1 = np.random.randn(100)\n",
    "x2 = np.random.randn(100)\n",
    "y = x1*6 + x2*121\n",
    "df = pd.DataFrame(x1)\n",
    "df.columns = ['x1']\n",
    "df['x2'] = x2\n",
    "df['y'] = y"
   ]
  },
  {
   "cell_type": "code",
   "execution_count": 603,
   "metadata": {},
   "outputs": [],
   "source": [
    "## 2.1 데이터 정리 및 정제\n",
    "# 종속변수 독립변수\n",
    "X = df.iloc[:,:-1]\n",
    "y = df.iloc[:,-1]"
   ]
  },
  {
   "cell_type": "code",
   "execution_count": 560,
   "metadata": {},
   "outputs": [
    {
     "data": {
      "text/plain": [
       "LinearRegression(copy_X=True, fit_intercept=True, n_jobs=None, normalize=False)"
      ]
     },
     "execution_count": 560,
     "metadata": {},
     "output_type": "execute_result"
    }
   ],
   "source": [
    "## 3. 모델생성 및 학습\n",
    "lm = LinearRegression()\n",
    "lm.fit(X,y)"
   ]
  },
  {
   "cell_type": "code",
   "execution_count": 583,
   "metadata": {},
   "outputs": [
    {
     "name": "stdout",
     "output_type": "stream",
     "text": [
      "1.3611077857351664e-27\n",
      "1.0\n",
      "[  6. 121.]\n"
     ]
    }
   ],
   "source": [
    "## 4. 모델평가\n",
    "result = lm.predict(X)\n",
    "rmse = mse(y,result) \n",
    "r2 = r2_score(y,result)\n",
    "print(rmse)\n",
    "print(r2)\n",
    "print(lm.coef_)"
   ]
  },
  {
   "cell_type": "code",
   "execution_count": 601,
   "metadata": {},
   "outputs": [],
   "source": [
    "x_1 = X.x1.values.reshape(-1,1)\n",
    "x_2 = X.x2.values.reshape(-1,1)\n",
    "\n",
    "w1 = np.random.uniform(-2,2)\n",
    "w2 = np.random.uniform(-2,2)\n",
    "\n",
    "y = y.values.reshape(-1,1)"
   ]
  },
  {
   "cell_type": "code",
   "execution_count": 588,
   "metadata": {},
   "outputs": [
    {
     "name": "stdout",
     "output_type": "stream",
     "text": [
      "-0.036698762284534725 -0.41913163113227503\n",
      "6.666596454412101 118.91829967248736\n"
     ]
    }
   ],
   "source": [
    "lr = 0.00001\n",
    "w1 = np.random.uniform(-1,1)\n",
    "w2 = np.random.uniform(-1,1)\n",
    "epochs = 300000\n",
    "print(w1,w2)\n",
    "for epoch in np.arange(epochs):\n",
    "    y_hat1 = x_1 * w1\n",
    "    y_hat2 = x_2 * w2\n",
    "    y_hat = y_hat1 + y_hat2\n",
    "    a1 = ((y_hat - y)*x_1).mean()\n",
    "    a2 = ((y_hat - y)*x_2).mean()\n",
    "    w1 = w1 - lr*a1\n",
    "    w2 = w2 - lr*a2\n",
    "print(w1,w2)"
   ]
  },
  {
   "cell_type": "code",
   "execution_count": 463,
   "metadata": {},
   "outputs": [
    {
     "data": {
      "text/plain": [
       "array([181.])"
      ]
     },
     "execution_count": 463,
     "metadata": {},
     "output_type": "execute_result"
    }
   ],
   "source": [
    "## 5. 모델사용\n",
    "lm.predict([[10,1]])"
   ]
  },
  {
   "cell_type": "code",
   "execution_count": 3,
   "metadata": {},
   "outputs": [],
   "source": [
    "## 2. 데이터 준비\n",
    "from sklearn.model_selection import train_test_split\n",
    "X = [[0, 0], [1, 1], [2, 2]]\n",
    "y = [0,1,2]"
   ]
  },
  {
   "cell_type": "code",
   "execution_count": 4,
   "metadata": {},
   "outputs": [
    {
     "name": "stdout",
     "output_type": "stream",
     "text": [
      "[0.5 0.5]\n",
      "2.220446049250313e-16\n"
     ]
    }
   ],
   "source": [
    "## 3. 모델 생성\n",
    "reg = LinearRegression()\n",
    "reg.fit(X,y)\n",
    "print(reg.coef_)\n",
    "print(reg.intercept_)"
   ]
  },
  {
   "cell_type": "code",
   "execution_count": 5,
   "metadata": {},
   "outputs": [
    {
     "name": "stdout",
     "output_type": "stream",
     "text": [
      "3.2869204384208823e-32\n",
      "1.0\n"
     ]
    }
   ],
   "source": [
    "## 4. 모델 성능평가\n",
    "from sklearn.metrics import r2_score\n",
    "from sklearn.metrics import mean_squared_error\n",
    "y_hat = reg.predict(X) ## 예측값\n",
    "\n",
    "rmse = mean_squared_error(y_hat,y)\n",
    "print(rmse)\n",
    "r2 = r2_score(y_hat,y)\n",
    "print(r2)"
   ]
  },
  {
   "cell_type": "code",
   "execution_count": 6,
   "metadata": {},
   "outputs": [
    {
     "data": {
      "text/plain": [
       "array([1.5])"
      ]
     },
     "execution_count": 6,
     "metadata": {},
     "output_type": "execute_result"
    }
   ],
   "source": [
    "## 5. 모델 사용\n",
    "reg.predict([[0,3]])"
   ]
  },
  {
   "cell_type": "code",
   "execution_count": 605,
   "metadata": {},
   "outputs": [
    {
     "data": {
      "text/plain": [
       "0     -19.202071\n",
       "1    -138.306024\n",
       "2       9.089026\n",
       "3     261.880220\n",
       "4     -76.226942\n",
       "         ...    \n",
       "95   -198.589325\n",
       "96     30.930864\n",
       "97    -30.314411\n",
       "98   -137.934959\n",
       "99     48.875508\n",
       "Name: y, Length: 100, dtype: float64"
      ]
     },
     "execution_count": 605,
     "metadata": {},
     "output_type": "execute_result"
    }
   ],
   "source": [
    "y"
   ]
  },
  {
   "cell_type": "code",
   "execution_count": 606,
   "metadata": {},
   "outputs": [
    {
     "data": {
      "text/plain": [
       "array([0.81697616, 0.16894679])"
      ]
     },
     "execution_count": 606,
     "metadata": {},
     "output_type": "execute_result"
    }
   ],
   "source": [
    "w = np.random.random(2)\n",
    "w"
   ]
  },
  {
   "cell_type": "code",
   "execution_count": 608,
   "metadata": {},
   "outputs": [],
   "source": [
    "## 2. 데이터 준비\n",
    "x1 = np.random.randn(100)\n",
    "x2 = np.random.randn(100)\n",
    "y = x1*6 + x2*121\n",
    "df = pd.DataFrame(x1)\n",
    "df.columns = ['x1']\n",
    "df['x2'] = x2\n",
    "df['y'] = y"
   ]
  },
  {
   "cell_type": "code",
   "execution_count": 619,
   "metadata": {},
   "outputs": [],
   "source": [
    "X = df.iloc[:,:-1]\n",
    "y = df.iloc[:,-1]\n",
    "x_1 = X.x1.values.reshape(-1,1)\n",
    "x_2 = X.x2.values.reshape(-1,1)\n",
    "w1 = np.random.uniform(-1,1)\n",
    "w2 = np.random.uniform(-1,1)"
   ]
  },
  {
   "cell_type": "code",
   "execution_count": 643,
   "metadata": {},
   "outputs": [],
   "source": [
    "w = np.random.randn(2,1)\n",
    "X = X.values.reshape(100,2)\n",
    "y = y.values.reshape(100,1)\n",
    "lr = 0.0001\n",
    "epochs = 300000\n",
    "for epoch in np.arange(epochs):\n",
    "    "
   ]
  },
  {
   "cell_type": "code",
   "execution_count": 649,
   "metadata": {},
   "outputs": [
    {
     "name": "stdout",
     "output_type": "stream",
     "text": [
      "(100, 1)\n",
      "(100, 2)\n"
     ]
    }
   ],
   "source": [
    "y_hat = np.dot(X,w)\n",
    "print((y_hat - y).shape)\n",
    "print(X.shape)"
   ]
  },
  {
   "cell_type": "code",
   "execution_count": 656,
   "metadata": {},
   "outputs": [
    {
     "name": "stdout",
     "output_type": "stream",
     "text": [
      "[[ 30.02234667]\n",
      " [-61.59369783]]\n"
     ]
    }
   ],
   "source": [
    "print(np.dot(X.T,y_hat))"
   ]
  },
  {
   "cell_type": "code",
   "execution_count": 629,
   "metadata": {},
   "outputs": [],
   "source": [
    "w = np.array([w1,w2])\n",
    "y_hat_ar = np.dot(X.values,w)"
   ]
  },
  {
   "cell_type": "code",
   "execution_count": 636,
   "metadata": {},
   "outputs": [],
   "source": [
    "y_hat_ar = y_hat_ar.reshape(100,1)"
   ]
  },
  {
   "cell_type": "code",
   "execution_count": 694,
   "metadata": {},
   "outputs": [],
   "source": [
    "## 2. 데이터 준비\n",
    "x1 = np.random.randn(100)\n",
    "x2 = np.random.randn(100)\n",
    "y = x1*6 + x2*121\n",
    "df = pd.DataFrame(x1)\n",
    "df.columns = ['x1']\n",
    "df['x2'] = x2\n",
    "df['y'] = y"
   ]
  },
  {
   "cell_type": "code",
   "execution_count": 695,
   "metadata": {},
   "outputs": [],
   "source": [
    "X = df.iloc[:,:-1]\n",
    "y = df.iloc[:,-1]"
   ]
  },
  {
   "cell_type": "code",
   "execution_count": 696,
   "metadata": {},
   "outputs": [],
   "source": [
    "X = X.values.reshape(100,2)\n",
    "y = y.values.reshape(100,1)"
   ]
  },
  {
   "cell_type": "code",
   "execution_count": 699,
   "metadata": {},
   "outputs": [
    {
     "data": {
      "text/plain": [
       "(100, 1)"
      ]
     },
     "execution_count": 699,
     "metadata": {},
     "output_type": "execute_result"
    }
   ],
   "source": [
    "## dot 연산 X:(100,2) w:(2,1) = y_hat:(100,1) 예측값과 실제값의 shape을 맞춤\n",
    "w = np.random.randn(2)\n",
    "w = w.reshape(2,1)\n",
    "y_hat = np.dot(X,w)\n",
    "## X:(100,2) y_hat:(100,1)\n",
    "## (2,100) (100,1),  (1,100)(100,2)\n",
    "## np.dot(X.T,y_hat) np.dot(y_hat.T,X)"
   ]
  },
  {
   "cell_type": "code",
   "execution_count": null,
   "metadata": {},
   "outputs": [],
   "source": [
    "w = np.random.randn(2)\n",
    "w = w.reshape(2,1)\n",
    "epochs = 300000\n",
    "for epoch in np.arange(epochs):\n",
    "    y_hat = np.dot(X,w)\n",
    "    a = np.dot()"
   ]
  },
  {
   "cell_type": "code",
   "execution_count": 702,
   "metadata": {},
   "outputs": [
    {
     "data": {
      "text/plain": [
       "100"
      ]
     },
     "execution_count": 702,
     "metadata": {},
     "output_type": "execute_result"
    }
   ],
   "source": [
    "y.flatten().size"
   ]
  },
  {
   "cell_type": "code",
   "execution_count": 703,
   "metadata": {},
   "outputs": [],
   "source": [
    "lr = 0.00001\n",
    "w = np.random.randn(2)\n",
    "w = w.reshape(2,1)\n",
    "epochs = 1000000\n",
    "for epoch in np.arange(epochs):\n",
    "    y_hat = np.dot(X,w)\n",
    "    a = np.dot(X.T,(y_hat-y))/y.flatten().size\n",
    "    w = w - lr*a"
   ]
  },
  {
   "cell_type": "code",
   "execution_count": 706,
   "metadata": {},
   "outputs": [],
   "source": [
    "## Diabetes 데이터셋 으로 테스트 \n",
    "## 1. 필요 모듈 임포트\n",
    "import numpy as np\n",
    "import pandas as pd\n",
    "from sklearn.linear_model import LinearRegression\n",
    "from sklearn.metrics import mean_squared_error, r2_score\n",
    "from sklearn.datasets import load_diabetes"
   ]
  },
  {
   "cell_type": "code",
   "execution_count": 739,
   "metadata": {},
   "outputs": [],
   "source": [
    "##1. 필요 모듈 임포트\n",
    "import numpy as np\n",
    "import pandas as pd\n",
    "from sklearn.linear_model import LinearRegression\n",
    "from sklearn.ensemble import RandomForestRegressor\n",
    "from sklearn.metrics import mean_squared_error as mse\n",
    "from sklearn.metrics import r2_score\n",
    "from sklearn.datasets import load_diabetes"
   ]
  },
  {
   "cell_type": "code",
   "execution_count": 741,
   "metadata": {},
   "outputs": [],
   "source": [
    "##2. 데이터 셋 준비\n",
    "data = load_diabetes()\n",
    "diabetes = data['data']\n",
    "diabetes = pd.DataFrame(diabetes)\n",
    "diabetes.columns = data['feature_names']\n",
    "diabetes['target'] = data['target']\n",
    "diabetes\n",
    "diabetes.to_csv('diabetes.csv',index=False)\n",
    "diabetes = pd.read_csv('diabetes.csv')"
   ]
  },
  {
   "cell_type": "code",
   "execution_count": 742,
   "metadata": {},
   "outputs": [],
   "source": [
    "## 데이터 확인 전처리 정리\n",
    "X = diabetes.iloc[:,:-1]\n",
    "y = diabetes.iloc[:,-1]"
   ]
  },
  {
   "cell_type": "code",
   "execution_count": 743,
   "metadata": {},
   "outputs": [
    {
     "name": "stderr",
     "output_type": "stream",
     "text": [
      "C:\\Users\\admin\\Anaconda3\\lib\\site-packages\\sklearn\\ensemble\\forest.py:245: FutureWarning: The default value of n_estimators will change from 10 in version 0.20 to 100 in 0.22.\n",
      "  \"10 in version 0.20 to 100 in 0.22.\", FutureWarning)\n"
     ]
    },
    {
     "data": {
      "text/plain": [
       "RandomForestRegressor(bootstrap=True, criterion='mse', max_depth=None,\n",
       "                      max_features='auto', max_leaf_nodes=None,\n",
       "                      min_impurity_decrease=0.0, min_impurity_split=None,\n",
       "                      min_samples_leaf=1, min_samples_split=2,\n",
       "                      min_weight_fraction_leaf=0.0, n_estimators=10,\n",
       "                      n_jobs=None, oob_score=False, random_state=None,\n",
       "                      verbose=0, warm_start=False)"
      ]
     },
     "execution_count": 743,
     "metadata": {},
     "output_type": "execute_result"
    }
   ],
   "source": [
    "## 3. 모델생성 및 학습\n",
    "rf_model = RandomForestRegressor()\n",
    "rf_model.fit(X,y)"
   ]
  },
  {
   "cell_type": "code",
   "execution_count": 746,
   "metadata": {},
   "outputs": [
    {
     "name": "stdout",
     "output_type": "stream",
     "text": [
      "25.41813004218896\n",
      "0.89104656395974\n"
     ]
    }
   ],
   "source": [
    "y_hat = rf_model.predict(X)\n",
    "rmse = np.sqrt(mse(y,y_hat))\n",
    "r2 = r2_score(y,y_hat)\n",
    "print(rmse)\n",
    "print(r2)"
   ]
  },
  {
   "cell_type": "code",
   "execution_count": 718,
   "metadata": {},
   "outputs": [],
   "source": []
  },
  {
   "cell_type": "code",
   "execution_count": 725,
   "metadata": {},
   "outputs": [
    {
     "data": {
      "text/plain": [
       "(10, 1)"
      ]
     },
     "execution_count": 725,
     "metadata": {},
     "output_type": "execute_result"
    }
   ],
   "source": [
    "shape = (X.shape[1],y.shape[1])\n",
    "shape"
   ]
  },
  {
   "cell_type": "code",
   "execution_count": 726,
   "metadata": {},
   "outputs": [],
   "source": [
    "lr = 0.00001\n",
    "w = np.random.randn(10)\n",
    "w = w.reshape(10,1)\n",
    "epochs = 1000000\n",
    "for epoch in np.arange(epochs):\n",
    "    y_hat = np.dot(X,w)\n",
    "    a = np.dot(X.T,(y_hat-y))/y.flatten().size\n",
    "    w = w - lr*a"
   ]
  },
  {
   "cell_type": "code",
   "execution_count": 745,
   "metadata": {},
   "outputs": [
    {
     "name": "stdout",
     "output_type": "stream",
     "text": [
      "169.43311526007545\n",
      "-3.841169946096488\n"
     ]
    }
   ],
   "source": [
    "result = np.dot(X,w)\n",
    "rmse = np.sqrt(mse(y,result))\n",
    "r2 = r2_score(y,result)\n",
    "print(rmse)\n",
    "print(r2)"
   ]
  },
  {
   "cell_type": "code",
   "execution_count": 711,
   "metadata": {},
   "outputs": [
    {
     "data": {
      "text/plain": [
       "LinearRegression(copy_X=True, fit_intercept=True, n_jobs=None, normalize=False)"
      ]
     },
     "execution_count": 711,
     "metadata": {},
     "output_type": "execute_result"
    }
   ],
   "source": [
    "##3. 모델 생성 및 학습\n",
    "lm = LinearRegression()\n",
    "lm.fit(X,y)"
   ]
  },
  {
   "cell_type": "code",
   "execution_count": 744,
   "metadata": {},
   "outputs": [
    {
     "name": "stdout",
     "output_type": "stream",
     "text": [
      "53.47607314274362\n",
      "0.5177494254132934\n"
     ]
    }
   ],
   "source": [
    "##4. 모델 평가\n",
    "result = lm.predict(X)\n",
    "rmse = np.sqrt(mse(y,result))\n",
    "r2 = r2_score(y,result)\n",
    "print(rmse)\n",
    "print(r2)"
   ]
  },
  {
   "cell_type": "code",
   "execution_count": null,
   "metadata": {},
   "outputs": [],
   "source": []
  },
  {
   "cell_type": "code",
   "execution_count": 98,
   "metadata": {},
   "outputs": [],
   "source": [
    "## 2.1 데이터 준비 및 확인\n",
    "data = load_diabetes()\n",
    "diabetes = data['data']\n",
    "diabetes = pd.DataFrame(diabetes)\n",
    "diabetes.columns = data['feature_names']\n",
    "diabetes['target'] = data['target']\n",
    "diabetes\n",
    "diabetes.to_csv('diabetes.csv',index=False)\n",
    "diabetes = pd.read_csv('diabetes.csv')"
   ]
  },
  {
   "cell_type": "code",
   "execution_count": 99,
   "metadata": {},
   "outputs": [
    {
     "name": "stdout",
     "output_type": "stream",
     "text": [
      "Index(['age', 'sex', 'bmi', 'bp', 's1', 's2', 's3', 's4', 's5', 's6',\n",
      "       'target'],\n",
      "      dtype='object')\n"
     ]
    }
   ],
   "source": [
    "## 2.2 데이터 셋 X(독립변수), y(종속변수) 만들기\n",
    "print(diabetes.columns) # 변수확인\n",
    "X = diabetes.iloc[:,:-1]\n",
    "y = diabetes.iloc[:,-1]"
   ]
  },
  {
   "cell_type": "code",
   "execution_count": 82,
   "metadata": {},
   "outputs": [
    {
     "name": "stdout",
     "output_type": "stream",
     "text": [
      "[ -10.01219782 -239.81908937  519.83978679  324.39042769 -792.18416163\n",
      "  476.74583782  101.04457032  177.06417623  751.27932109   67.62538639]\n",
      "152.1334841628965\n"
     ]
    }
   ],
   "source": [
    "# 3.모델 생성\n",
    "reg = LinearRegression()\n",
    "reg.fit(X,y)\n",
    "print(reg.coef_)\n",
    "print(reg.intercept_)"
   ]
  },
  {
   "cell_type": "code",
   "execution_count": 83,
   "metadata": {},
   "outputs": [
    {
     "name": "stdout",
     "output_type": "stream",
     "text": [
      "53.47607314274362\n",
      "0.5177494254132934\n"
     ]
    }
   ],
   "source": [
    "## 4. 모델 성능평가\n",
    "y_predict = reg.predict(X)\n",
    "rmse = np.sqrt(mean_squared_error(y,y_predict))\n",
    "r2 = r2_score(y,y_predict)\n",
    "print(rmse)\n",
    "print(r2)"
   ]
  },
  {
   "cell_type": "code",
   "execution_count": 84,
   "metadata": {},
   "outputs": [
    {
     "name": "stdout",
     "output_type": "stream",
     "text": [
      "(10,)\n",
      "(1, 10)\n"
     ]
    },
    {
     "data": {
      "text/plain": [
       "array([152.13348416])"
      ]
     },
     "execution_count": 84,
     "metadata": {},
     "output_type": "execute_result"
    }
   ],
   "source": [
    "## 5. 모델 사용\n",
    "# 각 변수의 평균값을 사용하여 예측\n",
    "x = np.mean(X.values,axis=0)\n",
    "print(x.shape)\n",
    "x = x.reshape(1,-1)\n",
    "print(x.shape)\n",
    "reg.predict(x)"
   ]
  },
  {
   "cell_type": "code",
   "execution_count": 101,
   "metadata": {},
   "outputs": [],
   "source": [
    "## Train과 Test Set을 나누어 모델 검증\n",
    "## 1. 모듈 임포트\n",
    "import numpy as np\n",
    "import pandas as pd\n",
    "from sklearn.linear_model import LinearRegression\n",
    "from sklearn.model_selection import train_test_split\n",
    "from sklearn.metrics import mean_squared_error as mse\n",
    "from sklearn.metrics import r2_score"
   ]
  },
  {
   "cell_type": "code",
   "execution_count": 134,
   "metadata": {},
   "outputs": [],
   "source": [
    "## 2. 데이터 준비\n",
    "df = pd.read_csv('diabetes.csv')\n",
    "## 2-1. 독립변수, 종속변수 분리\n",
    "X = df.iloc[:,:-1]\n",
    "y = df.iloc[:,-1]\n",
    "## 2-2 Train Set과 Test Set 분리 (Random 함수 사용)\n",
    "ind = np.random.choice(y.size,y.size,replace=False)\n",
    "train_ind = ind[:np.ceil((ind.size)*0.8).astype('int')]\n",
    "test_ind = ind[np.ceil((ind.size)*0.8).astype('int'):]\n",
    "Train_x = X.loc[train_ind]\n",
    "train_y = y.loc[train_ind]\n",
    "Test_x = X.loc[test_ind]\n",
    "test_y = y.loc[test_ind]\n",
    "# Train Set과 Test Set 분리 (싸이킷런 제공 함수 사용)\n",
    "X_train, X_test , y_train, y_test = train_test_split(X,y,test_size=0.2)"
   ]
  },
  {
   "cell_type": "code",
   "execution_count": 137,
   "metadata": {},
   "outputs": [],
   "source": [
    "## train test split 함수로 만들기\n",
    "def split_data(x,y,ratio=0.8):\n",
    "    ind = np.random.choice(y.size,y.size,replace=False)\n",
    "    train_ind = ind[:np.ceil((ind.size)*ratio).astype('int')]\n",
    "    test_ind = ind[np.ceil((ind.size)*ratio).astype('int'):]\n",
    "    Train_x = x.loc[train_ind]\n",
    "    train_y = y.loc[train_ind]\n",
    "    Test_x = x.loc[test_ind]\n",
    "    test_y = y.loc[test_ind]\n",
    "    return(Train_x,train_y,Test_x,test_y)\n",
    "tr_x, tr_y, te_x, te_y = split_data(X,y)"
   ]
  },
  {
   "cell_type": "code",
   "execution_count": 135,
   "metadata": {},
   "outputs": [
    {
     "data": {
      "text/plain": [
       "LinearRegression()"
      ]
     },
     "execution_count": 135,
     "metadata": {},
     "output_type": "execute_result"
    }
   ],
   "source": [
    "## 3. 모델생성\n",
    "reg1 = LinearRegression()\n",
    "reg2 = LinearRegression()\n",
    "reg1.fit(Train_x,train_y)\n",
    "reg2.fit(X_train,y_train)"
   ]
  },
  {
   "cell_type": "code",
   "execution_count": 136,
   "metadata": {},
   "outputs": [
    {
     "name": "stdout",
     "output_type": "stream",
     "text": [
      "55.82030885052141\n",
      "0.4750709111397625\n",
      "52.85384647435579\n",
      "0.47314646617768874\n"
     ]
    }
   ],
   "source": [
    "## 4. 모델 성능평가\n",
    "y_predict = reg1.predict(Test_x)\n",
    "rmse = np.sqrt(mean_squared_error(test_y,y_predict))\n",
    "r2 = r2_score(test_y,y_predict)\n",
    "print(rmse)\n",
    "print(r2)\n",
    "y_predict = reg2.predict(X_test)\n",
    "rmse = np.sqrt(mean_squared_error(y_test,y_predict))\n",
    "r2 = r2_score(y_test,y_predict)\n",
    "print(rmse)\n",
    "print(r2)"
   ]
  },
  {
   "attachments": {
    "122637d2-563f-45a8-96aa-23cab05a7d40.png": {
     "image/png": "[encoded data removed]"
    },
    "21150394-0367-4cb2-9e47-98f8877339c2.png": {
     "image/png": "[encoded data removed]"
    },
    "855004d4-f7ca-4c3d-afe3-ed1c5cd55a49.png": {
     "image/png": "[encoded data removed]"
    },
    "ab988ba9-9633-4c87-974b-8aba2b99ae66.png": {
     "image/png": "[encoded data removed]"
    }
   },
   "cell_type": "markdown",
   "metadata": {},
   "source": [
    "## Overfitting Underfitting\n",
    "![image.png](attachment:122637d2-563f-45a8-96aa-23cab05a7d40.png)\n",
    "\n",
    "- 첫번째 그림을 보면 직선 방정식을 이용하여 선을 그었다(데이터와 직선의 차이가 큼) 이런 경우를 underfitted 또는 high bias 라고 한다. bias가 큰 모델은 test data를 위한 학습이 덜 된 것이 원인이고, 이는 train data와 test data간의 차이가 너무 커서 train data로만 학습한 모델은 test data를 맞출수가 없는 것이다.세번째 그림을 보면 현재 데이터로는 잘 맞겠지만 다른 데이터를 사용한다면 정확한 예측을 하지 못한다. 이런 경우는 overfitting 또는 high variance 라고 한다. variance가 큰 모델은 train data에 over-fitting된 것이 원인이고, 이는 너무 train data에 fitting된 모델을 만들어서 test data에서 오차가 발생한 것을 의미한다.\n",
    "- 두번째 그림이 가장 좋은 모델이라고 말할 수 있다. 어느정도 데이터에 적합하면서 bias와 variance에 대해서도 적절하기 때문이다.\n",
    "- 모델을 만들 때, bias와 variance를 둘 다 줄여주면 제일 좋겠지만 하나를 포기해야 하는 경우도 발생한다. 이때 bias를 조금 가지더라도 제일 작은 variance를 가지는 모델을 만드는 것을 목적으로 한다. 다시말해 overfitting을 해결함으로써 효과를 보기위해 하는 것이 Ridge와 Lasso 회귀를 하는 목적이다.\n",
    "\n",
    "## overfitting을 해결하는 방법\n",
    "- 1. 특성(Feature)의 갯수를 줄여기\n",
    "    - 주요 특징을 직접 선택하고 나머지는 버린다.\n",
    "    - Model selection algorithm을 사용한다.\n",
    "- 2. 정규화(Regularization)를 수행한다\n",
    "    - 모든 특성을 사용하되, 파라미터(세타)의 값을 줄인다.\n",
    "    ![image.png](attachment:855004d4-f7ca-4c3d-afe3-ed1c5cd55a49.png)\n",
    "    - 현재 데이터에 대한 예측력도 중요하지만 미래에 예측할 데이터도 중요하기 때문에 일반화가 중요하다. 위의 그림에서 (1)Training accuray만 있으면 최소제곱법과 다른게 없는데 (2)Generalization accuaracy가 추가되면서 베타에 제약을 줄 수 있어 정규화가 가능해지게 된다. 이렇게 계수 추정치를 줄여주는 정규화 방법을 shrinkage method라고 한다.\n",
    "\n",
    "## 2. Ridge Regression\n",
    "![image.png](attachment:ab988ba9-9633-4c87-974b-8aba2b99ae66.png)\n",
    "- 릿지 회귀식을 보면 잔자제곱합(RSS : residual sum of squares) + 패널티 항(베타 값)의 합으로 이루어 있음\n",
    "- 릿지회귀의 패널티항은 파라미터의 제곱을 더해준 것이며  이것은 미분이 가능해 Gradient Descent 최적화가 가능하고, 파라미터의 크기가 작은 것보다 큰 것을 더 빠른 속도로 줄여준다. \n",
    "- λ(람다)가 크면 클수록 리지회귀의 계수 추정치는 0에 가까워 진다. \n",
    "- (λ = 0 일 때는 패널티 항은 효과가 없고, 따라서 리지 회귀(ridge regression)은 최소제곱추정치를 생성) 즉, λ(람다)가 패널티를 얼마나 부과하는가를 조절하게 된다.\n",
    "\n",
    "![image.png](attachment:21150394-0367-4cb2-9e47-98f8877339c2.png)\n",
    "- 위의 그림처럼 릿지회귀의 $ β0^2+β1^2 $ 제약조건인 원이 존재 \n",
    "- 기존의 OLS(Ordinary Least Squares)가 아래에 보이는 제약조건까지 와야지 최적값이라고 할 수 있음\n",
    "- 그렇다면 OLS가 제약조건까지 오기 위해서는 RSS(RSS : residual sum of squares) 크기를 키워주게 된다\n",
    "- bias가 약간의 희생은 하지만 variance를 줄이기 위해서 아래의 그림처럼 제약조건까지 오는 가장 작은 RSS를 추청"
   ]
  },
  {
   "cell_type": "code",
   "execution_count": 87,
   "metadata": {},
   "outputs": [],
   "source": [
    "## 1. 모듈 임포트\n",
    "from sklearn.linear_model import Ridge, LinearRegression"
   ]
  },
  {
   "cell_type": "code",
   "execution_count": 89,
   "metadata": {},
   "outputs": [],
   "source": [
    "## 2. 데이터 준비\n",
    "X = [[0,0],[0,0],[1,1]]\n",
    "y = [0,0.1,1]"
   ]
  },
  {
   "cell_type": "code",
   "execution_count": 95,
   "metadata": {},
   "outputs": [
    {
     "name": "stdout",
     "output_type": "stream",
     "text": [
      "[0.475 0.475]\n",
      "[0.32758621 0.32758621]\n"
     ]
    }
   ],
   "source": [
    "## 3. 모델생성\n",
    "##3.1 Linear Regression 모델\n",
    "reg_linear = LinearRegression()\n",
    "reg_linear.fit(X,y)\n",
    "print(reg_linear.coef_)\n",
    "reg_ridge = Ridge(alpha=0.6)\n",
    "reg_ridge.fit(X,y)\n",
    "print(reg_ridge.coef_)"
   ]
  },
  {
   "cell_type": "code",
   "execution_count": 96,
   "metadata": {},
   "outputs": [
    {
     "data": {
      "text/plain": [
       "array([0.14827586, 0.14827586, 0.80344828])"
      ]
     },
     "execution_count": 96,
     "metadata": {},
     "output_type": "execute_result"
    }
   ],
   "source": [
    "reg_ridge.predict(X)"
   ]
  },
  {
   "cell_type": "code",
   "execution_count": 97,
   "metadata": {},
   "outputs": [
    {
     "data": {
      "text/plain": [
       "array([0.05, 0.05, 1.  ])"
      ]
     },
     "execution_count": 97,
     "metadata": {},
     "output_type": "execute_result"
    }
   ],
   "source": [
    "reg_linear.predict(X)"
   ]
  },
  {
   "cell_type": "code",
   "execution_count": 141,
   "metadata": {},
   "outputs": [],
   "source": [
    "## 1. 모듈 임포트\n",
    "import numpy as np\n",
    "import pandas as pd\n",
    "from sklearn.linear_model import LinearRegression, Ridge\n",
    "from sklearn.model_selection import train_test_split\n",
    "from sklearn.metrics import mean_squared_error, r2_score"
   ]
  },
  {
   "cell_type": "code",
   "execution_count": 142,
   "metadata": {},
   "outputs": [
    {
     "name": "stdout",
     "output_type": "stream",
     "text": [
      "<class 'pandas.core.frame.DataFrame'>\n",
      "RangeIndex: 442 entries, 0 to 441\n",
      "Data columns (total 11 columns):\n",
      " #   Column  Non-Null Count  Dtype  \n",
      "---  ------  --------------  -----  \n",
      " 0   age     442 non-null    float64\n",
      " 1   sex     442 non-null    float64\n",
      " 2   bmi     442 non-null    float64\n",
      " 3   bp      442 non-null    float64\n",
      " 4   s1      442 non-null    float64\n",
      " 5   s2      442 non-null    float64\n",
      " 6   s3      442 non-null    float64\n",
      " 7   s4      442 non-null    float64\n",
      " 8   s5      442 non-null    float64\n",
      " 9   s6      442 non-null    float64\n",
      " 10  target  442 non-null    float64\n",
      "dtypes: float64(11)\n",
      "memory usage: 38.1 KB\n"
     ]
    }
   ],
   "source": [
    "## 2. 데이터 준비\n",
    "df = pd.read_csv('diabetes.csv')\n",
    "# 데이터 확인\n",
    "df.info()"
   ]
  },
  {
   "cell_type": "code",
   "execution_count": 147,
   "metadata": {},
   "outputs": [],
   "source": [
    "# X,y 나누기\n",
    "X = df.iloc[:,:-1]\n",
    "y = df.iloc[:,-1]\n",
    "## train set, test set 나누기\n",
    "X_train, X_test, y_train, y_test = train_test_split(X,y,test_size=0.2)"
   ]
  },
  {
   "cell_type": "code",
   "execution_count": 148,
   "metadata": {},
   "outputs": [
    {
     "data": {
      "text/plain": [
       "LinearRegression()"
      ]
     },
     "execution_count": 148,
     "metadata": {},
     "output_type": "execute_result"
    }
   ],
   "source": [
    "## 3. 모델 생성(Linear_Regression)\n",
    "Linear_model = LinearRegression()\n",
    "Linear_model.fit(X_train,y_train)"
   ]
  },
  {
   "cell_type": "code",
   "execution_count": 160,
   "metadata": {},
   "outputs": [
    {
     "name": "stdout",
     "output_type": "stream",
     "text": [
      "56.5074548702286\n",
      "0.5000392705712455\n",
      "[   1.86096432 -268.16454408  482.16654468  352.65118494 -751.34744126\n",
      "  488.04581873   25.31687509   59.63505863  798.9269561    50.43256286]\n"
     ]
    }
   ],
   "source": [
    "## 4. 모델 검증\n",
    "y_predict = Linear_model.predict(X_test)\n",
    "rmse = np.sqrt(mean_squared_error(y_test,y_predict))\n",
    "r2 = r2_score(y_test,y_predict)\n",
    "print(rmse)\n",
    "print(r2)\n",
    "print(Linear_model.coef_)\n",
    "linear_coef = Linear_model.coef_"
   ]
  },
  {
   "cell_type": "code",
   "execution_count": 161,
   "metadata": {},
   "outputs": [
    {
     "data": {
      "text/plain": [
       "Ridge(alpha=0.5)"
      ]
     },
     "execution_count": 161,
     "metadata": {},
     "output_type": "execute_result"
    }
   ],
   "source": [
    "## 3. 모델 생성(Ridge_Regression)\n",
    "Ridge_model = Ridge(alpha=0.5)\n",
    "Ridge_model.fit(X_train,y_train)"
   ]
  },
  {
   "cell_type": "code",
   "execution_count": 162,
   "metadata": {},
   "outputs": [
    {
     "name": "stdout",
     "output_type": "stream",
     "text": [
      "57.82955070378487\n",
      "0.4763705844704038\n",
      "[  35.77637619 -119.6004764   350.5666376   244.84633383   -5.15314029\n",
      "  -54.45361409 -160.14806675  106.31864384  316.64595701   99.87310552]\n"
     ]
    }
   ],
   "source": [
    "y_predict = Ridge_model.predict(X_test)\n",
    "rmse = np.sqrt(mean_squared_error(y_test,y_predict))\n",
    "r2 = r2_score(y_test,y_predict)\n",
    "print(rmse)\n",
    "print(r2)\n",
    "print(Ridge_model.coef_)\n",
    "ridge_coef = Ridge_model.coef_"
   ]
  },
  {
   "cell_type": "code",
   "execution_count": 165,
   "metadata": {},
   "outputs": [
    {
     "data": {
      "text/plain": [
       "415.073229547474"
      ]
     },
     "execution_count": 165,
     "metadata": {},
     "output_type": "execute_result"
    }
   ],
   "source": [
    "ridge_coef.std()\n",
    "linear_coef.std()"
   ]
  },
  {
   "attachments": {
    "25d8763d-183f-4739-ba79-a16e824d7e76.png": {
     "image/png": "[encoded data removed]"
    }
   },
   "cell_type": "markdown",
   "metadata": {},
   "source": [
    "## 3. Lasso Regression\n",
    "- 라쏘회귀는 릿지회귀와 비슷하게 생겼지만 패널티 항에 절대값의 합을 사용\n",
    "- 라쏘는 제약조건이 절대값이라 아래의 그림처럼 마름모꼴의 형태로 나타남\n",
    "- 릿지회귀와 비슷하게 OLS의 RSS 값을 크게 늘려준다. \n",
    "- 라쏘회귀의 경우 최적값은 모서리 부분에서 나타날 확률이 릿지에 비해 높아 몇몇 유의미하지 않은 변수들에 대해 계수를 0에 가깝게 추정해 주어 변수 선택 효과를 가져오게 된다.\n",
    "- 라쏘회귀는 파라미터의 크기에 관계없이 같은 수준의 Regularization을 적용하기 때문에 작은 값의 파라미터를 0으로 만들어 해당 변수를 모델에서 삭제하고 따라서 모델을 단순하게 만들어주고 해석에 용이하게 만들어 준다.\n",
    "\n",
    "![image.png](attachment:25d8763d-183f-4739-ba79-a16e824d7e76.png)"
   ]
  },
  {
   "cell_type": "code",
   "execution_count": 166,
   "metadata": {},
   "outputs": [],
   "source": [
    "## 1. 모듈 임포트\n",
    "import numpy as np\n",
    "import pandas as pd\n",
    "from sklearn.linear_model import LinearRegression, Ridge, Lasso\n",
    "from sklearn.model_selection import train_test_split\n",
    "from sklearn.metrics import mean_squared_error, r2_score"
   ]
  },
  {
   "cell_type": "code",
   "execution_count": 167,
   "metadata": {},
   "outputs": [],
   "source": [
    "## 2. 데이터 준비\n",
    "df = pd.read_csv('diabetes.csv')\n",
    "X = df.iloc[:,:-1]\n",
    "y = df.iloc[:,-1]\n",
    "X_train, X_test, y_train, y_test = train_test_split(X,y,test_size=0.2)"
   ]
  },
  {
   "cell_type": "code",
   "execution_count": 168,
   "metadata": {},
   "outputs": [
    {
     "data": {
      "text/plain": [
       "Lasso(alpha=0.3)"
      ]
     },
     "execution_count": 168,
     "metadata": {},
     "output_type": "execute_result"
    }
   ],
   "source": [
    "## 3. 모델 생성\n",
    "Lasso_model = Lasso(alpha=0.3)\n",
    "Lasso_model.fit(X_train,y_train)"
   ]
  },
  {
   "cell_type": "code",
   "execution_count": 174,
   "metadata": {},
   "outputs": [
    {
     "name": "stdout",
     "output_type": "stream",
     "text": [
      "57.34750387396977\n",
      "0.5105094991542006\n"
     ]
    },
    {
     "data": {
      "text/plain": [
       "array([  -0.        ,   -9.98024873,  415.05914707,  195.72595558,\n",
       "         -0.        ,   -0.        , -162.12909006,    0.        ,\n",
       "        453.11150217,    0.        ])"
      ]
     },
     "execution_count": 174,
     "metadata": {},
     "output_type": "execute_result"
    }
   ],
   "source": [
    "## 4. 모델 검증\n",
    "y_predict = Lasso_model.predict(X_test)\n",
    "rmse = np.sqrt(mean_squared_error(y_predict,y_test))\n",
    "r2 = r2_score(y_test,y_predict)\n",
    "print(rmse)\n",
    "print(r2)\n",
    "lasso_coef = Lasso_model.coef_\n",
    "lasso_coef"
   ]
  },
  {
   "cell_type": "markdown",
   "metadata": {},
   "source": [
    "## 4. Elastic Net Regression\n",
    "- L1, L2 norm을 둘 다 사용하여 구성\n",
    "- Elastic Net Regression은 큰 데이터 셋에서 잘 작동\n",
    "- $Elastic Net Regression = RSS + \\lambda 2 \\sum \\beta^2 + \\lambda 1 \\sum \\left| \\beta \\right|  $\n",
    "- Elastic Net은 L1과 L2 norm에 대한 가중치 $\\lambda 1$ 과 $\\lambda 2$를 조절하여 사용한다.\n",
    "\n"
   ]
  },
  {
   "cell_type": "code",
   "execution_count": 196,
   "metadata": {},
   "outputs": [],
   "source": [
    "## 1. 모듈 임포트\n",
    "import numpy as np\n",
    "import pandas as pd\n",
    "from sklearn.linear_model import LinearRegression, Ridge, Lasso, ElasticNet, ElasticNetCV, LassoCV\n",
    "from sklearn.model_selection import train_test_split\n",
    "from sklearn.metrics import mean_squared_error, r2_score"
   ]
  },
  {
   "cell_type": "code",
   "execution_count": 190,
   "metadata": {},
   "outputs": [],
   "source": [
    "## 2. 데이터 준비\n",
    "df = pd.read_csv('diabetes.csv')\n",
    "X = df.iloc[:,:-1]\n",
    "y = df.iloc[:,-1]\n",
    "X_train, X_test, y_train, y_test = train_test_split(X,y,test_size=0.2)"
   ]
  },
  {
   "cell_type": "code",
   "execution_count": 197,
   "metadata": {},
   "outputs": [
    {
     "data": {
      "text/plain": [
       "ElasticNet(alpha=0.3)"
      ]
     },
     "execution_count": 197,
     "metadata": {},
     "output_type": "execute_result"
    }
   ],
   "source": [
    "## 3. 모델 생성\n",
    "Elastic_model = ElasticNet(alpha=0.3)\n",
    "Elastic_model.fit(X_train,y_train)"
   ]
  },
  {
   "cell_type": "code",
   "execution_count": 201,
   "metadata": {},
   "outputs": [
    {
     "name": "stdout",
     "output_type": "stream",
     "text": [
      "75.83399710682907\n",
      "0.03741886263716698\n"
     ]
    }
   ],
   "source": [
    "## 4. 모델 검증\n",
    "y_predict = Elastic_model.predict(X_test)\n",
    "rmse = np.sqrt(mean_squared_error(y_predict,y_test))\n",
    "r2 = r2_score(y_test,y_predict)\n",
    "print(rmse)\n",
    "print(r2)"
   ]
  },
  {
   "attachments": {
    "1be906ff-afa7-46a7-8739-ddbd844a789e.png": {
     "image/png": "[encoded data removed]"
    },
    "bf030f2d-a50f-4135-ba86-08b9c7945b88.png": {
     "image/png": "[encoded data removed]"
    }
   },
   "cell_type": "markdown",
   "metadata": {},
   "source": [
    "## 5. Polinomial Regression\n",
    "- Predictor와 response 사이의 관계가 비선형적인 경우 선형 회귀를 연장시키기 위해서는 Polinomial function으로 대체 하는 것이다.\n",
    "\n",
    "![image.png](attachment:1be906ff-afa7-46a7-8739-ddbd844a789e.png)\n",
    "\n",
    "![image.png](attachment:bf030f2d-a50f-4135-ba86-08b9c7945b88.png)\n",
    "\n",
    "- 이러한 방법을 polynomial regression이라 하고  polynomial regression 또한 여전히 linear regression 이다\n"
   ]
  },
  {
   "cell_type": "code",
   "execution_count": 204,
   "metadata": {},
   "outputs": [],
   "source": [
    "## 1. 모듈 임포트\n",
    "import numpy as np\n",
    "import pandas as pd\n",
    "from sklearn.linear_model import LinearRegression\n",
    "from sklearn.model_selection import train_test_split\n",
    "from sklearn.metrics import mean_squared_error, r2_score"
   ]
  },
  {
   "cell_type": "code",
   "execution_count": 227,
   "metadata": {},
   "outputs": [],
   "source": [
    "## 2. 데이터 준비\n",
    "X = np.arange(100)\n",
    "y = X*X + np.random.randn(1)\n",
    "X = X.reshape(-1,1)\n",
    "y = y.reshape(-1,1)"
   ]
  },
  {
   "cell_type": "code",
   "execution_count": 228,
   "metadata": {},
   "outputs": [
    {
     "data": {
      "text/plain": [
       "LinearRegression()"
      ]
     },
     "execution_count": 228,
     "metadata": {},
     "output_type": "execute_result"
    }
   ],
   "source": [
    "## 3. 모델 생성\n",
    "reg = LinearRegression()\n",
    "reg.fit(X,y)"
   ]
  },
  {
   "cell_type": "code",
   "execution_count": 230,
   "metadata": {},
   "outputs": [
    {
     "name": "stdout",
     "output_type": "stream",
     "text": [
      "745.1696451144531\n",
      "0.9363356707491832\n"
     ]
    }
   ],
   "source": [
    "## 4. 모델 검증\n",
    "y_predict = reg.predict(X)\n",
    "rmse = np.sqrt(mean_squared_error(y,y_predict))\n",
    "r2 = r2_score(y,y_predict)\n",
    "print(rmse)\n",
    "print(r2)"
   ]
  },
  {
   "cell_type": "code",
   "execution_count": 231,
   "metadata": {},
   "outputs": [],
   "source": [
    "## 1. 모듈 임포트\n",
    "import numpy as np\n",
    "import pandas as pd\n",
    "from sklearn.linear_model import LinearRegression\n",
    "from sklearn.model_selection import train_test_split\n",
    "from sklearn.metrics import mean_squared_error, r2_score"
   ]
  },
  {
   "cell_type": "code",
   "execution_count": 237,
   "metadata": {},
   "outputs": [],
   "source": [
    "## 2. 데이터 준비\n",
    "X = np.arange(100)\n",
    "y = X*X + np.random.randn(1)\n",
    "X = X.reshape(-1,1)\n",
    "y = y.reshape(-1,1)\n",
    "# Polinomial로 변환(Python 프로그램을 활용)\n",
    "x1 = X\n",
    "x2 = X**2\n",
    "X = np.concatenate([x1,x2],axis=1)"
   ]
  },
  {
   "cell_type": "code",
   "execution_count": 238,
   "metadata": {},
   "outputs": [
    {
     "data": {
      "text/plain": [
       "LinearRegression()"
      ]
     },
     "execution_count": 238,
     "metadata": {},
     "output_type": "execute_result"
    }
   ],
   "source": [
    "## 3. 모델 생성\n",
    "Poly_model = LinearRegression()\n",
    "Poly_model.fit(X,y)"
   ]
  },
  {
   "cell_type": "code",
   "execution_count": 239,
   "metadata": {},
   "outputs": [
    {
     "name": "stdout",
     "output_type": "stream",
     "text": [
      "1.3822486873262066e-12\n",
      "1.0\n"
     ]
    }
   ],
   "source": [
    "## 4. 모델 검증\n",
    "y_predict = Poly_model.predict(X)\n",
    "rmse = np.sqrt(mean_squared_error(y,y_predict))\n",
    "r2 = r2_score(y,y_predict)\n",
    "print(rmse)\n",
    "print(r2)"
   ]
  },
  {
   "cell_type": "code",
   "execution_count": 240,
   "metadata": {},
   "outputs": [],
   "source": [
    "## 1. 모듈 임포트\n",
    "import numpy as np\n",
    "import pandas as pd\n",
    "from sklearn.linear_model import LinearRegression\n",
    "from sklearn.model_selection import train_test_split\n",
    "from sklearn.preprocessing import PolynomialFeatures\n",
    "from sklearn.metrics import mean_squared_error, r2_score"
   ]
  },
  {
   "cell_type": "code",
   "execution_count": 243,
   "metadata": {},
   "outputs": [],
   "source": [
    "## 2. 데이터 준비\n",
    "X = np.arange(100)\n",
    "y = X*X + np.random.randn(1)\n",
    "X = X.reshape(-1,1)\n",
    "y = y.reshape(-1,1)\n",
    "# Polinomial로 변환(Sklearn PolynomialFeatures함수를 활용)\n",
    "poly = PolynomialFeatures(degree=2)\n",
    "X = poly.fit_transform(X)"
   ]
  },
  {
   "cell_type": "code",
   "execution_count": 244,
   "metadata": {},
   "outputs": [
    {
     "data": {
      "text/plain": [
       "LinearRegression()"
      ]
     },
     "execution_count": 244,
     "metadata": {},
     "output_type": "execute_result"
    }
   ],
   "source": [
    "## 3. 모델 생성\n",
    "Poly_model = LinearRegression()\n",
    "Poly_model.fit(X,y)"
   ]
  },
  {
   "cell_type": "code",
   "execution_count": 245,
   "metadata": {},
   "outputs": [
    {
     "name": "stdout",
     "output_type": "stream",
     "text": [
      "1.8000374603657e-12\n",
      "1.0\n"
     ]
    }
   ],
   "source": [
    "## 4. 모델 검증\n",
    "y_predict = Poly_model.predict(X)\n",
    "rmse = np.sqrt(mean_squared_error(y,y_predict))\n",
    "r2 = r2_score(y,y_predict)\n",
    "print(rmse)\n",
    "print(r2)"
   ]
  },
  {
   "cell_type": "code",
   "execution_count": null,
   "metadata": {},
   "outputs": [],
   "source": [
    "## 1. 모듈 임포트\n",
    "import numpy as np\n",
    "import pandas as pd\n",
    "from sklearn.linear_model import LinearRegression\n",
    "from sklearn.model_selection import train_test_split\n",
    "from sklearn.preprocessing import PolynomialFeatures\n",
    "from sklearn.metrics import mean_squared_error, r2_score"
   ]
  },
  {
   "cell_type": "code",
   "execution_count": 262,
   "metadata": {},
   "outputs": [],
   "source": [
    "## 2. 데이터 준비\n",
    "df = pd.read_csv('diabetes.csv')\n",
    "X = df.iloc[:,:-1]\n",
    "poly = PolynomialFeatures(degree=1)\n",
    "X = poly.fit_transform(X)\n",
    "y = df.iloc[:,-1]\n",
    "X_train, X_test, y_train, y_test = train_test_split(X,y,test_size=0.2)"
   ]
  },
  {
   "cell_type": "code",
   "execution_count": 263,
   "metadata": {},
   "outputs": [
    {
     "data": {
      "text/plain": [
       "LinearRegression()"
      ]
     },
     "execution_count": 263,
     "metadata": {},
     "output_type": "execute_result"
    }
   ],
   "source": [
    "## 3. 모델 생성\n",
    "Poly_model = LinearRegression()\n",
    "Poly_model.fit(X_train,y_train)"
   ]
  },
  {
   "cell_type": "code",
   "execution_count": 264,
   "metadata": {},
   "outputs": [
    {
     "name": "stdout",
     "output_type": "stream",
     "text": [
      "53.68032240311425\n",
      "0.5140585250139235\n"
     ]
    }
   ],
   "source": [
    "## 4. 모델 검증\n",
    "y_predict = Poly_model.predict(X)\n",
    "rmse = np.sqrt(mean_squared_error(y,y_predict))\n",
    "r2 = r2_score(y,y_predict)\n",
    "print(rmse)\n",
    "print(r2)"
   ]
  },
  {
   "cell_type": "markdown",
   "metadata": {},
   "source": [
    "## PipeLine 활용\n",
    "- PipeLine 사용목적\n",
    "    - 대부분의 기계 학습 데이터는 최종 모델을 만드는데 있어서 이상적인 형식이 아니기 때문에 범주형 변수를 조작하거나 스케일링 및 정규화와 같은 많은 데이터 변환이 수행되어야 한다.\n",
    "    - Scikit-Learn은 전처리 기능에 일반적으로 사용되는 대부분의 기능을 내장하고 있다. \n",
    "    - 일반적인 기계 학습 워크플로우에서는 이러한 모든 변환을 두 번 이상 적용해야 한다.\n",
    "    - 모델을 교육할 때 한 번 그리고 예측하고자 하는 모든 새로운 데이터에 대해 다시 한 번하기 때문이다. \n",
    "    - 재사용하는 기능을 쓸 수 있지만 먼저 실행하고 나서 모델을 따로 불러야 할 것이다. \n",
    "    - Scikit-Learn pipeline은 이 과정을 단순화하는 도구로써 다음과 같은 몇 가지 주요 이점이 있다.\n",
    "- PipeLine 이점\n",
    "    - train과 test 데이터 손실을 피할 수 있다.\n",
    "    - 교차 검증 및 기타 모델 선택 유형을 쉽게 만든다.\n",
    "    - 재현성 증가"
   ]
  },
  {
   "cell_type": "code",
   "execution_count": 275,
   "metadata": {},
   "outputs": [],
   "source": [
    "## 1. 모듈 임포트\n",
    "import numpy as np\n",
    "import pandas as pd\n",
    "from sklearn.linear_model import LinearRegression\n",
    "from sklearn.model_selection import train_test_split\n",
    "from sklearn.preprocessing import PolynomialFeatures\n",
    "from sklearn.pipeline import Pipeline\n",
    "from sklearn.metrics import mean_squared_error, r2_score"
   ]
  },
  {
   "cell_type": "code",
   "execution_count": 277,
   "metadata": {},
   "outputs": [],
   "source": [
    "## PipeLine 설정\n",
    "model = Pipeline([('poly',PolynomialFeatures(degree=2)),\n",
    "                ('linear',LinearRegression())])"
   ]
  },
  {
   "cell_type": "code",
   "execution_count": 271,
   "metadata": {},
   "outputs": [],
   "source": [
    "## 2. 데이터 준비\n",
    "X = np.arange(100)\n",
    "y = X*X + np.random.randn(1)\n",
    "X = X.reshape(-1,1)\n",
    "y = y.reshape(-1,1)"
   ]
  },
  {
   "cell_type": "code",
   "execution_count": 274,
   "metadata": {},
   "outputs": [
    {
     "data": {
      "text/plain": [
       "array([[0.00000000e+00, 1.24031068e-14, 1.00000000e+00]])"
      ]
     },
     "execution_count": 274,
     "metadata": {},
     "output_type": "execute_result"
    }
   ],
   "source": [
    "## 3. 모델 생성\n",
    "model = model.fit(X,y)\n",
    "model.named_steps['linear'].coef_"
   ]
  },
  {
   "cell_type": "code",
   "execution_count": null,
   "metadata": {},
   "outputs": [],
   "source": []
  }
 ],
 "metadata": {
  "kernelspec": {
   "display_name": "Python 3",
   "language": "python",
   "name": "python3"
  },
  "language_info": {
   "codemirror_mode": {
    "name": "ipython",
    "version": 3
   },
   "file_extension": ".py",
   "mimetype": "text/x-python",
   "name": "python",
   "nbconvert_exporter": "python",
   "pygments_lexer": "ipython3",
   "version": "3.7.4"
  }
 },
 "nbformat": 4,
 "nbformat_minor": 5
}
