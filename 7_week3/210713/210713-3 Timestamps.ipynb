{
 "cells": [
  {
   "cell_type": "code",
   "execution_count": 1,
   "id": "8ab1c7e2-553c-4bcc-8f26-51a6896ca65f",
   "metadata": {},
   "outputs": [],
   "source": [
    "from pyspark.sql import SparkSession\n",
    "import warnings\n",
    "warnings.filterwarnings('ignore')"
   ]
  },
  {
   "cell_type": "code",
   "execution_count": 2,
   "id": "34ee3563-0271-4a6a-a3d6-efed9388fd1a",
   "metadata": {},
   "outputs": [
    {
     "name": "stderr",
     "output_type": "stream",
     "text": [
      "21/07/13 08:18:36 WARN Utils: Service 'SparkUI' could not bind on port 4040. Attempting port 4041.\n",
      "21/07/13 08:18:36 WARN Utils: Service 'SparkUI' could not bind on port 4041. Attempting port 4042.\n"
     ]
    }
   ],
   "source": [
    "spark = SparkSession.builder.master('local').appName('Timestamps').getOrCreate()"
   ]
  },
  {
   "cell_type": "code",
   "execution_count": 3,
   "id": "7daed495-b625-4ccd-803b-0f92c6dd4f4d",
   "metadata": {},
   "outputs": [
    {
     "name": "stderr",
     "output_type": "stream",
     "text": [
      "                                                                                \r"
     ]
    }
   ],
   "source": [
    "df = spark.read.csv(\"appl_stock.csv\", inferSchema=True, header=True)"
   ]
  },
  {
   "cell_type": "code",
   "execution_count": 7,
   "id": "38d8f11b-cfd4-4eaa-ba1c-367b30a6e57d",
   "metadata": {},
   "outputs": [],
   "source": [
    "from pyspark.sql.functions import format_number, dayofmonth, hour, dayofyear, month, year, weekofyear, date_format"
   ]
  },
  {
   "cell_type": "code",
   "execution_count": null,
   "id": "a2538639-eda5-4393-bc7b-b577f9539588",
   "metadata": {},
   "outputs": [],
   "source": [
    "df.show(5)"
   ]
  },
  {
   "cell_type": "code",
   "execution_count": null,
   "id": "c014478b-84dc-4573-a5bc-c80805461ceb",
   "metadata": {},
   "outputs": [],
   "source": [
    "df.printSchema()"
   ]
  },
  {
   "cell_type": "code",
   "execution_count": null,
   "id": "7d371aca-8ad9-4c32-b649-b7a0d8aa0f30",
   "metadata": {},
   "outputs": [],
   "source": [
    "df.select(dayofmonth(df[\"Date\"])).show()"
   ]
  },
  {
   "cell_type": "code",
   "execution_count": null,
   "id": "c2d5fc33-2197-4d55-b353-14f9bf62bd3d",
   "metadata": {},
   "outputs": [],
   "source": [
    "df.select(hour(df[\"Date\"])).show()"
   ]
  },
  {
   "cell_type": "code",
   "execution_count": null,
   "id": "4372aba8-6f77-4f9e-bbe4-2b4514e8059f",
   "metadata": {},
   "outputs": [],
   "source": [
    "df.select(year(df[\"Date\"])).show()"
   ]
  },
  {
   "cell_type": "code",
   "execution_count": 13,
   "id": "a7f5c22f-a6b7-4c58-a22b-88eaf760f963",
   "metadata": {},
   "outputs": [
    {
     "name": "stderr",
     "output_type": "stream",
     "text": [
      "[Stage 15:======================================>                 (51 + 1) / 75]\r"
     ]
    },
    {
     "name": "stdout",
     "output_type": "stream",
     "text": [
      "+---------+------------------+\n",
      "|avg(Year)|        avg(Close)|\n",
      "+---------+------------------+\n",
      "|   2015.0|120.03999980555547|\n",
      "|   2013.0| 472.6348802857143|\n",
      "|   2014.0| 295.4023416507935|\n",
      "|   2012.0| 576.0497195640002|\n",
      "|   2016.0|104.60400786904763|\n",
      "|   2010.0| 259.8424600000002|\n",
      "|   2011.0|364.00432532142867|\n",
      "+---------+------------------+\n",
      "\n"
     ]
    },
    {
     "name": "stderr",
     "output_type": "stream",
     "text": [
      "                                                                                \r"
     ]
    }
   ],
   "source": [
    "newdf = df.withColumn(\"Year\", year(df[\"Date\"]))\n",
    "newdf.groupBy(\"Year\").mean()[[\"avg(Year)\", \"avg(Close)\"]].show()"
   ]
  },
  {
   "cell_type": "code",
   "execution_count": 14,
   "id": "c031df4d-6aee-489d-89ec-03dbd147fb79",
   "metadata": {},
   "outputs": [],
   "source": [
    "result = newdf.groupBy(\"Year\").mean()[[\"avg(Year)\", \"avg(Close)\"]]"
   ]
  },
  {
   "cell_type": "code",
   "execution_count": 15,
   "id": "95d0c96c-0adf-41e0-9bd9-7c0c0b0824fd",
   "metadata": {},
   "outputs": [],
   "source": [
    "result = result.withColumnRenamed(\"avg(Year)\", \"Year\")"
   ]
  },
  {
   "cell_type": "code",
   "execution_count": 18,
   "id": "f5cae76c-f752-400b-8d8d-e4d7bb7ed923",
   "metadata": {},
   "outputs": [
    {
     "name": "stdout",
     "output_type": "stream",
     "text": [
      "+------+----------+\n",
      "|  Year|Mean Close|\n",
      "+------+----------+\n",
      "|2015.0|    120.04|\n",
      "|2013.0|    472.63|\n",
      "|2014.0|    295.40|\n",
      "|2012.0|    576.05|\n",
      "|2016.0|    104.60|\n",
      "|2010.0|    259.84|\n",
      "|2011.0|    364.00|\n",
      "+------+----------+\n",
      "\n"
     ]
    }
   ],
   "source": [
    "result = result.select(\"Year\", format_number(\"avg(Close)\", 2).alias(\"Mean Close\")).show()"
   ]
  },
  {
   "cell_type": "code",
   "execution_count": null,
   "id": "9a10491d-fd27-4978-bfa6-bbfdcfd4325c",
   "metadata": {},
   "outputs": [],
   "source": []
  }
 ],
 "metadata": {
  "kernelspec": {
   "display_name": "Python 3 (ipykernel)",
   "language": "python",
   "name": "python3"
  },
  "language_info": {
   "codemirror_mode": {
    "name": "ipython",
    "version": 3
   },
   "file_extension": ".py",
   "mimetype": "text/x-python",
   "name": "python",
   "nbconvert_exporter": "python",
   "pygments_lexer": "ipython3",
   "version": "3.9.5"
  }
 },
 "nbformat": 4,
 "nbformat_minor": 5
}
