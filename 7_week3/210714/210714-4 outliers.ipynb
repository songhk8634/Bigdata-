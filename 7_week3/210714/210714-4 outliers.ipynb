{
 "cells": [
  {
   "cell_type": "code",
   "execution_count": 1,
   "id": "7b35b25b-f969-4428-8c3a-0db75c2b33a9",
   "metadata": {},
   "outputs": [],
   "source": [
    "from pyspark.sql import SparkSession\n",
    "import warnings\n",
    "warnings.filterwarnings('ignore')"
   ]
  },
  {
   "cell_type": "code",
   "execution_count": 2,
   "id": "7c96a304-ee3e-4a8d-93cb-958703bcaf3a",
   "metadata": {
    "collapsed": true,
    "jupyter": {
     "outputs_hidden": true
    },
    "tags": []
   },
   "outputs": [
    {
     "name": "stderr",
     "output_type": "stream",
     "text": [
      "WARNING: An illegal reflective access operation has occurred\n",
      "WARNING: Illegal reflective access by org.apache.spark.unsafe.Platform (file:/usr/local/spark-3.1.2-bin-hadoop3.2/jars/spark-unsafe_2.12-3.1.2.jar) to constructor java.nio.DirectByteBuffer(long,int)\n",
      "WARNING: Please consider reporting this to the maintainers of org.apache.spark.unsafe.Platform\n",
      "WARNING: Use --illegal-access=warn to enable warnings of further illegal reflective access operations\n",
      "WARNING: All illegal access operations will be denied in a future release\n",
      "21/07/14 04:14:42 WARN NativeCodeLoader: Unable to load native-hadoop library for your platform... using builtin-java classes where applicable\n",
      "Using Spark's default log4j profile: org/apache/spark/log4j-defaults.properties\n",
      "Setting default log level to \"WARN\".\n",
      "To adjust logging level use sc.setLogLevel(newLevel). For SparkR, use setLogLevel(newLevel).\n",
      "21/07/14 04:14:43 WARN Utils: Service 'SparkUI' could not bind on port 4040. Attempting port 4041.\n",
      "21/07/14 04:14:43 WARN Utils: Service 'SparkUI' could not bind on port 4041. Attempting port 4042.\n"
     ]
    }
   ],
   "source": [
    "spark = SparkSession.builder.master('local').appName('duplicate').getOrCreate()"
   ]
  },
  {
   "cell_type": "code",
   "execution_count": 35,
   "id": "0a1833b6-afa7-4b75-a331-8f081da9b255",
   "metadata": {},
   "outputs": [],
   "source": [
    "dataF = spark.createDataFrame([('1', 2400, 32, '9', 3, 'PHILIPS', '1XZFG')\n",
    "                                  , ('2', 2400, 23, '13', 3, 'Apple', '2XZFG')\n",
    "                                  , ('3', 2400, 22, '2.5', 5, 'LG', '3XZFG')\n",
    "                                  , ('4', 1, 23, '16.5', 3, None, '4XZFG')\n",
    "                                  , ('8', 3500, 33, '23', 5, 'LG', '8XZFG')\n",
    "                                  , ('6', 2400, 23, '9', 3, 'SONY', '6XZFG')\n",
    "                                  , ('7', 3500, 34, '23', None, 'PHILIPS', '7XZFG')\n",
    "                                  , ('8', 2500, 33, '23', 5, 'LG', '8XZFG')\n",
    "                                  , ('9', 2400, 22, '2.5', 0, 'Apple', '9XZFG')\n",
    "                                  , ('18', 2400, 22, '2.5', 0, 'Apple', '9XZFG')\n",
    "                                  , ('10', None, 23, '6', 4, None, None)\n",
    "                                  , ('15', 2750, 27, '8', 1, 'SONY', 'DCEZX15')\n",
    "                                  , ('11', 2, 20, '6', 3, 'SONY', '11XZFG')\n",
    "                                  , ('12', 3500, 32, '6', 3, 'LG', '12XZFG')\n",
    "                                  , ('17', 3500, 39, '6', 3, 'LG', '12XZFG')\n",
    "                                  , ('13', 2400, 24, '16.5', 5, 'Apple', '13XZFG')\n",
    "                                  , ('14', 3500, 34, '6', 6, 'DELL', '14XZFG')\n",
    "                                  , ('15', 2400, 22, '6', 4, 'SONY', '15XZFG')],\n",
    "                              ['Id', 'Salary', 'age', 'experience', 'Coef', 'TV ', 'CODE_ID'])"
   ]
  },
  {
   "cell_type": "code",
   "execution_count": 36,
   "id": "64778149-17d9-4af2-a106-83dbc0ab39cd",
   "metadata": {},
   "outputs": [],
   "source": [
    "features = ['Salary', 'age', 'Coef']"
   ]
  },
  {
   "cell_type": "code",
   "execution_count": 37,
   "id": "54e3b48d-87ed-4686-9a04-777b3d274856",
   "metadata": {},
   "outputs": [],
   "source": [
    "quantiles = [0.25, 0.75]"
   ]
  },
  {
   "cell_type": "code",
   "execution_count": 56,
   "id": "2c0097e4-9a60-4741-988b-a2319056ffed",
   "metadata": {},
   "outputs": [],
   "source": [
    "cutOffPoints = []"
   ]
  },
  {
   "cell_type": "code",
   "execution_count": 26,
   "id": "cf685c37-0a88-4907-b961-5d45012be57d",
   "metadata": {},
   "outputs": [
    {
     "name": "stdout",
     "output_type": "stream",
     "text": [
      "Requirement already satisfied: py in /opt/conda/lib/python3.9/site-packages (1.10.0)\n"
     ]
    }
   ],
   "source": [
    "!pip install py"
   ]
  },
  {
   "cell_type": "code",
   "execution_count": 27,
   "id": "7a6e26a7-18c3-4138-9adf-1838298533ff",
   "metadata": {},
   "outputs": [],
   "source": [
    "from py.path import local\n",
    "from pyspark.sql.types import *\n",
    "from pyspark.sql import Row as row\n",
    "from pyspark.sql import DataFrameStatFunctions as statFunc"
   ]
  },
  {
   "cell_type": "code",
   "execution_count": 57,
   "id": "d922a79d-9b52-4100-a3d7-34704fe8afea",
   "metadata": {},
   "outputs": [],
   "source": [
    "for feature in features : \n",
    "    qts = statFunc(dataF).approxQuantile(feature, quantiles, 0)\n",
    "    IQR = qts[1] - qts[0]\n",
    "    cutOffPoints.append((feature, [qts[0] - 1.5 * IQR, qts[1] + 1.5 * IQR]))\n",
    "cutOffPoints = dict(cutOffPoints)"
   ]
  },
  {
   "cell_type": "code",
   "execution_count": 58,
   "id": "8b6c8d62-0c91-4f5a-b762-c35c9b6d664f",
   "metadata": {},
   "outputs": [
    {
     "data": {
      "text/plain": [
       "{'Salary': [750.0, 5150.0], 'age': [5.5, 49.5], 'Coef': [0.0, 8.0]}"
      ]
     },
     "execution_count": 58,
     "metadata": {},
     "output_type": "execute_result"
    }
   ],
   "source": [
    "cutOffPoints"
   ]
  },
  {
   "cell_type": "code",
   "execution_count": 59,
   "id": "0f61119e-5623-4d17-b275-c1abf7c27246",
   "metadata": {},
   "outputs": [],
   "source": [
    "aberrant_value = dataF.select(*['id'] + [\n",
    "    (\n",
    "        (dataF[f] < cutOffPoints[f][0]) |\n",
    "        (dataF[f] > cutOffPoints[f][1])\n",
    "    ).alias(f + '_b') for f in features\n",
    "])"
   ]
  },
  {
   "cell_type": "code",
   "execution_count": 60,
   "id": "7139623c-a7d0-4b25-be67-b8a140ca816f",
   "metadata": {},
   "outputs": [
    {
     "name": "stdout",
     "output_type": "stream",
     "text": [
      "+---+--------+-----+------+\n",
      "| id|Salary_b|age_b|Coef_b|\n",
      "+---+--------+-----+------+\n",
      "|  1|   false|false| false|\n",
      "|  2|   false|false| false|\n",
      "|  3|   false|false| false|\n",
      "|  4|    true|false| false|\n",
      "|  8|   false|false| false|\n",
      "|  6|   false|false| false|\n",
      "|  7|   false|false|  null|\n",
      "|  8|   false|false| false|\n",
      "|  9|   false|false| false|\n",
      "| 18|   false|false| false|\n",
      "| 10|    null|false| false|\n",
      "| 15|   false|false| false|\n",
      "| 11|    true|false| false|\n",
      "| 12|   false|false| false|\n",
      "| 17|   false|false| false|\n",
      "| 13|   false|false| false|\n",
      "| 14|   false|false| false|\n",
      "| 15|   false|false| false|\n",
      "+---+--------+-----+------+\n",
      "\n"
     ]
    }
   ],
   "source": [
    "aberrant_value.show()"
   ]
  },
  {
   "cell_type": "code",
   "execution_count": 61,
   "id": "0c7861f5-690c-4d2b-8ee0-6f08fe2c9240",
   "metadata": {},
   "outputs": [],
   "source": [
    "withaberrant_value = dataF.join(aberrant_value, on = 'Id')"
   ]
  },
  {
   "cell_type": "code",
   "execution_count": 62,
   "id": "7d787a16-dab4-4806-8f66-a7f166137bf2",
   "metadata": {},
   "outputs": [
    {
     "name": "stdout",
     "output_type": "stream",
     "text": [
      "+---+------+----+\n",
      "| Id|Salary|Coef|\n",
      "+---+------+----+\n",
      "| 11|     2|   3|\n",
      "|  4|     1|   3|\n",
      "+---+------+----+\n",
      "\n"
     ]
    }
   ],
   "source": [
    "(\n",
    "    withaberrant_value.filter('Salary_b').select(\"Id\",'Salary','Coef').show()\n",
    ")"
   ]
  },
  {
   "cell_type": "code",
   "execution_count": 63,
   "id": "371e310e-10e0-4e21-8d33-3395b60bda47",
   "metadata": {},
   "outputs": [],
   "source": [
    "df_no_aberrent_value = (\n",
    "    withaberrant_value.filter('!Salary_b').select(dataF.columns)\n",
    ")"
   ]
  },
  {
   "cell_type": "code",
   "execution_count": 64,
   "id": "45c761fb-3ef9-4e10-a1ce-b9382114add4",
   "metadata": {},
   "outputs": [
    {
     "name": "stderr",
     "output_type": "stream",
     "text": [
      "                                                                                \r"
     ]
    },
    {
     "name": "stdout",
     "output_type": "stream",
     "text": [
      "+---+------+---+----------+----+-------+-------+\n",
      "| Id|Salary|age|experience|Coef|    TV |CODE_ID|\n",
      "+---+------+---+----------+----+-------+-------+\n",
      "|  7|  3500| 34|        23|null|PHILIPS|  7XZFG|\n",
      "| 15|  2750| 27|         8|   1|   SONY|DCEZX15|\n",
      "| 15|  2750| 27|         8|   1|   SONY|DCEZX15|\n",
      "| 15|  2400| 22|         6|   4|   SONY| 15XZFG|\n",
      "| 15|  2400| 22|         6|   4|   SONY| 15XZFG|\n",
      "|  3|  2400| 22|       2.5|   5|     LG|  3XZFG|\n",
      "|  8|  3500| 33|        23|   5|     LG|  8XZFG|\n",
      "|  8|  3500| 33|        23|   5|     LG|  8XZFG|\n",
      "|  8|  2500| 33|        23|   5|     LG|  8XZFG|\n",
      "|  8|  2500| 33|        23|   5|     LG|  8XZFG|\n",
      "| 18|  2400| 22|       2.5|   0|  Apple|  9XZFG|\n",
      "| 17|  3500| 39|         6|   3|     LG| 12XZFG|\n",
      "|  6|  2400| 23|         9|   3|   SONY|  6XZFG|\n",
      "|  9|  2400| 22|       2.5|   0|  Apple|  9XZFG|\n",
      "|  1|  2400| 32|         9|   3|PHILIPS|  1XZFG|\n",
      "| 12|  3500| 32|         6|   3|     LG| 12XZFG|\n",
      "| 13|  2400| 24|      16.5|   5|  Apple| 13XZFG|\n",
      "| 14|  3500| 34|         6|   6|   DELL| 14XZFG|\n",
      "|  2|  2400| 23|        13|   3|  Apple|  2XZFG|\n",
      "+---+------+---+----------+----+-------+-------+\n",
      "\n"
     ]
    }
   ],
   "source": [
    "df_no_aberrent_value.show()"
   ]
  },
  {
   "cell_type": "code",
   "execution_count": 65,
   "id": "71b4cdcc-3c4f-45db-8ded-6f06a6308038",
   "metadata": {},
   "outputs": [
    {
     "name": "stderr",
     "output_type": "stream",
     "text": [
      "[Stage 115:====================================================>(198 + 1) / 200]\r"
     ]
    },
    {
     "name": "stdout",
     "output_type": "stream",
     "text": [
      "+-------+------------------+------------------+------------------+------------------+------------------+-----+-------+\n",
      "|summary|                Id|            Salary|               age|        experience|              Coef|  TV |CODE_ID|\n",
      "+-------+------------------+------------------+------------------+------------------+------------------+-----+-------+\n",
      "|  count|                19|                19|                19|                19|                18|   19|     19|\n",
      "|   mean|10.210526315789474|2794.7368421052633|28.263157894736842|11.368421052631579| 3.388888888888889| null|   null|\n",
      "| stddev| 5.148667005140705| 503.5691326372469| 5.635621875013321| 7.886067364633158|1.8515141304249878| null|   null|\n",
      "|    min|                 1|              2400|                22|                13|                 0|Apple| 12XZFG|\n",
      "|    max|                 9|              3500|                39|                 9|                 6| SONY|DCEZX15|\n",
      "+-------+------------------+------------------+------------------+------------------+------------------+-----+-------+\n",
      "\n"
     ]
    },
    {
     "name": "stderr",
     "output_type": "stream",
     "text": [
      "                                                                                \r"
     ]
    }
   ],
   "source": [
    "descriptive_stats = df_no_aberrent_value.describe()\n",
    "descriptive_stats.show()"
   ]
  },
  {
   "cell_type": "code",
   "execution_count": 66,
   "id": "ee51a02d-dd1e-4039-8ef6-f8254199511e",
   "metadata": {},
   "outputs": [
    {
     "name": "stderr",
     "output_type": "stream",
     "text": [
      "[Stage 119:====================================================>(198 + 1) / 200]\r"
     ]
    },
    {
     "name": "stdout",
     "output_type": "stream",
     "text": [
      "+-------+------------------+------------------+------------------+\n",
      "|summary|            Salary|               age|              Coef|\n",
      "+-------+------------------+------------------+------------------+\n",
      "|  count|                19|                19|                18|\n",
      "|   mean|2794.7368421052633|28.263157894736842| 3.388888888888889|\n",
      "| stddev| 503.5691326372469| 5.635621875013321|1.8515141304249878|\n",
      "|    min|              2400|                22|                 0|\n",
      "|    max|              3500|                39|                 6|\n",
      "+-------+------------------+------------------+------------------+\n",
      "\n"
     ]
    },
    {
     "name": "stderr",
     "output_type": "stream",
     "text": [
      "                                                                                \r"
     ]
    }
   ],
   "source": [
    "descriptive_stats_f = df_no_aberrent_value.describe(features)\n",
    "descriptive_stats_f.show()"
   ]
  },
  {
   "cell_type": "code",
   "execution_count": 69,
   "id": "9159bc30-f632-4a6d-bf53-e51878cffe9f",
   "metadata": {},
   "outputs": [
    {
     "name": "stderr",
     "output_type": "stream",
     "text": [
      "[Stage 127:===========================================>         (163 + 1) / 200]\r"
     ]
    },
    {
     "name": "stdout",
     "output_type": "stream",
     "text": [
      "CORRELATION :  0.7639837160241238\n"
     ]
    },
    {
     "name": "stderr",
     "output_type": "stream",
     "text": [
      "                                                                                \r"
     ]
    }
   ],
   "source": [
    "correlation = df_no_aberrent_value.corr('Salary', 'age')\n",
    "print('CORRELATION : ', correlation)"
   ]
  },
  {
   "cell_type": "code",
   "execution_count": null,
   "id": "53c03dbd-cb52-4d04-9ad3-7cc0c207a7f4",
   "metadata": {},
   "outputs": [],
   "source": []
  }
 ],
 "metadata": {
  "kernelspec": {
   "display_name": "Python 3 (ipykernel)",
   "language": "python",
   "name": "python3"
  },
  "language_info": {
   "codemirror_mode": {
    "name": "ipython",
    "version": 3
   },
   "file_extension": ".py",
   "mimetype": "text/x-python",
   "name": "python",
   "nbconvert_exporter": "python",
   "pygments_lexer": "ipython3",
   "version": "3.9.5"
  }
 },
 "nbformat": 4,
 "nbformat_minor": 5
}
