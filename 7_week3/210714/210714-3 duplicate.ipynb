{
 "cells": [
  {
   "cell_type": "code",
   "execution_count": 1,
   "id": "f77769fb-ee9c-4087-89f7-6fafe66ac99d",
   "metadata": {},
   "outputs": [],
   "source": [
    "from pyspark.sql import SparkSession\n",
    "import warnings\n",
    "warnings.filterwarnings('ignore')"
   ]
  },
  {
   "cell_type": "code",
   "execution_count": 2,
   "id": "6cbb4229-62b7-4f7b-90bd-faec441285da",
   "metadata": {
    "collapsed": true,
    "jupyter": {
     "outputs_hidden": true
    },
    "tags": []
   },
   "outputs": [
    {
     "name": "stderr",
     "output_type": "stream",
     "text": [
      "WARNING: An illegal reflective access operation has occurred\n",
      "WARNING: Illegal reflective access by org.apache.spark.unsafe.Platform (file:/usr/local/spark-3.1.2-bin-hadoop3.2/jars/spark-unsafe_2.12-3.1.2.jar) to constructor java.nio.DirectByteBuffer(long,int)\n",
      "WARNING: Please consider reporting this to the maintainers of org.apache.spark.unsafe.Platform\n",
      "WARNING: Use --illegal-access=warn to enable warnings of further illegal reflective access operations\n",
      "WARNING: All illegal access operations will be denied in a future release\n",
      "21/07/14 02:16:26 WARN NativeCodeLoader: Unable to load native-hadoop library for your platform... using builtin-java classes where applicable\n",
      "Using Spark's default log4j profile: org/apache/spark/log4j-defaults.properties\n",
      "Setting default log level to \"WARN\".\n",
      "To adjust logging level use sc.setLogLevel(newLevel). For SparkR, use setLogLevel(newLevel).\n",
      "21/07/14 02:16:27 WARN Utils: Service 'SparkUI' could not bind on port 4040. Attempting port 4041.\n"
     ]
    }
   ],
   "source": [
    "spark = SparkSession.builder.master('local').appName('duplicate').getOrCreate()"
   ]
  },
  {
   "cell_type": "code",
   "execution_count": 3,
   "id": "d250df15-8925-43d8-a7f4-abcc4c1481aa",
   "metadata": {},
   "outputs": [],
   "source": [
    "dataF = spark.createDataFrame([('1','2400','32','9','3','PHILIPS','1XZFG')\n",
    "            , ('2','2400','23','13','3','Apple','2XZFG')\n",
    "            , ('3','2400','22','2.5','0','LG','3XZFG')\n",
    "            , ('4','2400','33','16.5','3','None','4XZFG')\n",
    "            , ('8','3500','33','23','5.5','LG','8XZFG')\n",
    "            , ('6','2400','23','9','0','SONY','6XZFG')\n",
    "            , ('7','3500','33','23','5.5','PHILIPS','7XZFG')\n",
    "            , ('8','3500','33','23','5.5','LG','8XZFG')\n",
    "            , ('9','2400','22','2.5','0','Apple','9XZFG')\n",
    "            , ('18','2400','22','2.5','0','Apple','9XZFG')\n",
    "            , ('10','2400','23','6','0','None','10XZFG')\n",
    "            , ('15','2450','23','8','1','SONY','DCEZX15')\n",
    "            , ('11','1200','23','6','2','SONY','11XZFG')\n",
    "            , ('12','3500','23','6','2','LG','12XZFG')\n",
    "            , ('17','3500','23','6','2','LG','12XZFG')\n",
    "            , ('13','2400','33','16.5','5.5','Apple','13XZFG')\n",
    "            , ('14','3500','23','6','0','DELL','14XZFG')\n",
    "            , ('15','2400','22','6','1','SONY','15XZFG')],\n",
    "['Id','Salary','age','experience','Coef','TV ','CODE_ID'])"
   ]
  },
  {
   "cell_type": "code",
   "execution_count": 4,
   "id": "793c28a1-fb8a-46f5-a447-da7b1000277d",
   "metadata": {},
   "outputs": [
    {
     "name": "stderr",
     "output_type": "stream",
     "text": [
      "[Stage 0:>                                                          (0 + 1) / 1]\r"
     ]
    },
    {
     "name": "stdout",
     "output_type": "stream",
     "text": [
      "+---+------+---+----------+----+-------+-------+\n",
      "| Id|Salary|age|experience|Coef|    TV |CODE_ID|\n",
      "+---+------+---+----------+----+-------+-------+\n",
      "|  1|  2400| 32|         9|   3|PHILIPS|  1XZFG|\n",
      "|  2|  2400| 23|        13|   3|  Apple|  2XZFG|\n",
      "|  3|  2400| 22|       2.5|   0|     LG|  3XZFG|\n",
      "|  4|  2400| 33|      16.5|   3|   None|  4XZFG|\n",
      "|  8|  3500| 33|        23| 5.5|     LG|  8XZFG|\n",
      "|  6|  2400| 23|         9|   0|   SONY|  6XZFG|\n",
      "|  7|  3500| 33|        23| 5.5|PHILIPS|  7XZFG|\n",
      "|  8|  3500| 33|        23| 5.5|     LG|  8XZFG|\n",
      "|  9|  2400| 22|       2.5|   0|  Apple|  9XZFG|\n",
      "| 18|  2400| 22|       2.5|   0|  Apple|  9XZFG|\n",
      "| 10|  2400| 23|         6|   0|   None| 10XZFG|\n",
      "| 15|  2450| 23|         8|   1|   SONY|DCEZX15|\n",
      "| 11|  1200| 23|         6|   2|   SONY| 11XZFG|\n",
      "| 12|  3500| 23|         6|   2|     LG| 12XZFG|\n",
      "| 17|  3500| 23|         6|   2|     LG| 12XZFG|\n",
      "| 13|  2400| 33|      16.5| 5.5|  Apple| 13XZFG|\n",
      "| 14|  3500| 23|         6|   0|   DELL| 14XZFG|\n",
      "| 15|  2400| 22|         6|   1|   SONY| 15XZFG|\n",
      "+---+------+---+----------+----+-------+-------+\n",
      "\n"
     ]
    },
    {
     "name": "stderr",
     "output_type": "stream",
     "text": [
      "                                                                                \r"
     ]
    }
   ],
   "source": [
    "dataF.show()"
   ]
  },
  {
   "cell_type": "code",
   "execution_count": 5,
   "id": "28698da9-e342-4ad7-9c87-dbf91b2b345d",
   "metadata": {},
   "outputs": [
    {
     "name": "stderr",
     "output_type": "stream",
     "text": [
      "                                                                                \r"
     ]
    },
    {
     "data": {
      "text/plain": [
       "(18, 17)"
      ]
     },
     "execution_count": 5,
     "metadata": {},
     "output_type": "execute_result"
    }
   ],
   "source": [
    "dataF.count(), dataF.distinct().count()"
   ]
  },
  {
   "cell_type": "code",
   "execution_count": 6,
   "id": "c8d94dc3-9059-4443-9cc8-31c945c48e89",
   "metadata": {},
   "outputs": [],
   "source": [
    "all_deleted = dataF.dropDuplicates()"
   ]
  },
  {
   "cell_type": "code",
   "execution_count": 7,
   "id": "a72adeff-bc83-4e57-af5d-416aafec0e24",
   "metadata": {},
   "outputs": [
    {
     "name": "stderr",
     "output_type": "stream",
     "text": [
      "                                                                                \r"
     ]
    },
    {
     "name": "stdout",
     "output_type": "stream",
     "text": [
      "+---+------+---+----------+----+---+-------+-----+\n",
      "| Id|Salary|age|experience|Coef|TV |CODE_ID|count|\n",
      "+---+------+---+----------+----+---+-------+-----+\n",
      "|  8|  3500| 33|        23| 5.5| LG|  8XZFG|    2|\n",
      "+---+------+---+----------+----+---+-------+-----+\n",
      "\n"
     ]
    },
    {
     "name": "stderr",
     "output_type": "stream",
     "text": [
      "                                                                                \r"
     ]
    }
   ],
   "source": [
    "(dataF.groupBy(dataF.columns).count().filter('count > 1').show())"
   ]
  },
  {
   "cell_type": "code",
   "execution_count": 9,
   "id": "79e39109-6113-4496-abbb-140df23f2cf7",
   "metadata": {},
   "outputs": [
    {
     "name": "stderr",
     "output_type": "stream",
     "text": [
      "                                                                                \r"
     ]
    },
    {
     "name": "stdout",
     "output_type": "stream",
     "text": [
      "+------+---+----------+----+-----+-------+-----+\n",
      "|Salary|age|experience|Coef|  TV |CODE_ID|count|\n",
      "+------+---+----------+----+-----+-------+-----+\n",
      "|  2400| 22|       2.5|   0|Apple|  9XZFG|    2|\n",
      "|  3500| 23|         6|   2|   LG| 12XZFG|    2|\n",
      "+------+---+----------+----+-----+-------+-----+\n",
      "\n"
     ]
    }
   ],
   "source": [
    "(all_deleted.groupBy([col for col in all_deleted.columns if col != 'Id']).count().filter('count > 1').show())"
   ]
  },
  {
   "cell_type": "code",
   "execution_count": 10,
   "id": "cc53c809-3678-4c1f-96c5-8eb46265f074",
   "metadata": {},
   "outputs": [],
   "source": [
    "id_deleted = all_deleted.dropDuplicates(subset = [col for col in all_deleted.columns if col != 'Id'])"
   ]
  },
  {
   "cell_type": "code",
   "execution_count": 12,
   "id": "b6a73b0d-bcad-4dfb-b664-1ee2141c37ab",
   "metadata": {},
   "outputs": [
    {
     "name": "stderr",
     "output_type": "stream",
     "text": [
      "                                                                                \r"
     ]
    },
    {
     "data": {
      "text/plain": [
       "(15, 15)"
      ]
     },
     "execution_count": 12,
     "metadata": {},
     "output_type": "execute_result"
    }
   ],
   "source": [
    "id_deleted.count(), id_deleted.distinct().count()"
   ]
  },
  {
   "cell_type": "code",
   "execution_count": 14,
   "id": "e1462c95-a514-428b-bb23-61c041c13a80",
   "metadata": {},
   "outputs": [],
   "source": [
    "import pyspark.sql.functions as sqlfunct"
   ]
  },
  {
   "cell_type": "code",
   "execution_count": 15,
   "id": "86f64d5d-6438-4eed-a0aa-42403114f430",
   "metadata": {},
   "outputs": [
    {
     "name": "stderr",
     "output_type": "stream",
     "text": [
      "[Stage 82:=====================================================>(199 + 1) / 200]\r"
     ]
    },
    {
     "name": "stdout",
     "output_type": "stream",
     "text": [
      "+---------+------------------+\n",
      "|Count_Ids|Count_Distinct_Ids|\n",
      "+---------+------------------+\n",
      "|       15|                14|\n",
      "+---------+------------------+\n",
      "\n"
     ]
    },
    {
     "name": "stderr",
     "output_type": "stream",
     "text": [
      "                                                                                \r"
     ]
    }
   ],
   "source": [
    "id_deleted.agg(\n",
    "    sqlfunct.count('Id').alias('Count_Ids'),\n",
    "    sqlfunct.countDistinct('Id').alias('Count_Distinct_Ids')\n",
    ").show()"
   ]
  },
  {
   "cell_type": "code",
   "execution_count": 16,
   "id": "94e773ff-f334-4126-ada0-deb6c61200d9",
   "metadata": {},
   "outputs": [
    {
     "name": "stderr",
     "output_type": "stream",
     "text": [
      "                                                                                \r"
     ]
    },
    {
     "name": "stdout",
     "output_type": "stream",
     "text": [
      "+---+-----+\n",
      "| Id|count|\n",
      "+---+-----+\n",
      "| 15|    2|\n",
      "+---+-----+\n",
      "\n"
     ]
    }
   ],
   "source": [
    "(id_deleted.groupBy('Id').count().filter('count > 1').show())"
   ]
  },
  {
   "cell_type": "code",
   "execution_count": 17,
   "id": "df3d6284-05b2-4a37-a11c-3ef09db79439",
   "metadata": {},
   "outputs": [],
   "source": [
    "new_id = (\n",
    "    id_deleted.select(\n",
    "        [sqlfunct.monotonically_increasing_id().alias('Id')] + \n",
    "        [col for col in id_deleted.columns if col != 'Id']\n",
    "    )\n",
    ")"
   ]
  },
  {
   "cell_type": "code",
   "execution_count": 18,
   "id": "68dfcc5b-be10-49f1-b5a1-bf7063421aef",
   "metadata": {},
   "outputs": [
    {
     "name": "stderr",
     "output_type": "stream",
     "text": [
      "                                                                                \r"
     ]
    },
    {
     "name": "stdout",
     "output_type": "stream",
     "text": [
      "+-------------+------+---+----------+----+-------+-------+\n",
      "|           Id|Salary|age|experience|Coef|    TV |CODE_ID|\n",
      "+-------------+------+---+----------+----+-------+-------+\n",
      "|  25769803776|  3500| 23|         6|   2|     LG| 12XZFG|\n",
      "|  51539607552|  3500| 33|        23| 5.5|PHILIPS|  7XZFG|\n",
      "| 249108103168|  2400| 32|         9|   3|PHILIPS|  1XZFG|\n",
      "| 412316860416|  2400| 22|       2.5|   0|  Apple|  9XZFG|\n",
      "| 498216206336|  2400| 23|         6|   0|   None| 10XZFG|\n",
      "| 566935683072|  2400| 23|        13|   3|  Apple|  2XZFG|\n",
      "| 704374636544|  1200| 23|         6|   2|   SONY| 11XZFG|\n",
      "| 721554505728|  2400| 33|      16.5|   3|   None|  4XZFG|\n",
      "| 893353197568|  3500| 23|         6|   0|   DELL| 14XZFG|\n",
      "| 962072674304|  2400| 33|      16.5| 5.5|  Apple| 13XZFG|\n",
      "| 970662608896|  2400| 22|         6|   1|   SONY| 15XZFG|\n",
      "|1133871366144|  3500| 33|        23| 5.5|     LG|  8XZFG|\n",
      "|1142461300736|  2400| 23|         9|   0|   SONY|  6XZFG|\n",
      "|1503238553600|  2400| 22|       2.5|   0|     LG|  3XZFG|\n",
      "|1606317768704|  2450| 23|         8|   1|   SONY|DCEZX15|\n",
      "+-------------+------+---+----------+----+-------+-------+\n",
      "\n"
     ]
    }
   ],
   "source": [
    "new_id.show()"
   ]
  },
  {
   "cell_type": "code",
   "execution_count": null,
   "id": "4d3ae21a-bb50-4050-a418-88de2f5114a9",
   "metadata": {},
   "outputs": [],
   "source": []
  }
 ],
 "metadata": {
  "kernelspec": {
   "display_name": "Python 3 (ipykernel)",
   "language": "python",
   "name": "python3"
  },
  "language_info": {
   "codemirror_mode": {
    "name": "ipython",
    "version": 3
   },
   "file_extension": ".py",
   "mimetype": "text/x-python",
   "name": "python",
   "nbconvert_exporter": "python",
   "pygments_lexer": "ipython3",
   "version": "3.9.5"
  }
 },
 "nbformat": 4,
 "nbformat_minor": 5
}
